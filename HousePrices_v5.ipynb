{
 "cells": [
  {
   "cell_type": "code",
   "execution_count": 613,
   "metadata": {
    "collapsed": true
   },
   "outputs": [],
   "source": [
    "import numpy as np\n",
    "import pandas as pd\n",
    "import os\n",
    "\n",
    "np.random.seed(165)\n",
    "\n",
    "%matplotlib inline\n",
    "import matplotlib\n",
    "import matplotlib.pyplot as plt\n",
    "plt.rcParams['axes.labelsize'] = 12\n",
    "plt.rcParams['xtick.labelsize'] = 10\n",
    "plt.rcParams['ytick.labelsize'] = 10\n",
    "\n",
    "#path=\"C:\\\\Users\\jsciamma\\Documents\\Patrick\\ML\\Kaggle\\HousePrices\"\n",
    "path=\"C:\\\\Users\\\\Patrick\\ML\\HousePrices\"\n",
    "os.chdir(path)\n",
    "os.getcwd()\n",
    "\n",
    "train = pd.read_csv(\"data\\\\train.csv\")\n",
    "test = pd.read_csv(\"data\\\\test.csv\")"
   ]
  },
  {
   "cell_type": "code",
   "execution_count": 614,
   "metadata": {
    "collapsed": true
   },
   "outputs": [],
   "source": [
    "traintrain = train.iloc[0:1168, ]\n",
    "traintest = train.iloc[1168:, ]"
   ]
  },
  {
   "cell_type": "code",
   "execution_count": 648,
   "metadata": {},
   "outputs": [],
   "source": [
    "train.reset_index(inplace=True)\n",
    "test.reset_index(inplace=True)\n",
    "test.head()\n",
    "train.set_index('Id', inplace=True)\n",
    "test.set_index('Id', inplace=True)\n",
    "train.loc[train.index[0:1168],'Set']='traintrain'\n",
    "train.loc[train.index[1168:],'Set']='traintest'\n",
    "test['Set']='test'\n"
   ]
  },
  {
   "cell_type": "markdown",
   "metadata": {},
   "source": [
    "## count variables"
   ]
  },
  {
   "cell_type": "code",
   "execution_count": 644,
   "metadata": {},
   "outputs": [],
   "source": [
    "def correct_count_variables():\n",
    "    count_variables = ['BsmtFullBath', 'BsmtHalfBath', 'FullBath', 'HalfBath', \n",
    "                       'GarageCars', 'BedroomAbvGr','KitchenAbvGr', 'TotRmsAbvGrd', 'Fireplaces']\n",
    "    full.loc[full.BsmtFullBath.isnull(), 'BsmtFullBath'] = 0\n",
    "    full.loc[full.BsmtHalfBath.isnull(), 'BsmtHalfBath'] = 0\n",
    "    full.loc[full.GarageCars.isnull(), 'GarageCars'] = 0\n",
    "    return count_variables"
   ]
  },
  {
   "cell_type": "markdown",
   "metadata": {},
   "source": [
    "## convert some categories to main distinguishing feature"
   ]
  },
  {
   "cell_type": "code",
   "execution_count": 667,
   "metadata": {},
   "outputs": [],
   "source": [
    "def convert_to_binary():\n",
    "    full['Bin_SaleCondition_Partial'] = (full.SaleCondition == 'Partial').astype(int)\n",
    "    full['Bin_SaleType_New'] = (full.SaleType == 'New').astype(int)\n",
    "    full['Bin_Condition_Artery'] = ((full.Condition1 == 'Artery') | (full.Condition2 == 'Artery')).astype(int)\n",
    "    full['Bin_Functional_Typ'] = (full.Functional == 'Typ').astype(int)\n",
    "    full['Bin_CentralAir_Y'] = (full.CentralAir == 'Y').astype(int)\n",
    "    full['Bin_Electrical'] = (full.Electrical == 'SBrkr').astype(int)\n",
    "    full['Bin_Heating'] = (full.Heating == 'GasA').astype(int)\n",
    "    full['Bin_LandContour'] = (full.LandContour == 'Bnk').astype(int)\n",
    "    return ['SaleCondition', 'SaleType', 'Condition1', 'Condition2', 'Functional', 'CentralAir',\n",
    "           'Electrical', 'Heating', 'LandContour'], list(full.filter(regex='Bin_').columns)"
   ]
  },
  {
   "cell_type": "markdown",
   "metadata": {},
   "source": [
    "## convert surface to ratios (as we are solving for price per sq ft"
   ]
  },
  {
   "cell_type": "code",
   "execution_count": 670,
   "metadata": {},
   "outputs": [],
   "source": [
    "def convert_surfaces():\n",
    "    surfaces = (list(full.filter(regex='SF').columns) + \n",
    "                ['LotArea','MasVnrArea','GarageArea','EnclosedPorch',\n",
    "                 '3SsnPorch','ScreenPorch','PoolArea', 'LotFrontage'])\n",
    "    # replace NAs with 0s where correct\n",
    "    for c in surfaces:\n",
    "        full.loc[np.isnan(full[c]), c] = 0\n",
    "    # create surface ratio to GrLiveArea\n",
    "    for c in surfaces:\n",
    "        full[\"prop_\" + c] = full[c] / full.GrLivArea\n",
    "    return surfaces, [\"prop_\" + c for c in surfaces]"
   ]
  },
  {
   "cell_type": "markdown",
   "metadata": {},
   "source": [
    "## convert quality indicators"
   ]
  },
  {
   "cell_type": "code",
   "execution_count": 663,
   "metadata": {
    "collapsed": true
   },
   "outputs": [],
   "source": [
    "# convert quality indicators to a linear scale\n",
    "def convert_quality():\n",
    "    for c in ['Street', 'GarageQual', 'GarageCond', 'LotShape', 'LandSlope', 'ExterQual', \n",
    "              'ExterCond', 'BsmtCond', 'BsmtQual', 'HeatingQC', 'KitchenQual', \n",
    "              'FireplaceQu', 'GarageFinish', 'BsmtFinType1', 'BsmtFinType2']:\n",
    "        full.loc[full[c].isnull(), c] = 'NA'\n",
    "    cleanup_nums = {\n",
    "        \"GarageQual\":     {\"NA\" : 0, \"Po\": 1, \"Fa\": 2, \"TA\": 3, \"Gd\" : 4, \"Ex\" : 5},\n",
    "        \"GarageCond\":     {\"NA\" : 0, \"Po\": 1, \"Fa\": 2, \"TA\": 3, \"Gd\" : 4, \"Ex\" : 5},\n",
    "        \"LotShape\":     {\"Reg\" : 0, \"IR1\": 1, \"IR2\": 2, \"IR3\": 3},\n",
    "        \"LandSlope\":     {\"Gtl\" : 0, \"Mod\": 1, \"Sev\": 2},\n",
    "        \"ExterQual\":     {\"NA\" : 0, \"Po\": 1, \"Fa\": 2, \"TA\": 3, \"Gd\" : 4, \"Ex\" : 5},\n",
    "        \"ExterCond\":     {\"NA\" : 0, \"Po\": 1, \"Fa\": 2, \"TA\": 3, \"Gd\" : 4, \"Ex\" : 5},\n",
    "        \"BsmtCond\":     {\"NA\" : 0, \"Po\": 1, \"Fa\": 2, \"TA\": 3, \"Gd\" : 4, \"Ex\" : 5},\n",
    "        \"BsmtQual\":     {\"NA\" : 0, \"Po\": 1, \"Fa\": 2, \"TA\": 3, \"Gd\" : 4, \"Ex\" : 5},\n",
    "        \"HeatingQC\":     {\"Po\": 1, \"Fa\": 2, \"TA\": 3, \"Gd\" : 4, \"Ex\" : 5},\n",
    "        \"KitchenQual\":     {\"NA\" : 0,\"Po\": 1, \"Fa\": 2, \"TA\": 3, \"Gd\" : 4, \"Ex\" : 5},\n",
    "        \"FireplaceQu\":     {\"NA\" : 0,\"Po\": 1, \"Fa\": 2, \"TA\": 3, \"Gd\" : 4, \"Ex\" : 5},\n",
    "        \"GarageFinish\":     {\"NA\" : 0,\"Unf\": 1, \"RFn\": 2, \"Fin\": 3},\n",
    "        \"BsmtFinType1\":     {\"NA\" : 0,\"Unf\": 1, \"LwQ\": 2, \"Rec\": 3, \"BLQ\": 4, \"ALQ\":5, \"GLQ\":6},\n",
    "        \"BsmtFinType2\":     {\"NA\" : 0,\"Unf\": 1, \"LwQ\": 2, \"Rec\": 3, \"BLQ\": 4, \"ALQ\":5, \"GLQ\":6},\n",
    "    }\n",
    "    full.replace(cleanup_nums, inplace=True)\n",
    "    return ['GarageQual', 'GarageCond', 'LotShape', 'LandSlope', 'ExterQual', 'ExterCond', \n",
    "            'BsmtCond', 'BsmtQual', 'HeatingQC', 'KitchenQual', 'FireplaceQu', 'GarageFinish',\n",
    "            'BsmtFinType1', 'BsmtFinType2', 'OverallCond', 'OverallQual']\n",
    "        \n"
   ]
  },
  {
   "cell_type": "markdown",
   "metadata": {},
   "source": [
    "## put it all together"
   ]
  },
  {
   "cell_type": "code",
   "execution_count": 671,
   "metadata": {
    "collapsed": true
   },
   "outputs": [],
   "source": [
    "full = pd.concat([train, test], )\n",
    "count_variables = correct_count_variables()\n",
    "drop_binary_variables, binary_variables = convert_to_binary()\n",
    "drop_surface_variables, surface_variables = convert_surfaces()\n",
    "quality_variables = convert_quality()"
   ]
  },
  {
   "cell_type": "code",
   "execution_count": 657,
   "metadata": {},
   "outputs": [],
   "source": [
    "def print_info():\n",
    "    for c in [count_variables, binary_variables, surface_variables, quality_variables]:\n",
    "        print(full[c].info())\n",
    "#print_info()"
   ]
  },
  {
   "cell_type": "code",
   "execution_count": 672,
   "metadata": {},
   "outputs": [
    {
     "name": "stdout",
     "output_type": "stream",
     "text": [
      "<class 'pandas.core.frame.DataFrame'>\n",
      "Int64Index: 2919 entries, 1 to 2919\n",
      "Data columns (total 31 columns):\n",
      "Alley           198 non-null object\n",
      "BldgType        2919 non-null object\n",
      "BsmtExposure    2837 non-null object\n",
      "Exterior1st     2918 non-null object\n",
      "Exterior2nd     2918 non-null object\n",
      "Fence           571 non-null object\n",
      "Foundation      2919 non-null object\n",
      "GarageType      2762 non-null object\n",
      "GarageYrBlt     2760 non-null float64\n",
      "GrLivArea       2919 non-null int64\n",
      "HouseStyle      2919 non-null object\n",
      "LotConfig       2919 non-null object\n",
      "MSSubClass      2919 non-null int64\n",
      "MSZoning        2915 non-null object\n",
      "MasVnrType      2895 non-null object\n",
      "MiscFeature     105 non-null object\n",
      "MiscVal         2919 non-null int64\n",
      "MoSold          2919 non-null int64\n",
      "Neighborhood    2919 non-null object\n",
      "PavedDrive      2919 non-null object\n",
      "PoolQC          10 non-null object\n",
      "RoofMatl        2919 non-null object\n",
      "RoofStyle       2919 non-null object\n",
      "SalePrice       1460 non-null float64\n",
      "Set             2919 non-null object\n",
      "Street          2919 non-null object\n",
      "Utilities       2917 non-null object\n",
      "YearBuilt       2919 non-null int64\n",
      "YearRemodAdd    2919 non-null int64\n",
      "YrSold          2919 non-null int64\n",
      "index           2919 non-null int64\n",
      "dtypes: float64(2), int64(8), object(21)\n",
      "memory usage: 490.3+ KB\n"
     ]
    }
   ],
   "source": [
    "newfields = count_variables + quality_variables + binary_variables + surface_variables\n",
    "oldfields = drop_binary_variables + drop_surface_variables\n",
    "full.drop(newfields + oldfields, axis=1).info()\n"
   ]
  },
  {
   "cell_type": "code",
   "execution_count": 50,
   "metadata": {},
   "outputs": [
    {
     "ename": "SyntaxError",
     "evalue": "invalid syntax (<ipython-input-50-330af818d036>, line 8)",
     "output_type": "error",
     "traceback": [
      "\u001b[1;36m  File \u001b[1;32m\"<ipython-input-50-330af818d036>\"\u001b[1;36m, line \u001b[1;32m8\u001b[0m\n\u001b[1;33m    Xt[]\u001b[0m\n\u001b[1;37m       ^\u001b[0m\n\u001b[1;31mSyntaxError\u001b[0m\u001b[1;31m:\u001b[0m invalid syntax\n"
     ]
    }
   ],
   "source": [
    "# quick tests\n",
    "from sklearn.linear_model import LinearRegression\n",
    "from sklearn.metrics import mean_squared_log_error\n",
    "from sklearn.metrics import mean_squared_error\n",
    "\n",
    "\n",
    "Xt = full.loc[full['Set']=='traintrain', ['MeanSalePricePerSqft', 'GrLivArea']]\n",
    "Xt[]\n",
    "\n",
    "Xt = Xt['MeanSalePricePerSqft']\n",
    "yt = full3.loc[full3['Set']=='traintrain', ['SalePricePerSqft']]\n",
    "lr = LinearRegression()\n",
    "lr.fit(Xt.values.reshape(-1, 1), yt)\n",
    "print(lr.score(Xt.values.reshape(-1, 1),yt))\n",
    "print(np.sqrt(mean_squared_log_error(yt, lr.predict(Xt.values.reshape(-1, 1)))))\n",
    "lr.coef_\n"
   ]
  },
  {
   "cell_type": "code",
   "execution_count": 8,
   "metadata": {},
   "outputs": [
    {
     "name": "stdout",
     "output_type": "stream",
     "text": [
      "count    2919.000000\n",
      "mean        2.800959\n",
      "std         0.715863\n",
      "min         0.000000\n",
      "25%         3.000000\n",
      "50%         3.000000\n",
      "75%         3.000000\n",
      "max         5.000000\n",
      "Name: GarageQual, dtype: float64\n",
      "count    2919.000000\n",
      "mean        2.800959\n",
      "std         0.715863\n",
      "min         0.000000\n",
      "25%         3.000000\n",
      "50%         3.000000\n",
      "75%         3.000000\n",
      "max         5.000000\n",
      "Name: GarageQual, dtype: float64\n"
     ]
    }
   ],
   "source": [
    "print(t.GarageQual.describe())\n",
    "print(full2.GarageQual.describe())"
   ]
  },
  {
   "cell_type": "code",
   "execution_count": 106,
   "metadata": {},
   "outputs": [
    {
     "data": {
      "text/plain": [
       "['GarageQual',\n",
       " 'GarageCond',\n",
       " 'LotShape',\n",
       " 'LandSlope',\n",
       " 'ExterQual',\n",
       " 'ExterCond',\n",
       " 'BsmtCond',\n",
       " 'BsmtQual',\n",
       " 'HeatingQC',\n",
       " 'KitchenQual',\n",
       " 'FireplaceQu',\n",
       " 'GarageFinish']"
      ]
     },
     "execution_count": 106,
     "metadata": {},
     "output_type": "execute_result"
    }
   ],
   "source": [
    "list(cleanup_nums.keys())"
   ]
  },
  {
   "cell_type": "code",
   "execution_count": null,
   "metadata": {
    "collapsed": true
   },
   "outputs": [],
   "source": [
    "def missing_values_table(df): \n",
    "        mis_val = df.isnull().sum()\n",
    "        mis_val_percent = 100 * df.isnull().sum()/len(df)\n",
    "        mis_val_table = pd.concat([mis_val, mis_val_percent], axis=1)\n",
    "        mis_val_table_ren_columns = mis_val_table.rename(\n",
    "        columns = {0 : 'Missing Values', 1 : '% of Total Values'})\n",
    "        return mis_val_table_ren_columns \n",
    "\n",
    "missing_values_table(full)"
   ]
  },
  {
   "cell_type": "code",
   "execution_count": null,
   "metadata": {
    "collapsed": true
   },
   "outputs": [],
   "source": [
    "filter_col = [col for col in full if col.startswith('Bsmt')]\n",
    "\n",
    "#full.loc[full.TotalBsmtSF ==0, filter_col].info()\n",
    "full.Functional.value_counts()\n",
    "import scipy.interpolate as sp\n",
    "import pylab\n",
    "\n",
    "fl = sp.interp1d(full[, y,kind='linear')\n",
    "\n"
   ]
  },
  {
   "cell_type": "code",
   "execution_count": null,
   "metadata": {
    "collapsed": true
   },
   "outputs": [],
   "source": [
    "t_nonulls = traintrain.loc[:,traintrain.isnull().sum() == 0]\n",
    "traintrain.YrSold.hist()"
   ]
  },
  {
   "cell_type": "code",
   "execution_count": null,
   "metadata": {
    "collapsed": true
   },
   "outputs": [],
   "source": [
    "def create_dummies(x):\n",
    "    y = x.drop('Neighborhood', axis=1).dropna(axis=1).loc[:, x.dtypes == object]\n",
    "    return pd.get_dummies(y, columns=y.columns, drop_first=True)\n",
    "\n",
    "def select_nonobjects(x):\n",
    "    return x.dropna(axis=1).loc[:, x.dtypes != object]\n",
    "\n",
    "def add_neighborhood_mean(x):\n",
    "    return pd.DataFrame(index = x.index, data = x.groupby('Neighborhood').SalePrice.transform(np.mean)\n",
    "                       ).rename(columns={'SalePrice':'Neighborhoodmean'})\n",
    "\n",
    "def transform_data(x):\n",
    "    return pd.concat([create_dummies(x),select_nonobjects(x), add_neighborhood_mean(x)], axis=1)\n",
    "\n",
    "#x1 = create_dummies(traintrain)\n",
    "#x2 = select_nonobjects(traintrain)\n",
    "#x3 = add_neighborhood_mean(traintrain)\n",
    "\n",
    "traintrain_transform = transform_data(traintrain)\n"
   ]
  },
  {
   "cell_type": "code",
   "execution_count": null,
   "metadata": {
    "collapsed": true
   },
   "outputs": [],
   "source": [
    "traintrain_transform.info()"
   ]
  },
  {
   "cell_type": "code",
   "execution_count": null,
   "metadata": {
    "collapsed": true
   },
   "outputs": [],
   "source": [
    "#create_dummies(traintrain.drop('Neighborhood', axis=1)).corrwith(traintrain.SalePrice).sort_values(ascending=False)\n",
    "t = traintrain_transform.corrwith(traintrain_transform.SalePrice).sort_values(ascending=False)\n",
    "fields = t[abs(t) > 0.25].index\n",
    "fields\n",
    "def filter_data(traintrain_transform, fields):\n",
    "    return traintrain_transform.loc[:, fields].drop('SalePrice', axis=1)\n",
    "\n",
    "traintrain_transform_filter = filter_data(traintrain_transform, fields)\n",
    "traintrain_transform_filter.info()"
   ]
  },
  {
   "cell_type": "code",
   "execution_count": null,
   "metadata": {
    "collapsed": true
   },
   "outputs": [],
   "source": [
    "\n",
    "from sklearn.preprocessing import StandardScaler\n",
    "from sklearn.pipeline import Pipeline\n",
    "\n",
    "lin_reg = Pipeline([\n",
    "    ('std_scaler', StandardScaler()),\n",
    "    ('lin_reg', LinearRegression()),\n",
    "])\n",
    "\n",
    "lin_reg.fit(traintrain_transform_filter, np.log(traintrain.SalePrice))\n",
    "lin_reg.score(traintrain_transform_filter,np.log(traintrain.SalePrice))"
   ]
  },
  {
   "cell_type": "markdown",
   "metadata": {},
   "source": [
    "## add variables"
   ]
  },
  {
   "cell_type": "code",
   "execution_count": 543,
   "metadata": {},
   "outputs": [
    {
     "name": "stdout",
     "output_type": "stream",
     "text": [
      "<class 'pandas.core.frame.DataFrame'>\n",
      "Int64Index: 2919 entries, 1 to 2919\n",
      "Data columns (total 8 columns):\n",
      "prop_TotalBsmtSF_x_BsmtQual       2919 non-null float64\n",
      "prop_TotalBsmtSF_x_BsmtCond       2919 non-null float64\n",
      "prop_LotArea_x_LotShape           2919 non-null float64\n",
      "prop_LotArea_x_LandSlope          2919 non-null float64\n",
      "prop_BsmtFinSF1_x_BsmtFinType1    2919 non-null float64\n",
      "prop_BsmtFinSF2_x_BsmtFinType2    2919 non-null float64\n",
      "prop_GarageArea_x_GarageQual      2919 non-null float64\n",
      "prop_GarageArea_x_GarageCond      2919 non-null float64\n",
      "dtypes: float64(8)\n",
      "memory usage: 205.2 KB\n"
     ]
    }
   ],
   "source": [
    "def create_cross_variables(x, y):\n",
    "    full[x + '_x_' + y] = full[x] * full[y]\n",
    "create_cross_variables('prop_TotalBsmtSF', 'BsmtQual')\n",
    "create_cross_variables('prop_TotalBsmtSF', 'BsmtCond')\n",
    "create_cross_variables('prop_LotArea', 'LotShape')\n",
    "create_cross_variables('prop_LotArea', 'LandSlope')\n",
    "create_cross_variables('prop_BsmtFinSF1', 'BsmtFinType1')\n",
    "create_cross_variables('prop_BsmtFinSF2', 'BsmtFinType2')\n",
    "create_cross_variables('prop_GarageArea', 'GarageQual')\n",
    "create_cross_variables('prop_GarageArea', 'GarageCond')\n",
    "\n",
    "cross_variables = full.filter(regex='_x_').columns\n",
    "full[cross_variables].info()\n"
   ]
  },
  {
   "cell_type": "markdown",
   "metadata": {},
   "source": [
    "## set up fields and training set"
   ]
  },
  {
   "cell_type": "code",
   "execution_count": 610,
   "metadata": {},
   "outputs": [],
   "source": [
    "#fields = ['lGrLivArea','MeanlSalePrice', 'OverallQual', 'OverallCond', 'TotalBsmtSF', 'GarageArea', 'LotArea', \n",
    "#          'YearBuilt', 'YearRemodAdd', 'MiscVal', 'LotAreaxLotShape', 'lGrLivAreaxMeanlSalePrice', 'LotFrontage',\n",
    "#         'LotAreaxLandSlope', 'lGrLivAreaxOverallQual', 'lGrLivAreaxOverallQual'] + list(cleanup_nums.keys())\n",
    "fields = (['OverallQual', 'OverallCond', 'YearBuilt', 'YearRemodAdd'] + \n",
    "#          list(count_variables) +\n",
    "          list(grouped_variables) + list(binary_variables) + \n",
    "          list(prop_variables) + list(cross_variables) +\n",
    "          list(cleanup_nums.keys()))\n",
    "#fields\n",
    "# define training set\n",
    "X = full.loc[full.Set=='traintrain', fields]\n",
    "y = full.loc[full.Set=='traintrain', 'SalePricePerSqft']"
   ]
  },
  {
   "cell_type": "code",
   "execution_count": 611,
   "metadata": {},
   "outputs": [
    {
     "data": {
      "text/plain": [
       "['OverallQual',\n",
       " 'OverallCond',\n",
       " 'YearBuilt',\n",
       " 'YearRemodAdd',\n",
       " 'Mean_SalePricePerSqft_Neighborhood',\n",
       " 'Mean_SalePricePerSqft_MSSubClass',\n",
       " 'Mean_SalePricePerSqft_MSZoning',\n",
       " 'Mean_SalePricePerSqft_BldgType',\n",
       " 'Mean_SalePricePerSqft_HouseStyle',\n",
       " 'Bin_SaleCondition_Partial',\n",
       " 'Bin_SaleType_New',\n",
       " 'Bin_Condition_Artery',\n",
       " 'Bin_Functional_Typ',\n",
       " 'Bin_CentralAir_Y',\n",
       " 'Bin_Electrical',\n",
       " 'Bin_Heating',\n",
       " 'Bin_LandContour',\n",
       " 'prop_1stFlrSF',\n",
       " 'prop_2ndFlrSF',\n",
       " 'prop_BsmtFinSF1',\n",
       " 'prop_BsmtFinSF2',\n",
       " 'prop_BsmtUnfSF',\n",
       " 'prop_LowQualFinSF',\n",
       " 'prop_OpenPorchSF',\n",
       " 'prop_TotalBsmtSF',\n",
       " 'prop_WoodDeckSF',\n",
       " 'prop_LotArea',\n",
       " 'prop_MasVnrArea',\n",
       " 'prop_GarageArea',\n",
       " 'prop_EnclosedPorch',\n",
       " 'prop_3SsnPorch',\n",
       " 'prop_ScreenPorch',\n",
       " 'prop_PoolArea',\n",
       " 'prop_TotalBsmtSF_x_BsmtQual',\n",
       " 'prop_TotalBsmtSF_x_BsmtCond',\n",
       " 'prop_LotArea_x_LotShape',\n",
       " 'prop_LotArea_x_LandSlope',\n",
       " 'prop_BsmtFinSF1_x_BsmtFinType1',\n",
       " 'prop_BsmtFinSF2_x_BsmtFinType2',\n",
       " 'prop_GarageArea_x_GarageQual',\n",
       " 'prop_GarageArea_x_GarageCond',\n",
       " 'GarageQual',\n",
       " 'GarageCond',\n",
       " 'LotShape',\n",
       " 'LandSlope',\n",
       " 'ExterQual',\n",
       " 'ExterCond',\n",
       " 'BsmtCond',\n",
       " 'BsmtQual',\n",
       " 'HeatingQC',\n",
       " 'KitchenQual',\n",
       " 'FireplaceQu',\n",
       " 'GarageFinish',\n",
       " 'BsmtFinType1',\n",
       " 'BsmtFinType2']"
      ]
     },
     "execution_count": 611,
     "metadata": {},
     "output_type": "execute_result"
    }
   ],
   "source": [
    "fields"
   ]
  },
  {
   "cell_type": "markdown",
   "metadata": {},
   "source": [
    "## linear regression"
   ]
  },
  {
   "cell_type": "code",
   "execution_count": 609,
   "metadata": {},
   "outputs": [
    {
     "name": "stdout",
     "output_type": "stream",
     "text": [
      "score on training set 0.787184680094\n",
      "mean squared error on training set 0.130423076782\n",
      "cross val score [ 0.16184329  0.12692411  0.1097008   0.12850595  0.19382135  0.15940695\n",
      "  0.15397156  0.11845307  0.13285687  0.11842078]\n",
      "mean cross val score 0.140390472218\n"
     ]
    }
   ],
   "source": [
    "from sklearn.model_selection import cross_val_score\n",
    "from sklearn.linear_model import LinearRegression\n",
    "from sklearn.metrics import mean_squared_error, mean_squared_log_error\n",
    "\n",
    "\n",
    "\n",
    "simple_lin_reg=LinearRegression()\n",
    "simple_lin_reg.fit(X, y)\n",
    "print(\"score on training set\", simple_lin_reg.score(X, y))\n",
    "print(\"mean squared error on training set\", np.sqrt(mean_squared_log_error(y, simple_lin_reg.predict(X))))\n",
    "mean_squared_error\n",
    "a = np.sqrt(-cross_val_score(simple_lin_reg, X, y, cv=10, scoring='neg_mean_squared_log_error'))\n",
    "print(\"cross val score\", a)\n",
    "print(\"mean cross val score\", a.mean())"
   ]
  },
  {
   "cell_type": "markdown",
   "metadata": {},
   "source": [
    "## Helper functions"
   ]
  },
  {
   "cell_type": "code",
   "execution_count": 401,
   "metadata": {
    "collapsed": true
   },
   "outputs": [],
   "source": [
    "from sklearn.preprocessing import StandardScaler\n",
    "from sklearn.pipeline import Pipeline\n",
    "from sklearn.model_selection import GridSearchCV\n",
    "\n",
    "def training_diagnostics(model):\n",
    "    print(\"score on training set\", model.score(X, y))\n",
    "    print(\"mean squared error on training set\", np.sqrt(mean_squared_log_error(y, model.predict(X))))\n",
    "\n",
    "def cv_diagnostics(model):\n",
    "    a = np.sqrt(-cross_val_score(model, X, y, cv=10, scoring=\"neg_mean_squared_log_error\"))\n",
    "    print(\"cross val score\", a)\n",
    "    print(\"mean cross val score\", a.mean())"
   ]
  },
  {
   "cell_type": "markdown",
   "metadata": {},
   "source": [
    "## Ridge Regression"
   ]
  },
  {
   "cell_type": "code",
   "execution_count": 603,
   "metadata": {},
   "outputs": [
    {
     "name": "stdout",
     "output_type": "stream",
     "text": [
      "score on training set 0.783623848455\n",
      "mean squared error on training set 0.130853966648\n"
     ]
    }
   ],
   "source": [
    "from sklearn.linear_model import Ridge\n",
    "\n",
    "ridge_reg = Pipeline([\n",
    "    ('std_scaler', StandardScaler()),\n",
    "    ('ridge_reg', Ridge()),\n",
    "])\n",
    "ridge_reg.set_params(ridge_reg__alpha=50, ridge_reg__solver=\"cholesky\").fit(X, y)\n",
    "training_diagnostics(ridge_reg)\n"
   ]
  },
  {
   "cell_type": "code",
   "execution_count": 604,
   "metadata": {},
   "outputs": [
    {
     "name": "stdout",
     "output_type": "stream",
     "text": [
      "cross val score [ 0.14502201  0.12682763  0.11180431  0.13007685  0.19168705  0.15407511\n",
      "  0.15116939  0.11729305  0.13325347  0.11770263]\n",
      "mean cross val score 0.137891150188\n"
     ]
    }
   ],
   "source": [
    "cv_diagnostics(ridge_reg)"
   ]
  },
  {
   "cell_type": "code",
   "execution_count": 575,
   "metadata": {},
   "outputs": [
    {
     "name": "stdout",
     "output_type": "stream",
     "text": [
      "Pipeline(memory=None,\n",
      "     steps=[('std_scaler', StandardScaler(copy=True, with_mean=True, with_std=True)), ('ridge_reg', Ridge(alpha=75, copy_X=True, fit_intercept=True, max_iter=None,\n",
      "   normalize=False, random_state=None, solver='cholesky', tol=0.001))])\n",
      "0.140402267903\n"
     ]
    }
   ],
   "source": [
    "# cross validated grid search\n",
    "parameters = {'ridge_reg__alpha':[1, 10, 20, 50, 75, 100,125],\n",
    "             }\n",
    "ridge_reg_CV = GridSearchCV(ridge_reg, parameters, scoring = 'neg_mean_squared_log_error').fit(X, y)\n",
    "print(ridge_reg_CV.best_estimator_)\n",
    "print(np.sqrt(-ridge_reg_CV.best_score_))\n"
   ]
  },
  {
   "cell_type": "markdown",
   "metadata": {},
   "source": [
    "## Elastic Net"
   ]
  },
  {
   "cell_type": "code",
   "execution_count": 408,
   "metadata": {},
   "outputs": [
    {
     "name": "stdout",
     "output_type": "stream",
     "text": [
      "score on training set 0.761101446746\n",
      "mean squared error on training set 0.137822383032\n"
     ]
    }
   ],
   "source": [
    "from sklearn.linear_model import ElasticNet\n",
    "\n",
    "elastic_net = Pipeline([\n",
    "    ('std_scaler', StandardScaler()),\n",
    "    ('elastic_net', ElasticNet()),\n",
    "])\n",
    "elastic_net.set_params(elastic_net__alpha=0.01, elastic_net__l1_ratio=0.25).fit(X, y)\n",
    "training_diagnostics(elastic_net)"
   ]
  },
  {
   "cell_type": "code",
   "execution_count": 409,
   "metadata": {},
   "outputs": [
    {
     "name": "stdout",
     "output_type": "stream",
     "text": [
      "cross val score [ 0.15108381  0.13420401  0.13135774  0.14030226  0.19709333  0.15807656\n",
      "  0.15223331  0.12141879  0.14038128  0.1201753 ]\n",
      "mean cross val score 0.144632638877\n"
     ]
    }
   ],
   "source": [
    "cv_diagnostics(elastic_net)"
   ]
  },
  {
   "cell_type": "code",
   "execution_count": 410,
   "metadata": {},
   "outputs": [
    {
     "name": "stdout",
     "output_type": "stream",
     "text": [
      "Pipeline(memory=None,\n",
      "     steps=[('std_scaler', StandardScaler(copy=True, with_mean=True, with_std=True)), ('elastic_net', ElasticNet(alpha=1, copy_X=True, fit_intercept=True, l1_ratio=1,\n",
      "      max_iter=1000, normalize=False, positive=False, precompute=False,\n",
      "      random_state=None, selection='cyclic', tol=0.0001, warm_start=False))])\n",
      "0.146120578308\n"
     ]
    }
   ],
   "source": [
    "# cross validated grid search\n",
    "parameters = {'elastic_net__alpha':[0.01, 0.01, 0.1, 1, 10],'elastic_net__l1_ratio':[0.01, 0.25, 0.5, 0.75, 1]\n",
    "             }\n",
    "elastic_net_CV = GridSearchCV(elastic_net, parameters, scoring = 'neg_mean_squared_log_error').fit(X, y)\n",
    "print(elastic_net_CV.best_estimator_)\n",
    "print(np.sqrt(-elastic_net_CV.best_score_))\n"
   ]
  },
  {
   "cell_type": "code",
   "execution_count": null,
   "metadata": {
    "collapsed": true
   },
   "outputs": [],
   "source": []
  },
  {
   "cell_type": "markdown",
   "metadata": {},
   "source": [
    "## Random Forest"
   ]
  },
  {
   "cell_type": "code",
   "execution_count": 411,
   "metadata": {
    "collapsed": true
   },
   "outputs": [],
   "source": [
    "from sklearn.ensemble import RandomForestRegressor"
   ]
  },
  {
   "cell_type": "code",
   "execution_count": 605,
   "metadata": {},
   "outputs": [
    {
     "name": "stdout",
     "output_type": "stream",
     "text": [
      "score on training set 0.964322388534\n",
      "mean squared error on training set 0.0579900941113\n"
     ]
    }
   ],
   "source": [
    "#rf = Pipeline([\n",
    "#    ('std_scaler', StandardScaler()),\n",
    "#    ('rf', RandomForestRegressor()),\n",
    "#])\n",
    "rf = RandomForestRegressor()\n",
    "#rf.set_params(rf__n_estimators=100, rf__max_features='sqrt', rf__oob_score =True).fit(X, y)\n",
    "rf.set_params(n_estimators=100, max_features='sqrt').fit(X, y)\n",
    "training_diagnostics(rf)\n",
    "#print(rf.oob_score_)"
   ]
  },
  {
   "cell_type": "code",
   "execution_count": 606,
   "metadata": {},
   "outputs": [
    {
     "data": {
      "text/plain": [
       "[('prop_TotalBsmtSF_x_BsmtQual', 0.11529574224454894),\n",
       " ('prop_TotalBsmtSF_x_BsmtCond', 0.072028554659931701),\n",
       " ('Mean_SalePricePerSqft_Neighborhood', 0.071452165127590825),\n",
       " ('prop_BsmtFinSF1_x_BsmtFinType1', 0.059630537370720028),\n",
       " ('prop_TotalBsmtSF', 0.052892485873976484),\n",
       " ('YearBuilt', 0.052884493608616516),\n",
       " ('Mean_SalePricePerSqft_MSSubClass', 0.050631543988708019),\n",
       " ('YearRemodAdd', 0.040281226556279949),\n",
       " ('prop_GarageArea_x_GarageQual', 0.040249781674735051),\n",
       " ('OverallQual', 0.039401143098688494),\n",
       " ('prop_GarageArea_x_GarageCond', 0.035995640424338296),\n",
       " ('prop_BsmtFinSF1', 0.034049798859287959),\n",
       " ('prop_GarageArea', 0.030168747765077185),\n",
       " ('OverallCond', 0.023631153861835549),\n",
       " ('ExterQual', 0.023180441742942801),\n",
       " ('prop_LotArea', 0.022883710526856085),\n",
       " ('BsmtQual', 0.019168686327888766),\n",
       " ('prop_BsmtUnfSF', 0.017066065739204772),\n",
       " ('BsmtFinType1', 0.017063931135734917),\n",
       " ('prop_1stFlrSF', 0.016436973625834853),\n",
       " ('KitchenQual', 0.013211313713505533),\n",
       " ('GarageFinish', 0.012152872537056223),\n",
       " ('HeatingQC', 0.011581938663875557),\n",
       " ('FireplaceQu', 0.011580621611739788),\n",
       " ('prop_OpenPorchSF', 0.010143888502628443),\n",
       " ('prop_MasVnrArea', 0.0086558354188702342),\n",
       " ('Mean_SalePricePerSqft_HouseStyle', 0.0085680366747193423),\n",
       " ('prop_LotArea_x_LotShape', 0.0081831286860172964),\n",
       " ('prop_WoodDeckSF', 0.0079910976379299944),\n",
       " ('Mean_SalePricePerSqft_BldgType', 0.0076728099761020716),\n",
       " ('prop_2ndFlrSF', 0.007393863501936355),\n",
       " ('Mean_SalePricePerSqft_MSZoning', 0.0071160469342959401),\n",
       " ('Bin_Functional_Typ', 0.0050010756483312201),\n",
       " ('prop_EnclosedPorch', 0.0041358094222653701),\n",
       " ('Bin_CentralAir_Y', 0.0038728133463396316),\n",
       " ('Bin_SaleType_New', 0.0030691204435677267),\n",
       " ('LotShape', 0.0030573302920374567),\n",
       " ('prop_BsmtFinSF2_x_BsmtFinType2', 0.002980383618001908),\n",
       " ('prop_LotArea_x_LandSlope', 0.0028367418634355802),\n",
       " ('BsmtCond', 0.0028212859019358856),\n",
       " ('ExterCond', 0.0027832129854540211),\n",
       " ('BsmtFinType2', 0.0027491052745646266),\n",
       " ('Bin_SaleCondition_Partial', 0.0025821223812316713),\n",
       " ('prop_BsmtFinSF2', 0.0023197882542928543),\n",
       " ('prop_ScreenPorch', 0.0022792895137286168),\n",
       " ('GarageQual', 0.0021871516185748897),\n",
       " ('GarageCond', 0.0021190654995058415),\n",
       " ('LandSlope', 0.0015222678965530628),\n",
       " ('Bin_Electrical', 0.0014665099612058456),\n",
       " ('Bin_LandContour', 0.0010796428169593747),\n",
       " ('Bin_Condition_Artery', 0.00078830452289137601),\n",
       " ('Bin_Heating', 0.00067681221815557775),\n",
       " ('prop_LowQualFinSF', 0.00046691551949633157),\n",
       " ('prop_3SsnPorch', 0.00044465753695898205),\n",
       " ('prop_PoolArea', 0.00011631539303821301)]"
      ]
     },
     "execution_count": 606,
     "metadata": {},
     "output_type": "execute_result"
    }
   ],
   "source": [
    "#rf.feature_importances_\n",
    "sorted(list(zip(X.columns, rf.feature_importances_)), key=lambda tup: tup[1], reverse=True)"
   ]
  },
  {
   "cell_type": "code",
   "execution_count": 595,
   "metadata": {},
   "outputs": [
    {
     "name": "stdout",
     "output_type": "stream",
     "text": [
      "cross val score [ 0.16408308  0.13514993  0.13650467  0.16245449  0.19228975  0.17470997\n",
      "  0.15883838  0.14557962  0.15619055  0.15264292]\n",
      "mean cross val score 0.157844336014\n"
     ]
    }
   ],
   "source": [
    "cv_diagnostics(rf)"
   ]
  },
  {
   "cell_type": "code",
   "execution_count": 414,
   "metadata": {},
   "outputs": [
    {
     "name": "stdout",
     "output_type": "stream",
     "text": [
      "RandomForestRegressor(bootstrap=True, criterion='mse', max_depth=20,\n",
      "           max_features=0.5, max_leaf_nodes=None,\n",
      "           min_impurity_decrease=0.0, min_impurity_split=None,\n",
      "           min_samples_leaf=1, min_samples_split=2,\n",
      "           min_weight_fraction_leaf=0.0, n_estimators=100, n_jobs=1,\n",
      "           oob_score=False, random_state=None, verbose=0, warm_start=False)\n",
      "0.141912477685\n"
     ]
    }
   ],
   "source": [
    "# cross validated grid search\n",
    "parameters = {'max_features':[0.1, 0.25, 0.5, 0.75],\n",
    "              'max_depth':[2, 3, 10, 20]\n",
    "             }\n",
    "rf_CV = GridSearchCV(rf, parameters, scoring = 'neg_mean_squared_log_error').fit(X, y)\n",
    "print(rf_CV.best_estimator_)\n",
    "print(np.sqrt(-rf_CV.best_score_))\n"
   ]
  },
  {
   "cell_type": "markdown",
   "metadata": {},
   "source": [
    "## SVM"
   ]
  },
  {
   "cell_type": "code",
   "execution_count": 556,
   "metadata": {},
   "outputs": [
    {
     "data": {
      "text/plain": [
       "Pipeline(memory=None,\n",
       "     steps=[('std_scaler', StandardScaler(copy=True, with_mean=True, with_std=True)), ('svm_reg', LinearSVR(C=0.8, dual=True, epsilon=0.01, fit_intercept=True,\n",
       "     intercept_scaling=1.0, loss='epsilon_insensitive', max_iter=1000,\n",
       "     random_state=None, tol=0.0001, verbose=0))])"
      ]
     },
     "execution_count": 556,
     "metadata": {},
     "output_type": "execute_result"
    }
   ],
   "source": [
    "from sklearn.svm import LinearSVR\n",
    "svm_reg = Pipeline([\n",
    "    ('std_scaler', StandardScaler()),\n",
    "    ('svm_reg', LinearSVR()),\n",
    "])\n",
    "# use epsilon=0.11, C=.7 from grid search below\n",
    "svm_reg.set_params(svm_reg__epsilon=0.01, svm_reg__C=.8).fit(X, y)\n"
   ]
  },
  {
   "cell_type": "code",
   "execution_count": 557,
   "metadata": {},
   "outputs": [
    {
     "name": "stdout",
     "output_type": "stream",
     "text": [
      "score on training set 0.766531793676\n",
      "mean squared error on training set 14.9270352428\n",
      "cross val score [ 0.15086372  0.13277998  0.10735298  0.13956555  0.19596882  0.15754123\n",
      "  0.14917854  0.11951871  0.13192685  0.12002258]\n",
      "mean cross val score 0.14047189678\n"
     ]
    }
   ],
   "source": [
    "print(\"score on training set\", svm_reg.score(X, y))\n",
    "print(\"mean squared error on training set\", np.sqrt(mean_squared_error(y, svm_reg.predict(X))))\n",
    "a = np.sqrt(-cross_val_score(svm_reg, X, y, cv=10, scoring=\"neg_mean_squared_log_error\"))\n",
    "print(\"cross val score\", a)\n",
    "print(\"mean cross val score\", a.mean())\n"
   ]
  },
  {
   "cell_type": "markdown",
   "metadata": {},
   "source": [
    "## svm, cross validated grid search"
   ]
  },
  {
   "cell_type": "code",
   "execution_count": 554,
   "metadata": {},
   "outputs": [
    {
     "data": {
      "text/plain": [
       "GridSearchCV(cv=None, error_score='raise',\n",
       "       estimator=Pipeline(memory=None,\n",
       "     steps=[('std_scaler', StandardScaler(copy=True, with_mean=True, with_std=True)), ('svm_reg', LinearSVR(C=0.5, dual=True, epsilon=0.09, fit_intercept=True,\n",
       "     intercept_scaling=1.0, loss='epsilon_insensitive', max_iter=1000,\n",
       "     random_state=None, tol=0.0001, verbose=0))]),\n",
       "       fit_params=None, iid=True, n_jobs=1,\n",
       "       param_grid={'svm_reg__epsilon': [0.009, 0.1, 0.11], 'svm_reg__C': [0.5, 0.6, 0.7, 0.8]},\n",
       "       pre_dispatch='2*n_jobs', refit=True, return_train_score=True,\n",
       "       scoring='neg_mean_squared_log_error', verbose=0)"
      ]
     },
     "execution_count": 554,
     "metadata": {},
     "output_type": "execute_result"
    }
   ],
   "source": [
    "from sklearn.model_selection import GridSearchCV\n",
    "parameters = {'svm_reg__epsilon':[0.009, 0.1, 0.11],\n",
    "             'svm_reg__C':[0.5, 0.6, 0.7, 0.8]}\n",
    "svm_reg_CV = GridSearchCV(svm_reg, parameters, scoring = 'neg_mean_squared_log_error')\n",
    "svm_reg_CV.fit(X, y)\n"
   ]
  },
  {
   "cell_type": "code",
   "execution_count": 555,
   "metadata": {},
   "outputs": [
    {
     "name": "stdout",
     "output_type": "stream",
     "text": [
      "['mean_fit_time', 'mean_score_time', 'mean_test_score', 'mean_train_score', 'param_svm_reg__C', 'param_svm_reg__epsilon', 'params', 'rank_test_score', 'split0_test_score', 'split0_train_score', 'split1_test_score', 'split1_train_score', 'split2_test_score', 'split2_train_score', 'std_fit_time', 'std_score_time', 'std_test_score', 'std_train_score']\n",
      "Pipeline(memory=None,\n",
      "     steps=[('std_scaler', StandardScaler(copy=True, with_mean=True, with_std=True)), ('svm_reg', LinearSVR(C=0.8, dual=True, epsilon=0.1, fit_intercept=True,\n",
      "     intercept_scaling=1.0, loss='epsilon_insensitive', max_iter=1000,\n",
      "     random_state=None, tol=0.0001, verbose=0))])\n",
      "0.147524685933\n"
     ]
    }
   ],
   "source": [
    "print(sorted(svm_reg_CV.cv_results_.keys()))\n",
    "print(svm_reg_CV.best_estimator_)\n",
    "print(np.sqrt(-svm_reg_CV.best_score_))"
   ]
  },
  {
   "cell_type": "markdown",
   "metadata": {},
   "source": [
    "## SVM poly reg"
   ]
  },
  {
   "cell_type": "code",
   "execution_count": null,
   "metadata": {
    "collapsed": true
   },
   "outputs": [],
   "source": [
    "from sklearn.svm import SVR\n",
    "svm_poly_reg = SVR(kernel=\"poly\", degree=2, C=100, epsilon=0.1)\n",
    "svm_poly_reg = Pipeline([\n",
    "    ('std_scaler', StandardScaler()),\n",
    "    ('svm_poly_reg', SVR()),\n",
    "])\n",
    "\n",
    "svm_poly_reg.set_params(\n",
    "    svm_poly_reg__kernel=\"poly\", svm_poly_reg__degree=2, svm_poly_reg__C=0.7, svm_poly_reg__epsilon=0.11).fit(X, y)\n"
   ]
  },
  {
   "cell_type": "code",
   "execution_count": null,
   "metadata": {
    "collapsed": true
   },
   "outputs": [],
   "source": [
    "print(\"score on training set\", svm_poly_reg.score(X, y))\n",
    "print(\"mean squared error on training set\", np.sqrt(mean_squared_error(y, svm_poly_reg.predict(X))))"
   ]
  },
  {
   "cell_type": "code",
   "execution_count": null,
   "metadata": {
    "collapsed": true
   },
   "outputs": [],
   "source": [
    "full2.loc[:, fields + list(cleanup_nums.keys())].info()"
   ]
  },
  {
   "cell_type": "code",
   "execution_count": null,
   "metadata": {
    "collapsed": true
   },
   "outputs": [],
   "source": [
    "from sklearn.ensemble import RandomForestRegressor\n",
    "RF_reg = RandomForestRegressor(n_estimators=200)\n",
    "RF_reg.fit(X, y)\n",
    "print(\"score on training set\", RF_reg.score(X, y))\n",
    "\n",
    "a = np.sqrt(-cross_val_score(RF_reg, X, y, cv=10, scoring=\"neg_mean_squared_error\"))\n",
    "print(a)\n",
    "print(a.mean())"
   ]
  },
  {
   "cell_type": "code",
   "execution_count": null,
   "metadata": {
    "collapsed": true
   },
   "outputs": [],
   "source": [
    "?lin_reg.score"
   ]
  },
  {
   "cell_type": "code",
   "execution_count": null,
   "metadata": {
    "collapsed": true
   },
   "outputs": [],
   "source": [
    "np.sqrt(-cross_val_score(lin_reg, traintrain_transform_filter, np.log(traintrain.SalePrice), cv=10, scoring=\"neg_mean_squared_error\"))\n"
   ]
  },
  {
   "cell_type": "code",
   "execution_count": null,
   "metadata": {
    "collapsed": true
   },
   "outputs": [],
   "source": [
    "from sklearn.ensemble import RandomForestRegressor\n",
    "\n",
    "RF_reg = RandomForestRegressor(n_estimators=100)\n",
    "RF_reg.fit(traintrain_transform_filter, np.log(traintrain.SalePrice))\n",
    "RF_reg.score(traintrain_transform_filter,np.log(traintrain.SalePrice))\n"
   ]
  },
  {
   "cell_type": "code",
   "execution_count": null,
   "metadata": {
    "collapsed": true
   },
   "outputs": [],
   "source": [
    "def cross_val(model, data, price):\n",
    "    return np.sqrt(-cross_val_score(model, data, np.log(price), cv=10, scoring=\"neg_mean_squared_error\"))\n",
    "\n",
    "cross_val(RF_reg, traintrain_transform_filter, traintrain.SalePrice)"
   ]
  },
  {
   "cell_type": "markdown",
   "metadata": {},
   "source": [
    "## Test"
   ]
  },
  {
   "cell_type": "code",
   "execution_count": null,
   "metadata": {
    "collapsed": true
   },
   "outputs": [],
   "source": [
    "X = full2.loc[full2.Set=='traintest', fields]\n",
    "y = full2.loc[full2.Set=='traintest', 'lSalePrice']\n",
    "predicted = simple_lin_reg.predict(X)\n",
    "from sklearn.metrics import mean_squared_error\n",
    "np.sqrt(mean_squared_error(y, predicted))"
   ]
  },
  {
   "cell_type": "code",
   "execution_count": null,
   "metadata": {
    "collapsed": true
   },
   "outputs": [],
   "source": [
    "d = pd.DataFrame((traintrain.groupby('Neighborhood')\n",
    "                  .SalePrice.agg(np.mean))\n",
    "                 .reset_index()\n",
    "                 .rename(columns={'SalePrice': 'Neighborhoodmean'})\n",
    "                )\n",
    "traintest_transform = pd.merge(traintest, d, on='Neighborhood', how='left')\n",
    "traintest_transform = pd.concat([create_dummies(traintest_transform),select_nonobjects(traintest_transform)], axis=1)\n",
    "traintest_transform_filter = filter_data(traintest_transform, fields)\n",
    "traintest_transform_filter.Electrical_SBrkr = 0\n",
    "traintest_transform_filter.info()\n",
    "#traintest_transform_filter\n",
    "#traintrain.Neighborhood\n",
    "#print(traintest.loc[:, ['Id','Neighborhood']])\n",
    "#print(d)\n",
    "#print(traintest_transform.loc[0:10, ['Id','Neighborhood', 'Neighborhoodmean']])\n",
    "#pd.merge(traintest.loc[:, ['Id','Neighborhood']], d, on='Neighborhood', how='left')\n",
    "#traintest.loc[traintest.index[0:10], ['Id','Neighborhood']]"
   ]
  },
  {
   "cell_type": "code",
   "execution_count": null,
   "metadata": {
    "collapsed": true
   },
   "outputs": [],
   "source": [
    "list(zip(traintrain_transform_filter.columns, traintest_transform_filter.columns))"
   ]
  },
  {
   "cell_type": "code",
   "execution_count": null,
   "metadata": {
    "collapsed": true
   },
   "outputs": [],
   "source": [
    "lin_reg.score(traintest_transform_filter,np.log(traintest.SalePrice))"
   ]
  },
  {
   "cell_type": "code",
   "execution_count": null,
   "metadata": {
    "collapsed": true
   },
   "outputs": [],
   "source": [
    "traintest_transform_filter.corrwith(other=traintest.SalePrice)"
   ]
  },
  {
   "cell_type": "code",
   "execution_count": null,
   "metadata": {
    "collapsed": true
   },
   "outputs": [],
   "source": [
    "predicted = lin_reg.predict(traintest_transform_filter)"
   ]
  },
  {
   "cell_type": "code",
   "execution_count": null,
   "metadata": {
    "collapsed": true
   },
   "outputs": [],
   "source": [
    "from sklearn.metrics import mean_squared_error\n",
    "np.sqrt(mean_squared_error(np.log(traintest.SalePrice), predicted))"
   ]
  },
  {
   "cell_type": "code",
   "execution_count": null,
   "metadata": {
    "collapsed": true
   },
   "outputs": [],
   "source": [
    "predicted_RF = RF_reg.predict(traintest_transform_filter)\n",
    "np.sqrt(mean_squared_error(np.log(traintest.SalePrice), predicted_RF))"
   ]
  },
  {
   "cell_type": "markdown",
   "metadata": {},
   "source": [
    "## Submission"
   ]
  },
  {
   "cell_type": "code",
   "execution_count": null,
   "metadata": {
    "collapsed": true
   },
   "outputs": [],
   "source": [
    "traintest2['Neighborhoodmean'].describe()"
   ]
  },
  {
   "cell_type": "code",
   "execution_count": null,
   "metadata": {
    "collapsed": true
   },
   "outputs": [],
   "source": [
    "# re-create full training set\n",
    "full = pd.concat([traintrain, traintest2])\n",
    "# re-fit on full set\n",
    "final_lin_reg = LinearRegression()\n",
    "final_lin_reg.fit(full[fields], np.log(full.SalePrice))\n",
    "final_lin_reg.score(full[fields],np.log(full.SalePrice))"
   ]
  },
  {
   "cell_type": "code",
   "execution_count": null,
   "metadata": {
    "collapsed": true
   },
   "outputs": [],
   "source": [
    "# add neighborhood means\n",
    "test2 = pd.merge(test, d, on='Neighborhood')"
   ]
  },
  {
   "cell_type": "code",
   "execution_count": null,
   "metadata": {
    "collapsed": true
   },
   "outputs": [],
   "source": [
    "test2.groupby('Neighborhood').mean().loc[:, 'Neighborhoodmean']"
   ]
  },
  {
   "cell_type": "code",
   "execution_count": null,
   "metadata": {
    "collapsed": true
   },
   "outputs": [],
   "source": [
    "test2[fields].info()"
   ]
  },
  {
   "cell_type": "code",
   "execution_count": null,
   "metadata": {
    "collapsed": true
   },
   "outputs": [],
   "source": [
    "test2predicted = np.exp(lin_reg.predict(test2[fields]))"
   ]
  },
  {
   "cell_type": "code",
   "execution_count": null,
   "metadata": {
    "collapsed": true
   },
   "outputs": [],
   "source": [
    "df = pd.DataFrame(index=test2.Id, data=test2predicted, columns=['SalePrice'])"
   ]
  },
  {
   "cell_type": "code",
   "execution_count": null,
   "metadata": {
    "collapsed": true
   },
   "outputs": [],
   "source": [
    "df"
   ]
  },
  {
   "cell_type": "markdown",
   "metadata": {},
   "source": [
    "## Simple submission"
   ]
  },
  {
   "cell_type": "code",
   "execution_count": null,
   "metadata": {
    "collapsed": true
   },
   "outputs": [],
   "source": [
    "# "
   ]
  },
  {
   "cell_type": "code",
   "execution_count": 159,
   "metadata": {
    "collapsed": true
   },
   "outputs": [],
   "source": [
    "# re-fit on full set\n",
    "X = full2.loc[(full2.Set=='traintrain') | (full2.Set=='traintest'), fields]\n",
    "y = full2.loc[(full2.Set=='traintrain') | (full2.Set=='traintest'),  'lSalePrice']\n",
    "#simple_lin_reg=LinearRegression()\n",
    "#simple_lin_reg.fit(X, y)\n",
    "#svm_reg.fit(X, y)\n",
    "ridge_reg.fit(X, y)\n",
    "predicted = np.exp(ridge_reg.predict(full2.loc[(full2.Set=='test'), fields]))"
   ]
  },
  {
   "cell_type": "code",
   "execution_count": 160,
   "metadata": {
    "collapsed": true
   },
   "outputs": [],
   "source": [
    "full2.loc[(full2.Set=='test'), ].index\n",
    "df = pd.DataFrame(index=full2.loc[(full2.Set=='test'), ].index, data=predicted, columns=['SalePrice'])"
   ]
  },
  {
   "cell_type": "code",
   "execution_count": 161,
   "metadata": {
    "collapsed": true
   },
   "outputs": [],
   "source": [
    "if True:\n",
    "    df.to_csv(\"output\\\\result_20171122_1533.csv\")"
   ]
  }
 ],
 "metadata": {
  "kernelspec": {
   "display_name": "Python 3",
   "language": "python",
   "name": "python3"
  },
  "language_info": {
   "codemirror_mode": {
    "name": "ipython",
    "version": 3
   },
   "file_extension": ".py",
   "mimetype": "text/x-python",
   "name": "python",
   "nbconvert_exporter": "python",
   "pygments_lexer": "ipython3",
   "version": "3.6.1"
  }
 },
 "nbformat": 4,
 "nbformat_minor": 2
}
