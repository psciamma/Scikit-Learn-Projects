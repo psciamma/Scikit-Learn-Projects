{
 "cells": [
  {
   "cell_type": "code",
   "execution_count": 171,
   "metadata": {
    "collapsed": true
   },
   "outputs": [],
   "source": [
    "import numpy as np\n",
    "import pandas as pd\n",
    "import os\n",
    "\n",
    "np.random.seed(165)\n",
    "\n",
    "%matplotlib inline\n",
    "import matplotlib\n",
    "import matplotlib.pyplot as plt\n",
    "plt.rcParams['axes.labelsize'] = 12\n",
    "plt.rcParams['xtick.labelsize'] = 10\n",
    "plt.rcParams['ytick.labelsize'] = 10\n",
    "\n",
    "path=\"C:\\\\Users\\jsciamma\\Documents\\Patrick\\ML\\Kaggle\\HousePrices\"\n",
    "#path=\"C:\\\\Users\\\\Patrick\\ML\\HousePrices\"\n",
    "os.chdir(path)\n",
    "os.getcwd()\n",
    "\n",
    "train = pd.read_csv(\"data\\\\train.csv\")\n",
    "test = pd.read_csv(\"data\\\\test.csv\")"
   ]
  },
  {
   "cell_type": "code",
   "execution_count": 114,
   "metadata": {},
   "outputs": [],
   "source": [
    "traintrain=train.sample(frac=0.8,random_state=200)\n",
    "traintest=train.drop(traintrain.index)\n",
    "?train.sample()"
   ]
  },
  {
   "cell_type": "code",
   "execution_count": 172,
   "metadata": {},
   "outputs": [],
   "source": [
    "train.reset_index(inplace=True)\n",
    "test.reset_index(inplace=True)\n",
    "test.head()\n",
    "train.set_index('Id', inplace=True)\n",
    "test.set_index('Id', inplace=True)\n",
    "traintrain=train.sample(frac=0.8,random_state=200)\n",
    "traintest=train.drop(traintrain.index)\n",
    "train.loc[traintrain.index, 'Set']='traintrain'\n",
    "train.loc[traintest.index,'Set']='traintest'\n",
    "test['Set']='test'\n"
   ]
  },
  {
   "cell_type": "markdown",
   "metadata": {},
   "source": [
    "## count variables"
   ]
  },
  {
   "cell_type": "code",
   "execution_count": 173,
   "metadata": {
    "collapsed": true
   },
   "outputs": [],
   "source": [
    "def correct_count_variables():\n",
    "    count_variables = ['BsmtFullBath', 'BsmtHalfBath', 'FullBath', 'HalfBath', \n",
    "                       'GarageCars', 'BedroomAbvGr','KitchenAbvGr', 'TotRmsAbvGrd', 'Fireplaces',\n",
    "                      'YearBuilt', 'YearRemodAdd']\n",
    "    full.loc[full.BsmtFullBath.isnull(), 'BsmtFullBath'] = 0\n",
    "    full.loc[full.BsmtHalfBath.isnull(), 'BsmtHalfBath'] = 0\n",
    "    full.loc[full.GarageCars.isnull(), 'GarageCars'] = 0\n",
    "    return count_variables"
   ]
  },
  {
   "cell_type": "markdown",
   "metadata": {},
   "source": [
    "## convert some categories to main distinguishing feature"
   ]
  },
  {
   "cell_type": "code",
   "execution_count": 174,
   "metadata": {
    "collapsed": true
   },
   "outputs": [],
   "source": [
    "def convert_to_binary():\n",
    "    full['Bin_SaleCondition_Partial'] = (full.SaleCondition == 'Partial').astype(int)\n",
    "    full['Bin_SaleType_New'] = (full.SaleType == 'New').astype(int)\n",
    "    full['Bin_Condition_Artery'] = ((full.Condition1 == 'Artery') | (full.Condition2 == 'Artery')).astype(int)\n",
    "    full['Bin_Functional_Typ'] = (full.Functional == 'Typ').astype(int)\n",
    "    full['Bin_CentralAir_Y'] = (full.CentralAir == 'Y').astype(int)\n",
    "    full['Bin_Electrical'] = (full.Electrical == 'SBrkr').astype(int)\n",
    "    full['Bin_Heating'] = (full.Heating == 'GasA').astype(int)\n",
    "    full['Bin_LandContour'] = (full.LandContour == 'Bnk').astype(int)\n",
    "    return ['SaleCondition', 'SaleType', 'Condition1', 'Condition2', 'Functional', 'CentralAir',\n",
    "           'Electrical', 'Heating', 'LandContour'], list(full.filter(regex='Bin_').columns)"
   ]
  },
  {
   "cell_type": "markdown",
   "metadata": {},
   "source": [
    "## convert surface to ratios (as we are solving for price per sq ft"
   ]
  },
  {
   "cell_type": "code",
   "execution_count": 175,
   "metadata": {
    "collapsed": true
   },
   "outputs": [],
   "source": [
    "def convert_surfaces():\n",
    "    surfaces = (list(full.filter(regex='SF').columns) + \n",
    "                ['LotArea','MasVnrArea','GarageArea','EnclosedPorch',\n",
    "                 '3SsnPorch','ScreenPorch','PoolArea', 'LotFrontage'])\n",
    "    # replace NAs with 0s where correct\n",
    "    for c in surfaces:\n",
    "        full.loc[np.isnan(full[c]), c] = 0\n",
    "    # create surface ratio to GrLiveArea\n",
    "    for c in surfaces:\n",
    "        full[\"prop_\" + c] = full[c] / full.GrLivArea\n",
    "    return surfaces, [\"prop_\" + c for c in surfaces]"
   ]
  },
  {
   "cell_type": "markdown",
   "metadata": {},
   "source": [
    "## convert quality indicators"
   ]
  },
  {
   "cell_type": "code",
   "execution_count": 176,
   "metadata": {
    "collapsed": true
   },
   "outputs": [],
   "source": [
    "# convert quality indicators to a linear scale\n",
    "def convert_quality():\n",
    "    for c in ['Street', 'GarageQual', 'GarageCond', 'LotShape', 'LandSlope', 'ExterQual', \n",
    "              'ExterCond', 'BsmtCond', 'BsmtQual', 'HeatingQC', 'KitchenQual', \n",
    "              'FireplaceQu', 'GarageFinish', 'BsmtFinType1', 'BsmtFinType2']:\n",
    "        full.loc[full[c].isnull(), c] = 'NA'\n",
    "    cleanup_nums = {\n",
    "        \"GarageQual\":     {\"NA\" : 0, \"Po\": 1, \"Fa\": 2, \"TA\": 3, \"Gd\" : 4, \"Ex\" : 5},\n",
    "        \"GarageCond\":     {\"NA\" : 0, \"Po\": 1, \"Fa\": 2, \"TA\": 3, \"Gd\" : 4, \"Ex\" : 5},\n",
    "        \"LotShape\":     {\"Reg\" : 0, \"IR1\": 1, \"IR2\": 2, \"IR3\": 3},\n",
    "        \"LandSlope\":     {\"Gtl\" : 0, \"Mod\": 1, \"Sev\": 2},\n",
    "        \"ExterQual\":     {\"NA\" : 0, \"Po\": 1, \"Fa\": 2, \"TA\": 3, \"Gd\" : 4, \"Ex\" : 5},\n",
    "        \"ExterCond\":     {\"NA\" : 0, \"Po\": 1, \"Fa\": 2, \"TA\": 3, \"Gd\" : 4, \"Ex\" : 5},\n",
    "        \"BsmtCond\":     {\"NA\" : 0, \"Po\": 1, \"Fa\": 2, \"TA\": 3, \"Gd\" : 4, \"Ex\" : 5},\n",
    "        \"BsmtQual\":     {\"NA\" : 0, \"Po\": 1, \"Fa\": 2, \"TA\": 3, \"Gd\" : 4, \"Ex\" : 5},\n",
    "        \"HeatingQC\":     {\"Po\": 1, \"Fa\": 2, \"TA\": 3, \"Gd\" : 4, \"Ex\" : 5},\n",
    "        \"KitchenQual\":     {\"NA\" : 0,\"Po\": 1, \"Fa\": 2, \"TA\": 3, \"Gd\" : 4, \"Ex\" : 5},\n",
    "        \"FireplaceQu\":     {\"NA\" : 0,\"Po\": 1, \"Fa\": 2, \"TA\": 3, \"Gd\" : 4, \"Ex\" : 5},\n",
    "        \"GarageFinish\":     {\"NA\" : 0,\"Unf\": 1, \"RFn\": 2, \"Fin\": 3},\n",
    "        \"BsmtFinType1\":     {\"NA\" : 0,\"Unf\": 1, \"LwQ\": 2, \"Rec\": 3, \"BLQ\": 4, \"ALQ\":5, \"GLQ\":6},\n",
    "        \"BsmtFinType2\":     {\"NA\" : 0,\"Unf\": 1, \"LwQ\": 2, \"Rec\": 3, \"BLQ\": 4, \"ALQ\":5, \"GLQ\":6},\n",
    "    }\n",
    "    full.replace(cleanup_nums, inplace=True)\n",
    "    return ['GarageQual', 'GarageCond', 'LotShape', 'LandSlope', 'ExterQual', 'ExterCond', \n",
    "            'BsmtCond', 'BsmtQual', 'HeatingQC', 'KitchenQual', 'FireplaceQu', 'GarageFinish',\n",
    "            'BsmtFinType1', 'BsmtFinType2', 'OverallCond', 'OverallQual']\n",
    "        \n"
   ]
  },
  {
   "cell_type": "markdown",
   "metadata": {},
   "source": [
    "## put it all together"
   ]
  },
  {
   "cell_type": "code",
   "execution_count": 177,
   "metadata": {
    "collapsed": true
   },
   "outputs": [
    {
     "name": "stdout",
     "output_type": "stream",
     "text": [
      "<class 'pandas.core.frame.DataFrame'>\n",
      "Int64Index: 2919 entries, 1 to 2919\n",
      "Data columns (total 82 columns):\n",
      "1stFlrSF         2919 non-null int64\n",
      "2ndFlrSF         2919 non-null int64\n",
      "3SsnPorch        2919 non-null int64\n",
      "Alley            198 non-null object\n",
      "BedroomAbvGr     2919 non-null int64\n",
      "BldgType         2919 non-null object\n",
      "BsmtCond         2837 non-null object\n",
      "BsmtExposure     2837 non-null object\n",
      "BsmtFinSF1       2918 non-null float64\n",
      "BsmtFinSF2       2918 non-null float64\n",
      "BsmtFinType1     2840 non-null object\n",
      "BsmtFinType2     2839 non-null object\n",
      "BsmtFullBath     2917 non-null float64\n",
      "BsmtHalfBath     2917 non-null float64\n",
      "BsmtQual         2838 non-null object\n",
      "BsmtUnfSF        2918 non-null float64\n",
      "CentralAir       2919 non-null object\n",
      "Condition1       2919 non-null object\n",
      "Condition2       2919 non-null object\n",
      "Electrical       2918 non-null object\n",
      "EnclosedPorch    2919 non-null int64\n",
      "ExterCond        2919 non-null object\n",
      "ExterQual        2919 non-null object\n",
      "Exterior1st      2918 non-null object\n",
      "Exterior2nd      2918 non-null object\n",
      "Fence            571 non-null object\n",
      "FireplaceQu      1499 non-null object\n",
      "Fireplaces       2919 non-null int64\n",
      "Foundation       2919 non-null object\n",
      "FullBath         2919 non-null int64\n",
      "Functional       2917 non-null object\n",
      "GarageArea       2918 non-null float64\n",
      "GarageCars       2918 non-null float64\n",
      "GarageCond       2760 non-null object\n",
      "GarageFinish     2760 non-null object\n",
      "GarageQual       2760 non-null object\n",
      "GarageType       2762 non-null object\n",
      "GarageYrBlt      2760 non-null float64\n",
      "GrLivArea        2919 non-null int64\n",
      "HalfBath         2919 non-null int64\n",
      "Heating          2919 non-null object\n",
      "HeatingQC        2919 non-null object\n",
      "HouseStyle       2919 non-null object\n",
      "KitchenAbvGr     2919 non-null int64\n",
      "KitchenQual      2918 non-null object\n",
      "LandContour      2919 non-null object\n",
      "LandSlope        2919 non-null object\n",
      "LotArea          2919 non-null int64\n",
      "LotConfig        2919 non-null object\n",
      "LotFrontage      2433 non-null float64\n",
      "LotShape         2919 non-null object\n",
      "LowQualFinSF     2919 non-null int64\n",
      "MSSubClass       2919 non-null int64\n",
      "MSZoning         2915 non-null object\n",
      "MasVnrArea       2896 non-null float64\n",
      "MasVnrType       2895 non-null object\n",
      "MiscFeature      105 non-null object\n",
      "MiscVal          2919 non-null int64\n",
      "MoSold           2919 non-null int64\n",
      "Neighborhood     2919 non-null object\n",
      "OpenPorchSF      2919 non-null int64\n",
      "OverallCond      2919 non-null int64\n",
      "OverallQual      2919 non-null int64\n",
      "PavedDrive       2919 non-null object\n",
      "PoolArea         2919 non-null int64\n",
      "PoolQC           10 non-null object\n",
      "RoofMatl         2919 non-null object\n",
      "RoofStyle        2919 non-null object\n",
      "SaleCondition    2919 non-null object\n",
      "SalePrice        1460 non-null float64\n",
      "SaleType         2918 non-null object\n",
      "ScreenPorch      2919 non-null int64\n",
      "Set              2919 non-null object\n",
      "Street           2919 non-null object\n",
      "TotRmsAbvGrd     2919 non-null int64\n",
      "TotalBsmtSF      2918 non-null float64\n",
      "Utilities        2917 non-null object\n",
      "WoodDeckSF       2919 non-null int64\n",
      "YearBuilt        2919 non-null int64\n",
      "YearRemodAdd     2919 non-null int64\n",
      "YrSold           2919 non-null int64\n",
      "index            2919 non-null int64\n",
      "dtypes: float64(12), int64(26), object(44)\n",
      "memory usage: 1.8+ MB\n"
     ]
    }
   ],
   "source": [
    "full = pd.concat([train, test], )\n",
    "full.info()"
   ]
  },
  {
   "cell_type": "code",
   "execution_count": 178,
   "metadata": {},
   "outputs": [
    {
     "name": "stdout",
     "output_type": "stream",
     "text": [
      "<class 'pandas.core.frame.DataFrame'>\n",
      "Int64Index: 2919 entries, 1 to 2919\n",
      "Columns: 108 entries, 1stFlrSF to SalePricePerSqft\n",
      "dtypes: float64(30), int32(8), int64(40), object(30)\n",
      "memory usage: 2.3+ MB\n"
     ]
    }
   ],
   "source": [
    "\n",
    "count_variables = correct_count_variables()\n",
    "drop_binary_variables, binary_variables = convert_to_binary()\n",
    "drop_surface_variables, surface_variables = convert_surfaces()\n",
    "quality_variables = convert_quality()\n",
    "full['SalePricePerSqft'] = full.SalePrice / (full.GrLivArea)\n",
    "full.info()"
   ]
  },
  {
   "cell_type": "code",
   "execution_count": 179,
   "metadata": {
    "collapsed": true
   },
   "outputs": [],
   "source": [
    "def print_info():\n",
    "    for c in [count_variables, binary_variables, surface_variables, quality_variables]:\n",
    "        print(full[c].info())\n",
    "#print_info()"
   ]
  },
  {
   "cell_type": "code",
   "execution_count": 180,
   "metadata": {},
   "outputs": [],
   "source": [
    "newfields = count_variables + quality_variables + binary_variables + surface_variables\n",
    "oldfields = drop_binary_variables + drop_surface_variables\n",
    "#full.drop(newfields + oldfields, axis=1).info()\n"
   ]
  },
  {
   "cell_type": "markdown",
   "metadata": {},
   "source": [
    "## add variables"
   ]
  },
  {
   "cell_type": "code",
   "execution_count": 181,
   "metadata": {},
   "outputs": [
    {
     "name": "stdout",
     "output_type": "stream",
     "text": [
      "<class 'pandas.core.frame.DataFrame'>\n",
      "Int64Index: 2919 entries, 1 to 2919\n",
      "Data columns (total 8 columns):\n",
      "prop_TotalBsmtSF_x_BsmtQual       2919 non-null float64\n",
      "prop_TotalBsmtSF_x_BsmtCond       2919 non-null float64\n",
      "prop_LotArea_x_LotShape           2919 non-null float64\n",
      "prop_LotArea_x_LandSlope          2919 non-null float64\n",
      "prop_BsmtFinSF1_x_BsmtFinType1    2919 non-null float64\n",
      "prop_BsmtFinSF2_x_BsmtFinType2    2919 non-null float64\n",
      "prop_GarageArea_x_GarageQual      2919 non-null float64\n",
      "prop_GarageArea_x_GarageCond      2919 non-null float64\n",
      "dtypes: float64(8)\n",
      "memory usage: 205.2 KB\n"
     ]
    }
   ],
   "source": [
    "def create_cross_variables(x, y):\n",
    "    full[x + '_x_' + y] = full[x] * full[y]\n",
    "create_cross_variables('prop_TotalBsmtSF', 'BsmtQual')\n",
    "create_cross_variables('prop_TotalBsmtSF', 'BsmtCond')\n",
    "create_cross_variables('prop_LotArea', 'LotShape')\n",
    "create_cross_variables('prop_LotArea', 'LandSlope')\n",
    "create_cross_variables('prop_BsmtFinSF1', 'BsmtFinType1')\n",
    "create_cross_variables('prop_BsmtFinSF2', 'BsmtFinType2')\n",
    "create_cross_variables('prop_GarageArea', 'GarageQual')\n",
    "create_cross_variables('prop_GarageArea', 'GarageCond')\n",
    "\n",
    "cross_variables = full.filter(regex='_x_').columns\n",
    "full[cross_variables].info()\n"
   ]
  },
  {
   "cell_type": "markdown",
   "metadata": {},
   "source": [
    "## dummy variables"
   ]
  },
  {
   "cell_type": "code",
   "execution_count": 182,
   "metadata": {},
   "outputs": [],
   "source": [
    "drop_dummies=['MSSubClass', 'MSZoning', 'Street', 'Alley', 'LotConfig', \n",
    "              'Neighborhood', 'BldgType', 'HouseStyle', 'RoofStyle', 'RoofMatl', 'Exterior1st', 'Exterior2nd',\n",
    "             'Foundation']\n",
    "d = pd.get_dummies(full[drop_dummies], columns = drop_dummies, prefix='d')\n",
    "dummy_columns = list(d.columns)\n",
    "full = pd.concat([full, d], axis=1)"
   ]
  },
  {
   "cell_type": "markdown",
   "metadata": {},
   "source": [
    "## set up fields and training set"
   ]
  },
  {
   "cell_type": "code",
   "execution_count": 183,
   "metadata": {
    "collapsed": true
   },
   "outputs": [],
   "source": [
    "fields = newfields + list(cross_variables) + dummy_columns\n",
    "X = full.loc[full.Set=='traintrain', fields]\n",
    "y = full.loc[full.Set=='traintrain', 'SalePricePerSqft']"
   ]
  },
  {
   "cell_type": "code",
   "execution_count": 158,
   "metadata": {},
   "outputs": [
    {
     "name": "stdout",
     "output_type": "stream",
     "text": [
      "<class 'pandas.core.frame.DataFrame'>\n",
      "Int64Index: 2919 entries, 1 to 2919\n",
      "Columns: 215 entries, BsmtFullBath to d_Wood\n",
      "dtypes: float64(28), int32(8), int64(24), uint8(155)\n",
      "memory usage: 1.7 MB\n"
     ]
    }
   ],
   "source": [
    "full[fields].info()"
   ]
  },
  {
   "cell_type": "markdown",
   "metadata": {},
   "source": [
    "## linear regression"
   ]
  },
  {
   "cell_type": "code",
   "execution_count": 184,
   "metadata": {},
   "outputs": [
    {
     "name": "stdout",
     "output_type": "stream",
     "text": [
      "score on training set 0.842486852661\n",
      "mean squared error on training set 0.114020957579\n",
      "cross val score [ 0.38337425  0.10882769  0.13321556  0.19151148  0.16439976  0.10641981\n",
      "  0.21212248  0.10619169  0.20020612  0.14523998]\n",
      "mean cross val score 0.175150882964\n"
     ]
    }
   ],
   "source": [
    "from sklearn.model_selection import cross_val_score\n",
    "from sklearn.linear_model import LinearRegression\n",
    "from sklearn.metrics import mean_squared_error, mean_squared_log_error\n",
    "\n",
    "\n",
    "\n",
    "simple_lin_reg=LinearRegression()\n",
    "simple_lin_reg.fit(X, y)\n",
    "print(\"score on training set\", simple_lin_reg.score(X, y))\n",
    "print(\"mean squared error on training set\", np.sqrt(mean_squared_log_error(y, simple_lin_reg.predict(X))))\n",
    "mean_squared_error\n",
    "a = np.sqrt(-cross_val_score(simple_lin_reg, X, y, cv=10, scoring='neg_mean_squared_log_error'))\n",
    "print(\"cross val score\", a)\n",
    "print(\"mean cross val score\", a.mean())"
   ]
  },
  {
   "cell_type": "code",
   "execution_count": 190,
   "metadata": {},
   "outputs": [
    {
     "data": {
      "text/html": [
       "<div>\n",
       "<style>\n",
       "    .dataframe thead tr:only-child th {\n",
       "        text-align: right;\n",
       "    }\n",
       "\n",
       "    .dataframe thead th {\n",
       "        text-align: left;\n",
       "    }\n",
       "\n",
       "    .dataframe tbody tr th {\n",
       "        vertical-align: top;\n",
       "    }\n",
       "</style>\n",
       "<table border=\"1\" class=\"dataframe\">\n",
       "  <thead>\n",
       "    <tr style=\"text-align: right;\">\n",
       "      <th></th>\n",
       "      <th>BsmtFullBath</th>\n",
       "      <th>BsmtHalfBath</th>\n",
       "      <th>FullBath</th>\n",
       "      <th>HalfBath</th>\n",
       "      <th>GarageCars</th>\n",
       "      <th>BedroomAbvGr</th>\n",
       "      <th>KitchenAbvGr</th>\n",
       "      <th>TotRmsAbvGrd</th>\n",
       "      <th>Fireplaces</th>\n",
       "      <th>YearBuilt</th>\n",
       "      <th>...</th>\n",
       "      <th>d_BrkTil</th>\n",
       "      <th>d_CBlock</th>\n",
       "      <th>d_CBlock</th>\n",
       "      <th>d_CBlock</th>\n",
       "      <th>d_PConc</th>\n",
       "      <th>d_Slab</th>\n",
       "      <th>d_Stone</th>\n",
       "      <th>d_Stone</th>\n",
       "      <th>d_Stone</th>\n",
       "      <th>d_Wood</th>\n",
       "    </tr>\n",
       "    <tr>\n",
       "      <th>Id</th>\n",
       "      <th></th>\n",
       "      <th></th>\n",
       "      <th></th>\n",
       "      <th></th>\n",
       "      <th></th>\n",
       "      <th></th>\n",
       "      <th></th>\n",
       "      <th></th>\n",
       "      <th></th>\n",
       "      <th></th>\n",
       "      <th></th>\n",
       "      <th></th>\n",
       "      <th></th>\n",
       "      <th></th>\n",
       "      <th></th>\n",
       "      <th></th>\n",
       "      <th></th>\n",
       "      <th></th>\n",
       "      <th></th>\n",
       "      <th></th>\n",
       "      <th></th>\n",
       "    </tr>\n",
       "  </thead>\n",
       "  <tbody>\n",
       "    <tr>\n",
       "      <th>89</th>\n",
       "      <td>0.0</td>\n",
       "      <td>0.0</td>\n",
       "      <td>1</td>\n",
       "      <td>0</td>\n",
       "      <td>0.0</td>\n",
       "      <td>2</td>\n",
       "      <td>1</td>\n",
       "      <td>6</td>\n",
       "      <td>0</td>\n",
       "      <td>1915</td>\n",
       "      <td>...</td>\n",
       "      <td>0</td>\n",
       "      <td>0</td>\n",
       "      <td>0</td>\n",
       "      <td>1</td>\n",
       "      <td>0</td>\n",
       "      <td>0</td>\n",
       "      <td>0</td>\n",
       "      <td>0</td>\n",
       "      <td>0</td>\n",
       "      <td>0</td>\n",
       "    </tr>\n",
       "    <tr>\n",
       "      <th>524</th>\n",
       "      <td>1.0</td>\n",
       "      <td>0.0</td>\n",
       "      <td>3</td>\n",
       "      <td>1</td>\n",
       "      <td>3.0</td>\n",
       "      <td>3</td>\n",
       "      <td>1</td>\n",
       "      <td>11</td>\n",
       "      <td>1</td>\n",
       "      <td>2007</td>\n",
       "      <td>...</td>\n",
       "      <td>0</td>\n",
       "      <td>0</td>\n",
       "      <td>0</td>\n",
       "      <td>0</td>\n",
       "      <td>1</td>\n",
       "      <td>0</td>\n",
       "      <td>0</td>\n",
       "      <td>0</td>\n",
       "      <td>0</td>\n",
       "      <td>0</td>\n",
       "    </tr>\n",
       "    <tr>\n",
       "      <th>633</th>\n",
       "      <td>0.0</td>\n",
       "      <td>0.0</td>\n",
       "      <td>2</td>\n",
       "      <td>0</td>\n",
       "      <td>2.0</td>\n",
       "      <td>3</td>\n",
       "      <td>1</td>\n",
       "      <td>6</td>\n",
       "      <td>1</td>\n",
       "      <td>1977</td>\n",
       "      <td>...</td>\n",
       "      <td>0</td>\n",
       "      <td>0</td>\n",
       "      <td>0</td>\n",
       "      <td>1</td>\n",
       "      <td>0</td>\n",
       "      <td>0</td>\n",
       "      <td>0</td>\n",
       "      <td>0</td>\n",
       "      <td>0</td>\n",
       "      <td>0</td>\n",
       "    </tr>\n",
       "  </tbody>\n",
       "</table>\n",
       "<p>3 rows × 215 columns</p>\n",
       "</div>"
      ],
      "text/plain": [
       "     BsmtFullBath  BsmtHalfBath  FullBath  HalfBath  GarageCars  BedroomAbvGr  \\\n",
       "Id                                                                              \n",
       "89            0.0           0.0         1         0         0.0             2   \n",
       "524           1.0           0.0         3         1         3.0             3   \n",
       "633           0.0           0.0         2         0         2.0             3   \n",
       "\n",
       "     KitchenAbvGr  TotRmsAbvGrd  Fireplaces  YearBuilt   ...    d_BrkTil  \\\n",
       "Id                                                       ...               \n",
       "89              1             6           0       1915   ...           0   \n",
       "524             1            11           1       2007   ...           0   \n",
       "633             1             6           1       1977   ...           0   \n",
       "\n",
       "     d_CBlock  d_CBlock  d_CBlock  d_PConc  d_Slab  d_Stone  d_Stone  d_Stone  \\\n",
       "Id                                                                              \n",
       "89          0         0         1        0       0        0        0        0   \n",
       "524         0         0         0        1       0        0        0        0   \n",
       "633         0         0         1        0       0        0        0        0   \n",
       "\n",
       "     d_Wood  \n",
       "Id           \n",
       "89        0  \n",
       "524       0  \n",
       "633       0  \n",
       "\n",
       "[3 rows x 215 columns]"
      ]
     },
     "execution_count": 190,
     "metadata": {},
     "output_type": "execute_result"
    }
   ],
   "source": [
    "X[np.square(np.log(y)-np.log(simple_lin_reg.predict(X)))>0.5]"
   ]
  },
  {
   "cell_type": "markdown",
   "metadata": {},
   "source": [
    "## Helper functions"
   ]
  },
  {
   "cell_type": "code",
   "execution_count": 35,
   "metadata": {
    "collapsed": true
   },
   "outputs": [],
   "source": [
    "from sklearn.preprocessing import StandardScaler\n",
    "from sklearn.pipeline import Pipeline\n",
    "from sklearn.model_selection import GridSearchCV\n",
    "\n",
    "def training_diagnostics(model):\n",
    "    print(\"score on training set\", model.score(X, y))\n",
    "    print(\"mean squared error on training set\", np.sqrt(mean_squared_log_error(y, model.predict(X))))\n",
    "\n",
    "def cv_diagnostics(model):\n",
    "    a = np.sqrt(-cross_val_score(model, X, y, cv=10, scoring=\"neg_mean_squared_log_error\"))\n",
    "    print(\"cross val score\", a)\n",
    "    print(\"mean cross val score\", a.mean())"
   ]
  },
  {
   "cell_type": "markdown",
   "metadata": {},
   "source": [
    "## Ridge Regression"
   ]
  },
  {
   "cell_type": "code",
   "execution_count": 160,
   "metadata": {},
   "outputs": [
    {
     "name": "stdout",
     "output_type": "stream",
     "text": [
      "score on training set 0.827070217943\n",
      "mean squared error on training set 0.116418751743\n"
     ]
    }
   ],
   "source": [
    "from sklearn.linear_model import Ridge\n",
    "\n",
    "ridge_reg = Pipeline([\n",
    "    ('std_scaler', StandardScaler()),\n",
    "    ('ridge_reg', Ridge()),\n",
    "])\n",
    "ridge_reg.set_params(ridge_reg__alpha=230, ridge_reg__solver=\"cholesky\").fit(X, y)\n",
    "training_diagnostics(ridge_reg)\n"
   ]
  },
  {
   "cell_type": "code",
   "execution_count": 161,
   "metadata": {},
   "outputs": [
    {
     "name": "stdout",
     "output_type": "stream",
     "text": [
      "cross val score [ 0.14097718  0.10600405  0.12916854  0.18304956  0.14678685  0.10732711\n",
      "  0.17933932  0.10901533  0.19326701  0.13378144]\n",
      "mean cross val score 0.142871639057\n"
     ]
    }
   ],
   "source": [
    "cv_diagnostics(ridge_reg)"
   ]
  },
  {
   "cell_type": "code",
   "execution_count": 162,
   "metadata": {},
   "outputs": [
    {
     "name": "stdout",
     "output_type": "stream",
     "text": [
      "Pipeline(memory=None,\n",
      "     steps=[('std_scaler', StandardScaler(copy=True, with_mean=True, with_std=True)), ('ridge_reg', Ridge(alpha=260, copy_X=True, fit_intercept=True, max_iter=None,\n",
      "   normalize=False, random_state=None, solver='cholesky', tol=0.001))])\n",
      "0.145669478741\n"
     ]
    }
   ],
   "source": [
    "# cross validated grid search\n",
    "parameters = {'ridge_reg__alpha':[230, 240, 250, 260],\n",
    "             }\n",
    "ridge_reg_CV = GridSearchCV(ridge_reg, parameters, scoring = 'neg_mean_squared_log_error', cv=10).fit(X, y)\n",
    "print(ridge_reg_CV.best_estimator_)\n",
    "print(np.sqrt(-ridge_reg_CV.best_score_))\n"
   ]
  },
  {
   "cell_type": "code",
   "execution_count": 210,
   "metadata": {},
   "outputs": [
    {
     "name": "stdout",
     "output_type": "stream",
     "text": [
      "Id\n",
      "524    39.510265\n",
      "633    58.469171\n",
      "Name: SalePricePerSqft, dtype: float64 [ 140.46111738  124.50450989]\n"
     ]
    },
    {
     "data": {
      "text/plain": [
       "HalfBath                  1\n",
       "BedroomAbvGr              3\n",
       "KitchenAbvGr              1\n",
       "KitchenQual              Ex\n",
       "TotRmsAbvGrd             11\n",
       "Functional              Typ\n",
       "Fireplaces                1\n",
       "FireplaceQu              Gd\n",
       "GarageType          BuiltIn\n",
       "GarageYrBlt            2007\n",
       "GarageFinish            Fin\n",
       "GarageCars                3\n",
       "GarageArea              884\n",
       "GarageQual               TA\n",
       "GarageCond               TA\n",
       "PavedDrive                Y\n",
       "WoodDeckSF              208\n",
       "OpenPorchSF             406\n",
       "EnclosedPorch             0\n",
       "3SsnPorch                 0\n",
       "ScreenPorch               0\n",
       "PoolArea                  0\n",
       "PoolQC                  NaN\n",
       "Fence                   NaN\n",
       "MiscFeature             NaN\n",
       "MiscVal                   0\n",
       "MoSold                   10\n",
       "YrSold                 2007\n",
       "SaleType                New\n",
       "SaleCondition       Partial\n",
       "SalePrice            184750\n",
       "Set              traintrain\n",
       "Name: 524, dtype: object"
      ]
     },
     "execution_count": 210,
     "metadata": {},
     "output_type": "execute_result"
    }
   ],
   "source": [
    "i =np.square(np.log(y)-np.log(ridge_reg.predict(X)))>0.5\n",
    "print(y[i], ridge_reg.predict(X)[i])\n",
    "full.loc[524]\n",
    "train.loc[524][50:]\n",
    "#full.loc[full.Neighborhood=='Edwards', 'SalePricePerSqft'].hist()"
   ]
  },
  {
   "cell_type": "markdown",
   "metadata": {},
   "source": [
    "## explain outlier"
   ]
  },
  {
   "cell_type": "code",
   "execution_count": 227,
   "metadata": {},
   "outputs": [
    {
     "data": {
      "text/plain": [
       "2008-04-01    252\n",
       "2007-04-01    245\n",
       "2010-04-01    232\n",
       "2009-04-01    229\n",
       "2007-07-01    221\n",
       "2006-04-01    218\n",
       "2009-07-01    216\n",
       "2006-07-01    205\n",
       "2008-07-01    187\n",
       "2007-10-01    114\n",
       "2007-01-01    112\n",
       "2009-10-01    111\n",
       "2006-10-01    103\n",
       "2010-01-01     99\n",
       "2006-01-01     93\n",
       "2008-01-01     92\n",
       "2008-10-01     91\n",
       "2009-01-01     91\n",
       "2010-07-01      8\n",
       "Name: QuarterSold, dtype: int64"
      ]
     },
     "execution_count": 227,
     "metadata": {},
     "output_type": "execute_result"
    }
   ],
   "source": [
    "full['DateSold'] = pd.to_datetime((full.YrSold*10000+full.MoSold*100+1).apply(str),format='%Y%m%d')\n",
    "full['QuarterSold'] = pd.to_datetime((full.YrSold*10000+(((full.MoSold-1)//3)*3+1)*100+1).apply(str),format='%Y%m%d')\n",
    "full.QuarterSold.value_counts()"
   ]
  },
  {
   "cell_type": "code",
   "execution_count": 236,
   "metadata": {},
   "outputs": [
    {
     "data": {
      "text/plain": [
       "<matplotlib.axes._subplots.AxesSubplot at 0x334ccfb438>"
      ]
     },
     "execution_count": 236,
     "metadata": {},
     "output_type": "execute_result"
    },
    {
     "data": {
      "image/png": "[encoded data removed]",
      "text/plain": [
       "<matplotlib.figure.Figure at 0x334c6e5940>"
      ]
     },
     "metadata": {},
     "output_type": "display_data"
    },
    {
     "data": {
      "image/png": "[encoded data removed]",
      "text/plain": [
       "<matplotlib.figure.Figure at 0x334c6e52b0>"
      ]
     },
     "metadata": {},
     "output_type": "display_data"
    },
    {
     "data": {
      "image/png": "[encoded data removed]",
      "text/plain": [
       "<matplotlib.figure.Figure at 0x334cbdac18>"
      ]
     },
     "metadata": {},
     "output_type": "display_data"
    },
    {
     "data": {
      "image/png": "[encoded data removed]",
      "text/plain": [
       "<matplotlib.figure.Figure at 0x334ccb3358>"
      ]
     },
     "metadata": {},
     "output_type": "display_data"
    }
   ],
   "source": [
    "full[full.Set=='traintrain'].groupby('DateSold').agg(np.mean).plot(y = 'SalePrice', grid=True)\n",
    "full[full.Set=='traintrain'].groupby('QuarterSold').agg(np.mean).plot(y = 'SalePrice', grid=True)\n",
    "full[full.Set=='traintrain'].groupby('QuarterSold').agg(np.mean).plot(y = 'SalePricePerSqft', grid=True)\n",
    "full[full.Set=='traintrain'].groupby('QuarterSold').count().plot(y = 'SalePricePerSqft', grid=True)\n"
   ]
  },
  {
   "cell_type": "code",
   "execution_count": 248,
   "metadata": {},
   "outputs": [
    {
     "data": {
      "text/plain": [
       "<matplotlib.axes._subplots.AxesSubplot at 0x334db1bb70>"
      ]
     },
     "execution_count": 248,
     "metadata": {},
     "output_type": "execute_result"
    },
    {
     "data": {
      "image/png": "[encoded data removed]",
      "text/plain": [
       "<matplotlib.figure.Figure at 0x334d41ce10>"
      ]
     },
     "metadata": {},
     "output_type": "display_data"
    },
    {
     "data": {
      "image/png": "[encoded data removed]",
      "text/plain": [
       "<matplotlib.figure.Figure at 0x334d7de940>"
      ]
     },
     "metadata": {},
     "output_type": "display_data"
    },
    {
     "data": {
      "image/png": "[encoded data removed]",
      "text/plain": [
       "<matplotlib.figure.Figure at 0x334d7de2b0>"
      ]
     },
     "metadata": {},
     "output_type": "display_data"
    }
   ],
   "source": [
    "full[full.Set=='traintrain'].plot(kind='scatter', x = 'GrLivArea', y = 'SalePricePerSqft', grid=True,\n",
    "                                 c='OverallCond', colormap='viridis')\n",
    "full[full.Set=='traintrain'].plot(kind='scatter', x = 'GrLivArea', y = 'SalePricePerSqft', grid=True,\n",
    "                                 c='OverallQual', colormap='viridis')\n",
    "full[full.Set=='traintrain'].plot(kind='scatter', x = 'BedroomAbvGr', y = 'SalePrice', grid=True,\n",
    "                                 c='GrLivArea', colormap='viridis')\n",
    "#TODO : convert zoning to number and plot"
   ]
  },
  {
   "cell_type": "markdown",
   "metadata": {},
   "source": [
    "## Elastic Net"
   ]
  },
  {
   "cell_type": "code",
   "execution_count": 47,
   "metadata": {},
   "outputs": [
    {
     "name": "stdout",
     "output_type": "stream",
     "text": [
      "score on training set 0.816026427581\n",
      "mean squared error on training set 0.119028514358\n"
     ]
    }
   ],
   "source": [
    "from sklearn.linear_model import ElasticNet\n",
    "\n",
    "elastic_net = Pipeline([\n",
    "    ('std_scaler', StandardScaler()),\n",
    "    ('elastic_net', ElasticNet()),\n",
    "])\n",
    "elastic_net.set_params(elastic_net__alpha=0.1, elastic_net__l1_ratio=0.5).fit(X, y)\n",
    "training_diagnostics(elastic_net)"
   ]
  },
  {
   "cell_type": "code",
   "execution_count": 48,
   "metadata": {},
   "outputs": [
    {
     "name": "stdout",
     "output_type": "stream",
     "text": [
      "cross val score [ 0.14537626  0.1106752   0.10743537  0.12326948  0.17268115  0.14870673\n",
      "  0.12700872  0.1006512   0.13693605  0.10198458]\n",
      "mean cross val score 0.127472473516\n"
     ]
    }
   ],
   "source": [
    "cv_diagnostics(elastic_net)"
   ]
  },
  {
   "cell_type": "code",
   "execution_count": 46,
   "metadata": {},
   "outputs": [
    {
     "name": "stdout",
     "output_type": "stream",
     "text": [
      "Pipeline(memory=None,\n",
      "     steps=[('std_scaler', StandardScaler(copy=True, with_mean=True, with_std=True)), ('elastic_net', ElasticNet(alpha=0.1, copy_X=True, fit_intercept=True, l1_ratio=0.5,\n",
      "      max_iter=1000, normalize=False, positive=False, precompute=False,\n",
      "      random_state=None, selection='cyclic', tol=0.0001, warm_start=False))])\n",
      "0.129423658413\n"
     ]
    }
   ],
   "source": [
    "# cross validated grid search\n",
    "parameters = {'elastic_net__alpha':[0.05, 0.1, 1, 10],'elastic_net__l1_ratio':[0.01, 0.25, 0.5, 0.75, 1]\n",
    "             }\n",
    "elastic_net_CV = GridSearchCV(elastic_net, parameters, scoring = 'neg_mean_squared_log_error', cv=10).fit(X, y)\n",
    "print(elastic_net_CV.best_estimator_)\n",
    "print(np.sqrt(-elastic_net_CV.best_score_))\n"
   ]
  },
  {
   "cell_type": "code",
   "execution_count": null,
   "metadata": {
    "collapsed": true
   },
   "outputs": [],
   "source": []
  },
  {
   "cell_type": "markdown",
   "metadata": {},
   "source": [
    "## Random Forest"
   ]
  },
  {
   "cell_type": "code",
   "execution_count": 50,
   "metadata": {
    "collapsed": true
   },
   "outputs": [],
   "source": [
    "from sklearn.ensemble import RandomForestRegressor"
   ]
  },
  {
   "cell_type": "code",
   "execution_count": 85,
   "metadata": {},
   "outputs": [
    {
     "name": "stdout",
     "output_type": "stream",
     "text": [
      "score on training set 0.956696502694\n",
      "mean squared error on training set 0.0789173062824\n"
     ]
    }
   ],
   "source": [
    "#rf = Pipeline([\n",
    "#    ('std_scaler', StandardScaler()),\n",
    "#    ('rf', RandomForestRegressor()),\n",
    "#])\n",
    "rf = RandomForestRegressor()\n",
    "#rf.set_params(rf__n_estimators=100, rf__max_features='sqrt', rf__oob_score =True).fit(X, y)\n",
    "rf.set_params(n_estimators=100, max_features='sqrt', criterion='mae').fit(X, y)\n",
    "training_diagnostics(rf)\n",
    "#print(rf.oob_score_)"
   ]
  },
  {
   "cell_type": "code",
   "execution_count": 86,
   "metadata": {},
   "outputs": [
    {
     "data": {
      "text/plain": [
       "[('prop_TotalBsmtSF_x_BsmtQual', 0.073585839836267569),\n",
       " ('prop_TotalBsmtSF_x_BsmtCond', 0.060642917625375353),\n",
       " ('YearBuilt', 0.053339389166668749),\n",
       " ('prop_BsmtFinSF1_x_BsmtFinType1', 0.048554517957543106),\n",
       " ('YearRemodAdd', 0.042075426764247047),\n",
       " ('prop_GarageArea', 0.041418547624407769),\n",
       " ('prop_GarageArea_x_GarageQual', 0.038153736094577624),\n",
       " ('prop_TotalBsmtSF', 0.036783523592620847),\n",
       " ('prop_2ndFlrSF', 0.035353862631313293),\n",
       " ('prop_GarageArea_x_GarageCond', 0.032550121805549503),\n",
       " ('BsmtFinType1', 0.026694099892317146),\n",
       " ('prop_LotArea', 0.025982023024314453),\n",
       " ('prop_BsmtFinSF1', 0.025692641052400614),\n",
       " ('OverallQual', 0.024948822646195596),\n",
       " ('prop_BsmtUnfSF', 0.022802026252265618),\n",
       " ('prop_1stFlrSF', 0.021724306838510437),\n",
       " ('prop_LotFrontage', 0.019573718431358012),\n",
       " ('KitchenQual', 0.019227960695520227),\n",
       " ('TotRmsAbvGrd', 0.017874666657384367),\n",
       " ('prop_OpenPorchSF', 0.016679117225095783),\n",
       " ('ExterQual', 0.015750552713955777),\n",
       " ('BsmtQual', 0.015659760547643783),\n",
       " ('prop_WoodDeckSF', 0.014855236168863063),\n",
       " ('OverallCond', 0.014389904249529087),\n",
       " ('BedroomAbvGr', 0.014230854321617182),\n",
       " ('GarageFinish', 0.013748017868203842),\n",
       " ('prop_MasVnrArea', 0.012638427021788936),\n",
       " ('GarageCars', 0.012315298634857037),\n",
       " ('BsmtFullBath', 0.012071142196631192),\n",
       " ('prop_LotArea_x_LotShape', 0.011808402148995147),\n",
       " ('KitchenAbvGr', 0.010599173189028968),\n",
       " ('FireplaceQu', 0.0090991967894265436),\n",
       " ('HeatingQC', 0.0083141851132160997),\n",
       " ('Fireplaces', 0.007927931174538258),\n",
       " ('Bin_Functional_Typ', 0.0071152994862299238),\n",
       " ('BsmtCond', 0.0069275515618679624),\n",
       " ('LotShape', 0.0065314338698184149),\n",
       " ('HalfBath', 0.0063986064179243456),\n",
       " ('GarageCond', 0.0063084343957969316),\n",
       " ('FullBath', 0.0061210493136412379),\n",
       " ('d_RM', 0.0057302565995144099),\n",
       " ('Bin_CentralAir_Y', 0.0055806872569823572),\n",
       " ('prop_EnclosedPorch', 0.0052121250546451059),\n",
       " ('BsmtFinType2', 0.0047407616786157413),\n",
       " ('Bin_SaleType_New', 0.0041116588425260669),\n",
       " ('prop_BsmtFinSF2', 0.0040289479930071632),\n",
       " ('d_RL', 0.0038255743601260379),\n",
       " ('prop_BsmtFinSF2_x_BsmtFinType2', 0.003599878614494388),\n",
       " ('prop_ScreenPorch', 0.0033232274297064573),\n",
       " ('prop_LotArea_x_LandSlope', 0.0031799610243575666),\n",
       " ('d_Edwards', 0.0030711292348448755),\n",
       " ('d_Crawfor', 0.0028497154061873065),\n",
       " ('ExterCond', 0.0027216468250919131),\n",
       " ('GarageQual', 0.0027184451285126661),\n",
       " ('d_OldTown', 0.0026971879990118149),\n",
       " ('d_CollgCr', 0.0025797097023603881),\n",
       " ('d_NridgHt', 0.0025732278779539374),\n",
       " ('Bin_SaleCondition_Partial', 0.0025160877329608276),\n",
       " ('d_Somerst', 0.0025124195229922152),\n",
       " ('d_NAmes', 0.0024638754261753475),\n",
       " ('Bin_LandContour', 0.0023823393181134677),\n",
       " ('LandSlope', 0.0022664406682872612),\n",
       " ('Bin_Electrical', 0.002075142540305777),\n",
       " ('BsmtHalfBath', 0.0019381852896852116),\n",
       " ('d_Sawyer', 0.0019285929663362647),\n",
       " ('prop_PoolArea', 0.0019073475718443817),\n",
       " ('d_SawyerW', 0.0018732297512159745),\n",
       " ('prop_3SsnPorch', 0.0017985300722862998),\n",
       " ('d_Gilbert', 0.001575641069519812),\n",
       " ('d_Mitchel', 0.0015012598413546544),\n",
       " ('d_Timber', 0.0014812672983784566),\n",
       " ('d_FV', 0.0014517862346716103),\n",
       " ('d_NWAmes', 0.0013083443420297044),\n",
       " ('Bin_Heating', 0.0012326984832100821),\n",
       " ('d_IDOTRR', 0.0010155648914171864),\n",
       " ('d_NoRidge', 0.00097838000664255331),\n",
       " ('Bin_Condition_Artery', 0.00093859118633339914),\n",
       " ('d_BrDale', 0.00071493772044262636),\n",
       " ('prop_LowQualFinSF', 0.00069430374691541825),\n",
       " ('d_C (all)', 0.00063084440857994579),\n",
       " ('d_RH', 0.00061498432810310226),\n",
       " ('d_BrkSide', 0.00061033132251527347),\n",
       " ('d_SWISU', 0.00052157951794557661),\n",
       " ('d_StoneBr', 0.00045407572019246222),\n",
       " ('d_Blmngtn', 0.00043555453270978915),\n",
       " ('d_Veenker', 0.00042352524319098678),\n",
       " ('d_MeadowV', 0.00032513421196087982),\n",
       " ('d_ClearCr', 0.00021141237316167426),\n",
       " ('d_NPkVill', 0.00020572863507676165),\n",
       " ('d_Blueste', 0.0)]"
      ]
     },
     "execution_count": 86,
     "metadata": {},
     "output_type": "execute_result"
    }
   ],
   "source": [
    "#rf.feature_importances_\n",
    "sorted(list(zip(X.columns, rf.feature_importances_)), key=lambda tup: tup[1], reverse=True)"
   ]
  },
  {
   "cell_type": "code",
   "execution_count": 87,
   "metadata": {},
   "outputs": [
    {
     "name": "stdout",
     "output_type": "stream",
     "text": [
      "cross val score [ 0.18166633  0.14577137  0.16271266  0.13735461  0.35509774  0.17704349\n",
      "  0.13648783  0.16281719  0.12944544  0.16418586]\n",
      "mean cross val score 0.175258253536\n"
     ]
    }
   ],
   "source": [
    "cv_diagnostics(rf)"
   ]
  },
  {
   "cell_type": "code",
   "execution_count": 414,
   "metadata": {},
   "outputs": [
    {
     "name": "stdout",
     "output_type": "stream",
     "text": [
      "RandomForestRegressor(bootstrap=True, criterion='mse', max_depth=20,\n",
      "           max_features=0.5, max_leaf_nodes=None,\n",
      "           min_impurity_decrease=0.0, min_impurity_split=None,\n",
      "           min_samples_leaf=1, min_samples_split=2,\n",
      "           min_weight_fraction_leaf=0.0, n_estimators=100, n_jobs=1,\n",
      "           oob_score=False, random_state=None, verbose=0, warm_start=False)\n",
      "0.141912477685\n"
     ]
    }
   ],
   "source": [
    "# cross validated grid search\n",
    "parameters = {'max_features':[0.1, 0.25, 0.5, 0.75],\n",
    "              'max_depth':[2, 3, 10, 20]\n",
    "             }\n",
    "rf_CV = GridSearchCV(rf, parameters, scoring = 'neg_mean_squared_log_error').fit(X, y)\n",
    "print(rf_CV.best_estimator_)\n",
    "print(np.sqrt(-rf_CV.best_score_))\n"
   ]
  },
  {
   "cell_type": "markdown",
   "metadata": {},
   "source": [
    "## SVM"
   ]
  },
  {
   "cell_type": "code",
   "execution_count": 54,
   "metadata": {},
   "outputs": [
    {
     "data": {
      "text/plain": [
       "Pipeline(memory=None,\n",
       "     steps=[('std_scaler', StandardScaler(copy=True, with_mean=True, with_std=True)), ('svm_reg', LinearSVR(C=0.8, dual=True, epsilon=0.01, fit_intercept=True,\n",
       "     intercept_scaling=1.0, loss='epsilon_insensitive', max_iter=1000,\n",
       "     random_state=None, tol=0.0001, verbose=0))])"
      ]
     },
     "execution_count": 54,
     "metadata": {},
     "output_type": "execute_result"
    }
   ],
   "source": [
    "from sklearn.svm import LinearSVR\n",
    "svm_reg = Pipeline([\n",
    "    ('std_scaler', StandardScaler()),\n",
    "    ('svm_reg', LinearSVR()),\n",
    "])\n",
    "# use epsilon=0.11, C=.7 from grid search below\n",
    "svm_reg.set_params(svm_reg__epsilon=0.01, svm_reg__C=.8).fit(X, y)\n"
   ]
  },
  {
   "cell_type": "code",
   "execution_count": 55,
   "metadata": {},
   "outputs": [
    {
     "name": "stdout",
     "output_type": "stream",
     "text": [
      "score on training set 0.807391226384\n",
      "mean squared error on training set 13.5580651918\n",
      "cross val score [ 0.26658581  0.1144506   0.09950504  0.12534135  0.16863235  0.15528713\n",
      "  0.13198678  0.10107107  0.13943193  0.10249346]\n",
      "mean cross val score 0.140478553462\n"
     ]
    }
   ],
   "source": [
    "print(\"score on training set\", svm_reg.score(X, y))\n",
    "print(\"mean squared error on training set\", np.sqrt(mean_squared_error(y, svm_reg.predict(X))))\n",
    "a = np.sqrt(-cross_val_score(svm_reg, X, y, cv=10, scoring=\"neg_mean_squared_log_error\"))\n",
    "print(\"cross val score\", a)\n",
    "print(\"mean cross val score\", a.mean())\n"
   ]
  },
  {
   "cell_type": "markdown",
   "metadata": {},
   "source": [
    "## svm, cross validated grid search"
   ]
  },
  {
   "cell_type": "code",
   "execution_count": 56,
   "metadata": {},
   "outputs": [
    {
     "data": {
      "text/plain": [
       "GridSearchCV(cv=10, error_score='raise',\n",
       "       estimator=Pipeline(memory=None,\n",
       "     steps=[('std_scaler', StandardScaler(copy=True, with_mean=True, with_std=True)), ('svm_reg', LinearSVR(C=0.8, dual=True, epsilon=0.01, fit_intercept=True,\n",
       "     intercept_scaling=1.0, loss='epsilon_insensitive', max_iter=1000,\n",
       "     random_state=None, tol=0.0001, verbose=0))]),\n",
       "       fit_params=None, iid=True, n_jobs=1,\n",
       "       param_grid={'svm_reg__epsilon': [0.009, 0.1, 0.11], 'svm_reg__C': [0.5, 0.6, 0.7, 0.8]},\n",
       "       pre_dispatch='2*n_jobs', refit=True, return_train_score=True,\n",
       "       scoring='neg_mean_squared_log_error', verbose=0)"
      ]
     },
     "execution_count": 56,
     "metadata": {},
     "output_type": "execute_result"
    }
   ],
   "source": [
    "from sklearn.model_selection import GridSearchCV\n",
    "parameters = {'svm_reg__epsilon':[0.009, 0.1, 0.11],\n",
    "             'svm_reg__C':[0.5, 0.6, 0.7, 0.8]}\n",
    "svm_reg_CV = GridSearchCV(svm_reg, parameters, scoring = 'neg_mean_squared_log_error', cv=10)\n",
    "svm_reg_CV.fit(X, y)\n"
   ]
  },
  {
   "cell_type": "code",
   "execution_count": 58,
   "metadata": {},
   "outputs": [
    {
     "name": "stdout",
     "output_type": "stream",
     "text": [
      "['mean_fit_time', 'mean_score_time', 'mean_test_score', 'mean_train_score', 'param_svm_reg__C', 'param_svm_reg__epsilon', 'params', 'rank_test_score', 'split0_test_score', 'split0_train_score', 'split1_test_score', 'split1_train_score', 'split2_test_score', 'split2_train_score', 'split3_test_score', 'split3_train_score', 'split4_test_score', 'split4_train_score', 'split5_test_score', 'split5_train_score', 'split6_test_score', 'split6_train_score', 'split7_test_score', 'split7_train_score', 'split8_test_score', 'split8_train_score', 'split9_test_score', 'split9_train_score', 'std_fit_time', 'std_score_time', 'std_test_score', 'std_train_score']\n",
      "Pipeline(memory=None,\n",
      "     steps=[('std_scaler', StandardScaler(copy=True, with_mean=True, with_std=True)), ('svm_reg', LinearSVR(C=0.7, dual=True, epsilon=0.009, fit_intercept=True,\n",
      "     intercept_scaling=1.0, loss='epsilon_insensitive', max_iter=1000,\n",
      "     random_state=None, tol=0.0001, verbose=0))])\n",
      "0.147665134069\n"
     ]
    }
   ],
   "source": [
    "print(sorted(svm_reg_CV.cv_results_.keys()))\n",
    "print(svm_reg_CV.best_estimator_)\n",
    "print(np.sqrt(-svm_reg_CV.best_score_))"
   ]
  },
  {
   "cell_type": "markdown",
   "metadata": {},
   "source": [
    "## SVM poly reg"
   ]
  },
  {
   "cell_type": "code",
   "execution_count": null,
   "metadata": {
    "collapsed": true
   },
   "outputs": [],
   "source": [
    "from sklearn.svm import SVR\n",
    "svm_poly_reg = SVR(kernel=\"poly\", degree=2, C=100, epsilon=0.1)\n",
    "svm_poly_reg = Pipeline([\n",
    "    ('std_scaler', StandardScaler()),\n",
    "    ('svm_poly_reg', SVR()),\n",
    "])\n",
    "\n",
    "svm_poly_reg.set_params(\n",
    "    svm_poly_reg__kernel=\"poly\", svm_poly_reg__degree=2, svm_poly_reg__C=0.7, svm_poly_reg__epsilon=0.11).fit(X, y)\n"
   ]
  },
  {
   "cell_type": "code",
   "execution_count": null,
   "metadata": {
    "collapsed": true
   },
   "outputs": [],
   "source": [
    "print(\"score on training set\", svm_poly_reg.score(X, y))\n",
    "print(\"mean squared error on training set\", np.sqrt(mean_squared_error(y, svm_poly_reg.predict(X))))"
   ]
  },
  {
   "cell_type": "code",
   "execution_count": null,
   "metadata": {
    "collapsed": true
   },
   "outputs": [],
   "source": [
    "full2.loc[:, fields + list(cleanup_nums.keys())].info()"
   ]
  },
  {
   "cell_type": "code",
   "execution_count": null,
   "metadata": {
    "collapsed": true
   },
   "outputs": [],
   "source": [
    "from sklearn.ensemble import RandomForestRegressor\n",
    "RF_reg = RandomForestRegressor(n_estimators=200)\n",
    "RF_reg.fit(X, y)\n",
    "print(\"score on training set\", RF_reg.score(X, y))\n",
    "\n",
    "a = np.sqrt(-cross_val_score(RF_reg, X, y, cv=10, scoring=\"neg_mean_squared_error\"))\n",
    "print(a)\n",
    "print(a.mean())"
   ]
  },
  {
   "cell_type": "code",
   "execution_count": null,
   "metadata": {
    "collapsed": true
   },
   "outputs": [],
   "source": [
    "?lin_reg.score"
   ]
  },
  {
   "cell_type": "code",
   "execution_count": null,
   "metadata": {
    "collapsed": true
   },
   "outputs": [],
   "source": [
    "np.sqrt(-cross_val_score(lin_reg, traintrain_transform_filter, np.log(traintrain.SalePrice), cv=10, scoring=\"neg_mean_squared_error\"))\n"
   ]
  },
  {
   "cell_type": "code",
   "execution_count": null,
   "metadata": {
    "collapsed": true
   },
   "outputs": [],
   "source": [
    "from sklearn.ensemble import RandomForestRegressor\n",
    "\n",
    "RF_reg = RandomForestRegressor(n_estimators=100)\n",
    "RF_reg.fit(traintrain_transform_filter, np.log(traintrain.SalePrice))\n",
    "RF_reg.score(traintrain_transform_filter,np.log(traintrain.SalePrice))\n"
   ]
  },
  {
   "cell_type": "code",
   "execution_count": null,
   "metadata": {
    "collapsed": true
   },
   "outputs": [],
   "source": [
    "def cross_val(model, data, price):\n",
    "    return np.sqrt(-cross_val_score(model, data, np.log(price), cv=10, scoring=\"neg_mean_squared_error\"))\n",
    "\n",
    "cross_val(RF_reg, traintrain_transform_filter, traintrain.SalePrice)"
   ]
  },
  {
   "cell_type": "markdown",
   "metadata": {
    "collapsed": true
   },
   "source": [
    "## Test"
   ]
  },
  {
   "cell_type": "code",
   "execution_count": 163,
   "metadata": {},
   "outputs": [
    {
     "name": "stdout",
     "output_type": "stream",
     "text": [
      "mean squared error on test set 0.129631493612\n"
     ]
    },
    {
     "data": {
      "text/plain": [
       "<bound method Pipeline.get_params of Pipeline(memory=None,\n",
       "     steps=[('std_scaler', StandardScaler(copy=True, with_mean=True, with_std=True)), ('ridge_reg', Ridge(alpha=230, copy_X=True, fit_intercept=True, max_iter=None,\n",
       "   normalize=False, random_state=None, solver='cholesky', tol=0.001))])>"
      ]
     },
     "execution_count": 163,
     "metadata": {},
     "output_type": "execute_result"
    }
   ],
   "source": [
    "\n",
    "X = full.loc[full.Set=='traintest', fields]\n",
    "y = full.loc[full.Set=='traintest',  'SalePricePerSqft']\n",
    "\n",
    "print(\"mean squared error on test set\", np.sqrt(mean_squared_log_error(y, ridge_reg.predict(X))))\n",
    "ridge_reg.get_params"
   ]
  },
  {
   "cell_type": "markdown",
   "metadata": {},
   "source": [
    "## Submission"
   ]
  },
  {
   "cell_type": "code",
   "execution_count": 108,
   "metadata": {},
   "outputs": [],
   "source": [
    "# re-fit on full set\n",
    "X = full.loc[(full.Set=='traintrain') | (full.Set=='traintest'), fields]\n",
    "y = full.loc[(full.Set=='traintrain') | (full.Set=='traintest'),  'SalePricePerSqft']\n",
    "S = full.loc[full.Set=='test']\n",
    "#simple_lin_reg=LinearRegression()\n",
    "#simple_lin_reg.fit(X, y)\n",
    "#svm_reg.fit(X, y)\n",
    "ridge_reg.fit(X, y)\n",
    "predicted = S.GrLivArea * ridge_reg.predict(S[fields])\n"
   ]
  },
  {
   "cell_type": "code",
   "execution_count": 78,
   "metadata": {},
   "outputs": [],
   "source": [
    "#df = pd.DataFrame(index=S.index, data=predicted, columns=['SalePrice'])\n",
    "df = predicted"
   ]
  },
  {
   "cell_type": "code",
   "execution_count": 79,
   "metadata": {
    "collapsed": true
   },
   "outputs": [],
   "source": [
    "if True:\n",
    "    df.to_csv(\"output\\\\result_20171123_0051.csv\")"
   ]
  }
 ],
 "metadata": {
  "kernelspec": {
   "display_name": "Python 3",
   "language": "python",
   "name": "python3"
  },
  "language_info": {
   "codemirror_mode": {
    "name": "ipython",
    "version": 3
   },
   "file_extension": ".py",
   "mimetype": "text/x-python",
   "name": "python",
   "nbconvert_exporter": "python",
   "pygments_lexer": "ipython3",
   "version": "3.6.1"
  }
 },
 "nbformat": 4,
 "nbformat_minor": 2
}
