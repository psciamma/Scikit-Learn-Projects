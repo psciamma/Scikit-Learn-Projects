{
 "cells": [
  {
   "cell_type": "code",
   "execution_count": 2,
   "metadata": {
    "collapsed": true
   },
   "outputs": [],
   "source": [
    "import numpy as np\n",
    "import pandas as pd\n",
    "import os\n",
    "\n",
    "np.random.seed(165)\n",
    "\n",
    "%matplotlib inline\n",
    "import matplotlib\n",
    "import matplotlib.pyplot as plt\n",
    "plt.rcParams['axes.labelsize'] = 12\n",
    "plt.rcParams['xtick.labelsize'] = 10\n",
    "plt.rcParams['ytick.labelsize'] = 10\n",
    "\n",
    "path=\"C:\\\\Users\\jsciamma\\Documents\\Patrick\\ML\\Kaggle\\HousePrices\"\n",
    "#path=\"C:\\\\Users\\\\Patrick\\ML\\HousePrices\"\n",
    "os.chdir(path)\n",
    "os.getcwd()\n",
    "\n",
    "train = pd.read_csv(\"data\\\\train.csv\")\n",
    "test = pd.read_csv(\"data\\\\test.csv\")"
   ]
  },
  {
   "cell_type": "code",
   "execution_count": 3,
   "metadata": {
    "collapsed": true
   },
   "outputs": [],
   "source": [
    "traintrain = train.iloc[0:1168, ]\n",
    "traintest = train.iloc[1168:, ]"
   ]
  },
  {
   "cell_type": "code",
   "execution_count": 54,
   "metadata": {},
   "outputs": [],
   "source": [
    "train.reset_index(inplace=True)\n",
    "test.reset_index(inplace=True)\n",
    "test.head()\n",
    "train.set_index('Id', inplace=True)\n",
    "test.set_index('Id', inplace=True)\n",
    "train.loc[train.index[0:1168],'Set']='traintrain'\n",
    "train.loc[train.index[1168:],'Set']='traintest'\n",
    "test['Set']='test'\n",
    "full = pd.concat([train, test], )\n",
    "full.reset_index(inplace=True)"
   ]
  },
  {
   "cell_type": "code",
   "execution_count": 51,
   "metadata": {},
   "outputs": [
    {
     "data": {
      "text/plain": [
       "Int64Index([   1,    2,    3,    4,    5,    6,    7,    8,    9,   10,\n",
       "            ...\n",
       "            2910, 2911, 2912, 2913, 2914, 2915, 2916, 2917, 2918, 2919],\n",
       "           dtype='int64', name='Id', length=2919)"
      ]
     },
     "execution_count": 51,
     "metadata": {},
     "output_type": "execute_result"
    }
   ],
   "source": [
    "full.index"
   ]
  },
  {
   "cell_type": "code",
   "execution_count": 57,
   "metadata": {},
   "outputs": [],
   "source": [
    "# create dataframe with average sales price per neighborhood per sqft\n",
    "\n",
    "full['lSalePrice'] = np.log(full.SalePrice)\n",
    "full['lGrLivArea'] = np.log(full.GrLivArea)\n",
    "MeanlSalePrice = full[full.Set=='traintrain'].groupby('Neighborhood').lSalePrice.agg(np.mean)\n",
    "df_MeanlSalePrice = pd.DataFrame(MeanlSalePrice).reset_index().rename(columns={'lSalePrice':'MeanlSalePrice'})\n",
    "df_MeanlSalePrice\n",
    "full2 = pd.merge(full, df_MeanlSalePrice, on='Neighborhood', how='left')"
   ]
  },
  {
   "cell_type": "code",
   "execution_count": 58,
   "metadata": {
    "collapsed": true
   },
   "outputs": [],
   "source": [
    "# replace NAs with 0s where correct\n",
    "full2.loc[np.isnan(full2.TotalBsmtSF), 'TotalBsmtSF'] = 0\n",
    "full2.loc[np.isnan(full2.GarageArea), 'GarageArea'] = 0"
   ]
  },
  {
   "cell_type": "code",
   "execution_count": 59,
   "metadata": {},
   "outputs": [
    {
     "name": "stdout",
     "output_type": "stream",
     "text": [
      "<class 'pandas.core.frame.DataFrame'>\n",
      "Int64Index: 2919 entries, 0 to 2918\n",
      "Data columns (total 12 columns):\n",
      "GarageQual      2919 non-null int64\n",
      "GarageCond      2919 non-null int64\n",
      "LotShape        2919 non-null int64\n",
      "LandSlope       2919 non-null int64\n",
      "ExterQual       2919 non-null int64\n",
      "ExterCond       2919 non-null int64\n",
      "BsmtCond        2919 non-null int64\n",
      "BsmtQual        2919 non-null int64\n",
      "HeatingQC       2919 non-null int64\n",
      "KitchenQual     2919 non-null int64\n",
      "FireplaceQu     2919 non-null int64\n",
      "GarageFinish    2919 non-null int64\n",
      "dtypes: int64(12)\n",
      "memory usage: 296.5 KB\n"
     ]
    },
    {
     "data": {
      "text/plain": [
       "dict_keys(['GarageQual', 'GarageCond', 'LotShape', 'LandSlope', 'ExterQual', 'ExterCond', 'BsmtCond', 'BsmtQual', 'HeatingQC', 'KitchenQual', 'FireplaceQu', 'GarageFinish'])"
      ]
     },
     "execution_count": 59,
     "metadata": {},
     "output_type": "execute_result"
    }
   ],
   "source": [
    "full2.loc[full2.GarageQual.isnull(), 'GarageQual'] = 'NA'\n",
    "full2.loc[full2.GarageCond.isnull(), 'GarageCond'] = 'NA'\n",
    "full2.loc[full2.BsmtCond.isnull(), 'BsmtCond'] = 'NA'\n",
    "full2.loc[full2.BsmtQual.isnull(), 'BsmtQual'] = 'NA'\n",
    "full2.loc[full2.KitchenQual.isnull(), 'KitchenQual'] = 'NA'\n",
    "full2.loc[full2.FireplaceQu.isnull(), 'FireplaceQu'] = 'NA'\n",
    "full2.loc[full2.GarageFinish.isnull(), 'GarageFinish'] = 'NA'\n",
    "cleanup_nums = {\n",
    "    \"GarageQual\":     {\"NA\" : 0, \"Po\": 1, \"Fa\": 2, \"TA\": 3, \"Gd\" : 4, \"Ex\" : 5},\n",
    "    \"GarageCond\":     {\"NA\" : 0, \"Po\": 1, \"Fa\": 2, \"TA\": 3, \"Gd\" : 4, \"Ex\" : 5},\n",
    "    \"LotShape\":     {\"Reg\" : 0, \"IR1\": 1, \"IR2\": 2, \"IR3\": 3},\n",
    "    \"LandSlope\":     {\"Gtl\" : 0, \"Mod\": 1, \"Sev\": 2},\n",
    "    \"ExterQual\":     {\"NA\" : 0, \"Po\": 1, \"Fa\": 2, \"TA\": 3, \"Gd\" : 4, \"Ex\" : 5},\n",
    "    \"ExterCond\":     {\"NA\" : 0, \"Po\": 1, \"Fa\": 2, \"TA\": 3, \"Gd\" : 4, \"Ex\" : 5},\n",
    "    \"BsmtCond\":     {\"NA\" : 0, \"Po\": 1, \"Fa\": 2, \"TA\": 3, \"Gd\" : 4, \"Ex\" : 5},\n",
    "    \"BsmtQual\":     {\"NA\" : 0, \"Po\": 1, \"Fa\": 2, \"TA\": 3, \"Gd\" : 4, \"Ex\" : 5},\n",
    "    \"HeatingQC\":     {\"Po\": 1, \"Fa\": 2, \"TA\": 3, \"Gd\" : 4, \"Ex\" : 5},\n",
    "    \"KitchenQual\":     {\"NA\" : 0,\"Po\": 1, \"Fa\": 2, \"TA\": 3, \"Gd\" : 4, \"Ex\" : 5},\n",
    "    \"FireplaceQu\":     {\"NA\" : 0,\"Po\": 1, \"Fa\": 2, \"TA\": 3, \"Gd\" : 4, \"Ex\" : 5},\n",
    "    \"GarageFinish\":     {\"NA\" : 0,\"Unf\": 1, \"RFn\": 2, \"Fin\": 3},\n",
    "}\n",
    "t = full2.replace(cleanup_nums, inplace=False)\n",
    "t.loc[:, list(cleanup_nums.keys())].info()\n",
    "\n",
    "cleanup_nums.keys()"
   ]
  },
  {
   "cell_type": "code",
   "execution_count": 60,
   "metadata": {
    "collapsed": true
   },
   "outputs": [],
   "source": [
    "for k in cleanup_nums.keys():\n",
    "    full2.loc[:, k] = t.loc[:, k]\n"
   ]
  },
  {
   "cell_type": "code",
   "execution_count": 12,
   "metadata": {},
   "outputs": [
    {
     "data": {
      "text/plain": [
       "['GarageQual',\n",
       " 'GarageCond',\n",
       " 'LotShape',\n",
       " 'LandSlope',\n",
       " 'ExterQual',\n",
       " 'ExterCond',\n",
       " 'BsmtCond',\n",
       " 'BsmtQual',\n",
       " 'HeatingQC',\n",
       " 'KitchenQual',\n",
       " 'FireplaceQu',\n",
       " 'GarageFinish']"
      ]
     },
     "execution_count": 12,
     "metadata": {},
     "output_type": "execute_result"
    }
   ],
   "source": [
    "list(cleanup_nums.keys())"
   ]
  },
  {
   "cell_type": "code",
   "execution_count": 61,
   "metadata": {},
   "outputs": [
    {
     "data": {
      "text/html": [
       "<div>\n",
       "<style>\n",
       "    .dataframe thead tr:only-child th {\n",
       "        text-align: right;\n",
       "    }\n",
       "\n",
       "    .dataframe thead th {\n",
       "        text-align: left;\n",
       "    }\n",
       "\n",
       "    .dataframe tbody tr th {\n",
       "        vertical-align: top;\n",
       "    }\n",
       "</style>\n",
       "<table border=\"1\" class=\"dataframe\">\n",
       "  <thead>\n",
       "    <tr style=\"text-align: right;\">\n",
       "      <th></th>\n",
       "      <th>Missing Values</th>\n",
       "      <th>% of Total Values</th>\n",
       "    </tr>\n",
       "  </thead>\n",
       "  <tbody>\n",
       "    <tr>\n",
       "      <th>Alley</th>\n",
       "      <td>2721</td>\n",
       "      <td>93.216855</td>\n",
       "    </tr>\n",
       "    <tr>\n",
       "      <th>BsmtExposure</th>\n",
       "      <td>82</td>\n",
       "      <td>2.809181</td>\n",
       "    </tr>\n",
       "    <tr>\n",
       "      <th>BsmtFinSF1</th>\n",
       "      <td>1</td>\n",
       "      <td>0.034258</td>\n",
       "    </tr>\n",
       "    <tr>\n",
       "      <th>BsmtFinSF2</th>\n",
       "      <td>1</td>\n",
       "      <td>0.034258</td>\n",
       "    </tr>\n",
       "    <tr>\n",
       "      <th>BsmtFinType1</th>\n",
       "      <td>79</td>\n",
       "      <td>2.706406</td>\n",
       "    </tr>\n",
       "    <tr>\n",
       "      <th>BsmtFinType2</th>\n",
       "      <td>80</td>\n",
       "      <td>2.740665</td>\n",
       "    </tr>\n",
       "    <tr>\n",
       "      <th>BsmtFullBath</th>\n",
       "      <td>2</td>\n",
       "      <td>0.068517</td>\n",
       "    </tr>\n",
       "    <tr>\n",
       "      <th>BsmtHalfBath</th>\n",
       "      <td>2</td>\n",
       "      <td>0.068517</td>\n",
       "    </tr>\n",
       "    <tr>\n",
       "      <th>BsmtUnfSF</th>\n",
       "      <td>1</td>\n",
       "      <td>0.034258</td>\n",
       "    </tr>\n",
       "    <tr>\n",
       "      <th>Electrical</th>\n",
       "      <td>1</td>\n",
       "      <td>0.034258</td>\n",
       "    </tr>\n",
       "    <tr>\n",
       "      <th>Exterior1st</th>\n",
       "      <td>1</td>\n",
       "      <td>0.034258</td>\n",
       "    </tr>\n",
       "    <tr>\n",
       "      <th>Exterior2nd</th>\n",
       "      <td>1</td>\n",
       "      <td>0.034258</td>\n",
       "    </tr>\n",
       "    <tr>\n",
       "      <th>Fence</th>\n",
       "      <td>2348</td>\n",
       "      <td>80.438506</td>\n",
       "    </tr>\n",
       "    <tr>\n",
       "      <th>Functional</th>\n",
       "      <td>2</td>\n",
       "      <td>0.068517</td>\n",
       "    </tr>\n",
       "    <tr>\n",
       "      <th>GarageCars</th>\n",
       "      <td>1</td>\n",
       "      <td>0.034258</td>\n",
       "    </tr>\n",
       "    <tr>\n",
       "      <th>GarageType</th>\n",
       "      <td>157</td>\n",
       "      <td>5.378554</td>\n",
       "    </tr>\n",
       "    <tr>\n",
       "      <th>GarageYrBlt</th>\n",
       "      <td>159</td>\n",
       "      <td>5.447071</td>\n",
       "    </tr>\n",
       "    <tr>\n",
       "      <th>LotFrontage</th>\n",
       "      <td>486</td>\n",
       "      <td>16.649538</td>\n",
       "    </tr>\n",
       "    <tr>\n",
       "      <th>MSZoning</th>\n",
       "      <td>4</td>\n",
       "      <td>0.137033</td>\n",
       "    </tr>\n",
       "    <tr>\n",
       "      <th>MasVnrArea</th>\n",
       "      <td>23</td>\n",
       "      <td>0.787941</td>\n",
       "    </tr>\n",
       "    <tr>\n",
       "      <th>MasVnrType</th>\n",
       "      <td>24</td>\n",
       "      <td>0.822199</td>\n",
       "    </tr>\n",
       "    <tr>\n",
       "      <th>MiscFeature</th>\n",
       "      <td>2814</td>\n",
       "      <td>96.402878</td>\n",
       "    </tr>\n",
       "    <tr>\n",
       "      <th>PoolQC</th>\n",
       "      <td>2909</td>\n",
       "      <td>99.657417</td>\n",
       "    </tr>\n",
       "    <tr>\n",
       "      <th>SalePrice</th>\n",
       "      <td>1459</td>\n",
       "      <td>49.982871</td>\n",
       "    </tr>\n",
       "    <tr>\n",
       "      <th>SaleType</th>\n",
       "      <td>1</td>\n",
       "      <td>0.034258</td>\n",
       "    </tr>\n",
       "    <tr>\n",
       "      <th>Utilities</th>\n",
       "      <td>2</td>\n",
       "      <td>0.068517</td>\n",
       "    </tr>\n",
       "    <tr>\n",
       "      <th>lSalePrice</th>\n",
       "      <td>1459</td>\n",
       "      <td>49.982871</td>\n",
       "    </tr>\n",
       "  </tbody>\n",
       "</table>\n",
       "</div>"
      ],
      "text/plain": [
       "              Missing Values  % of Total Values\n",
       "Alley                   2721          93.216855\n",
       "BsmtExposure              82           2.809181\n",
       "BsmtFinSF1                 1           0.034258\n",
       "BsmtFinSF2                 1           0.034258\n",
       "BsmtFinType1              79           2.706406\n",
       "BsmtFinType2              80           2.740665\n",
       "BsmtFullBath               2           0.068517\n",
       "BsmtHalfBath               2           0.068517\n",
       "BsmtUnfSF                  1           0.034258\n",
       "Electrical                 1           0.034258\n",
       "Exterior1st                1           0.034258\n",
       "Exterior2nd                1           0.034258\n",
       "Fence                   2348          80.438506\n",
       "Functional                 2           0.068517\n",
       "GarageCars                 1           0.034258\n",
       "GarageType               157           5.378554\n",
       "GarageYrBlt              159           5.447071\n",
       "LotFrontage              486          16.649538\n",
       "MSZoning                   4           0.137033\n",
       "MasVnrArea                23           0.787941\n",
       "MasVnrType                24           0.822199\n",
       "MiscFeature             2814          96.402878\n",
       "PoolQC                  2909          99.657417\n",
       "SalePrice               1459          49.982871\n",
       "SaleType                   1           0.034258\n",
       "Utilities                  2           0.068517\n",
       "lSalePrice              1459          49.982871"
      ]
     },
     "execution_count": 61,
     "metadata": {},
     "output_type": "execute_result"
    }
   ],
   "source": [
    "def missing_values_table(df): \n",
    "        mis_val = df.isnull().sum()\n",
    "        mis_val_percent = 100 * df.isnull().sum()/len(df)\n",
    "        mis_val_table = pd.concat([mis_val, mis_val_percent], axis=1)\n",
    "        mis_val_table_ren_columns = mis_val_table.rename(\n",
    "        columns = {0 : 'Missing Values', 1 : '% of Total Values'})\n",
    "        return mis_val_table_ren_columns[mis_val_table_ren_columns['Missing Values'] != 0]\n",
    "\n",
    "missing_values_table(full2)"
   ]
  },
  {
   "cell_type": "code",
   "execution_count": 273,
   "metadata": {
    "collapsed": true
   },
   "outputs": [
    {
     "data": {
      "text/plain": [
       "Typ     2717\n",
       "Min2      70\n",
       "Min1      65\n",
       "Mod       35\n",
       "Maj1      19\n",
       "Maj2       9\n",
       "Sev        2\n",
       "Name: Functional, dtype: int64"
      ]
     },
     "execution_count": 273,
     "metadata": {},
     "output_type": "execute_result"
    }
   ],
   "source": [
    "filter_col = [col for col in full if col.startswith('Bsmt')]\n",
    "\n",
    "#full.loc[full.TotalBsmtSF ==0, filter_col].info()\n",
    "full.Functional.value_counts()\n",
    "import scipy.interpolate as sp\n",
    "import pylab\n",
    "\n",
    "fl = sp.interp1d(full[, y,kind='linear')\n",
    "\n"
   ]
  },
  {
   "cell_type": "code",
   "execution_count": 5,
   "metadata": {
    "collapsed": true
   },
   "outputs": [
    {
     "data": {
      "text/plain": [
       "<matplotlib.axes._subplots.AxesSubplot at 0x5c6c30>"
      ]
     },
     "execution_count": 5,
     "metadata": {},
     "output_type": "execute_result"
    },
    {
     "data": {
      "image/png": "[encoded data removed]",
      "text/plain": [
       "<matplotlib.figure.Figure at 0x7ed5630>"
      ]
     },
     "metadata": {},
     "output_type": "display_data"
    }
   ],
   "source": [
    "t_nonulls = traintrain.loc[:,traintrain.isnull().sum() == 0]\n",
    "traintrain.YrSold.hist()"
   ]
  },
  {
   "cell_type": "code",
   "execution_count": 32,
   "metadata": {
    "collapsed": true
   },
   "outputs": [],
   "source": [
    "def create_dummies(x):\n",
    "    y = x.drop('Neighborhood', axis=1).dropna(axis=1).loc[:, x.dtypes == object]\n",
    "    return pd.get_dummies(y, columns=y.columns, drop_first=True)\n",
    "\n",
    "def select_nonobjects(x):\n",
    "    return x.dropna(axis=1).loc[:, x.dtypes != object]\n",
    "\n",
    "def add_neighborhood_mean(x):\n",
    "    return pd.DataFrame(index = x.index, data = x.groupby('Neighborhood').SalePrice.transform(np.mean)\n",
    "                       ).rename(columns={'SalePrice':'Neighborhoodmean'})\n",
    "\n",
    "def transform_data(x):\n",
    "    return pd.concat([create_dummies(x),select_nonobjects(x), add_neighborhood_mean(x)], axis=1)\n",
    "\n",
    "#x1 = create_dummies(traintrain)\n",
    "#x2 = select_nonobjects(traintrain)\n",
    "#x3 = add_neighborhood_mean(traintrain)\n",
    "\n",
    "traintrain_transform = transform_data(traintrain)\n"
   ]
  },
  {
   "cell_type": "code",
   "execution_count": 33,
   "metadata": {},
   "outputs": [
    {
     "name": "stdout",
     "output_type": "stream",
     "text": [
      "<class 'pandas.core.frame.DataFrame'>\n",
      "RangeIndex: 1168 entries, 0 to 1167\n",
      "Columns: 162 entries, MSZoning_FV to Neighborhoodmean\n",
      "dtypes: float64(1), int64(35), uint8(126)\n",
      "memory usage: 472.3 KB\n"
     ]
    }
   ],
   "source": [
    "traintrain_transform.info()"
   ]
  },
  {
   "cell_type": "code",
   "execution_count": 199,
   "metadata": {
    "collapsed": true
   },
   "outputs": [
    {
     "name": "stdout",
     "output_type": "stream",
     "text": [
      "<class 'pandas.core.frame.DataFrame'>\n",
      "RangeIndex: 1168 entries, 0 to 1167\n",
      "Data columns (total 36 columns):\n",
      "OverallQual              1168 non-null int64\n",
      "Neighborhoodmean         1168 non-null float64\n",
      "GrLivArea                1168 non-null int64\n",
      "GarageCars               1168 non-null int64\n",
      "GarageArea               1168 non-null int64\n",
      "TotalBsmtSF              1168 non-null int64\n",
      "1stFlrSF                 1168 non-null int64\n",
      "FullBath                 1168 non-null int64\n",
      "TotRmsAbvGrd             1168 non-null int64\n",
      "YearBuilt                1168 non-null int64\n",
      "YearRemodAdd             1168 non-null int64\n",
      "Foundation_PConc         1168 non-null uint8\n",
      "Fireplaces               1168 non-null int64\n",
      "ExterQual_Gd             1168 non-null uint8\n",
      "BsmtFinSF1               1168 non-null int64\n",
      "SaleType_New             1168 non-null uint8\n",
      "SaleCondition_Partial    1168 non-null uint8\n",
      "2ndFlrSF                 1168 non-null int64\n",
      "OpenPorchSF              1168 non-null int64\n",
      "KitchenQual_Gd           1168 non-null uint8\n",
      "Exterior1st_VinylSd      1168 non-null uint8\n",
      "Exterior2nd_VinylSd      1168 non-null uint8\n",
      "WoodDeckSF               1168 non-null int64\n",
      "HalfBath                 1168 non-null int64\n",
      "LotArea                  1168 non-null int64\n",
      "HouseStyle_2Story        1168 non-null uint8\n",
      "CentralAir_Y             1168 non-null uint8\n",
      "Electrical_SBrkr         1168 non-null uint8\n",
      "MSZoning_RL              1168 non-null uint8\n",
      "LotShape_Reg             1168 non-null uint8\n",
      "SaleType_WD              1168 non-null uint8\n",
      "MSZoning_RM              1168 non-null uint8\n",
      "HeatingQC_TA             1168 non-null uint8\n",
      "Foundation_CBlock        1168 non-null uint8\n",
      "KitchenQual_TA           1168 non-null uint8\n",
      "ExterQual_TA             1168 non-null uint8\n",
      "dtypes: float64(1), int64(17), uint8(18)\n",
      "memory usage: 184.8 KB\n"
     ]
    }
   ],
   "source": [
    "#create_dummies(traintrain.drop('Neighborhood', axis=1)).corrwith(traintrain.SalePrice).sort_values(ascending=False)\n",
    "t = traintrain_transform.corrwith(traintrain_transform.SalePrice).sort_values(ascending=False)\n",
    "fields = t[abs(t) > 0.25].index\n",
    "fields\n",
    "def filter_data(traintrain_transform, fields):\n",
    "    return traintrain_transform.loc[:, fields].drop('SalePrice', axis=1)\n",
    "\n",
    "traintrain_transform_filter = filter_data(traintrain_transform, fields)\n",
    "traintrain_transform_filter.info()"
   ]
  },
  {
   "cell_type": "code",
   "execution_count": 200,
   "metadata": {},
   "outputs": [
    {
     "data": {
      "text/plain": [
       "0.88897128750520316"
      ]
     },
     "execution_count": 200,
     "metadata": {},
     "output_type": "execute_result"
    }
   ],
   "source": [
    "from sklearn.linear_model import LinearRegression\n",
    "from sklearn.preprocessing import StandardScaler\n",
    "from sklearn.pipeline import Pipeline\n",
    "\n",
    "lin_reg = Pipeline([\n",
    "    ('std_scaler', StandardScaler()),\n",
    "    ('lin_reg', LinearRegression()),\n",
    "])\n",
    "\n",
    "lin_reg.fit(traintrain_transform_filter, np.log(traintrain.SalePrice))\n",
    "lin_reg.score(traintrain_transform_filter,np.log(traintrain.SalePrice))"
   ]
  },
  {
   "cell_type": "markdown",
   "metadata": {},
   "source": [
    "## fillin some null values"
   ]
  },
  {
   "cell_type": "code",
   "execution_count": 66,
   "metadata": {},
   "outputs": [
    {
     "data": {
      "text/plain": [
       "1915     IDOTRR\n",
       "2216     IDOTRR\n",
       "2250     IDOTRR\n",
       "2904    Mitchel\n",
       "Name: Neighborhood, dtype: object"
      ]
     },
     "execution_count": 66,
     "metadata": {},
     "output_type": "execute_result"
    }
   ],
   "source": [
    "full2.drop(fields, axis=1).loc[full2.MSZoning.isnull()].Neighborhood"
   ]
  },
  {
   "cell_type": "code",
   "execution_count": 65,
   "metadata": {},
   "outputs": [
    {
     "name": "stdout",
     "output_type": "stream",
     "text": [
      "RM         68\n",
      "C (all)    22\n",
      "Name: MSZoning, dtype: int64\n",
      "RL    104\n",
      "RM      9\n",
      "Name: MSZoning, dtype: int64\n",
      "RL         2265\n",
      "RM          460\n",
      "FV          139\n",
      "RH           26\n",
      "C (all)      25\n",
      "Name: MSZoning, dtype: int64\n"
     ]
    }
   ],
   "source": [
    "print(full2.loc[full2.Neighborhood == 'IDOTRR', 'MSZoning'].value_counts())\n",
    "print(full2.loc[full2.Neighborhood == 'Mitchel', 'MSZoning'].value_counts())\n",
    "print(full2.loc[:, 'MSZoning'].value_counts())"
   ]
  },
  {
   "cell_type": "code",
   "execution_count": 67,
   "metadata": {
    "collapsed": true
   },
   "outputs": [],
   "source": [
    "# fill missing Zoning with most common for neighborhood\n",
    "full2.loc[(full2.MSZoning.isnull()) & (full2.Neighborhood == 'IDOTRR'), 'MSZoning'] = 'RM'\n",
    "full2.loc[(full2.MSZoning.isnull()) & (full2.Neighborhood == 'Mitchel'), 'MSZoning'] = 'RL'"
   ]
  },
  {
   "cell_type": "code",
   "execution_count": 74,
   "metadata": {},
   "outputs": [
    {
     "data": {
      "text/plain": [
       "Index(['Id', 'Alley', 'BldgType', 'BsmtExposure', 'BsmtFinSF1', 'BsmtFinSF2',\n",
       "       'BsmtFinType1', 'BsmtFinType2', 'BsmtFullBath', 'BsmtHalfBath',\n",
       "       'BsmtUnfSF', 'CentralAir', 'Condition1', 'Condition2', 'Electrical',\n",
       "       'Exterior1st', 'Exterior2nd', 'Fence', 'Foundation', 'FullBath',\n",
       "       'Functional', 'GarageCars', 'GarageType', 'GarageYrBlt', 'GrLivArea',\n",
       "       'HalfBath', 'Heating', 'HouseStyle', 'KitchenAbvGr', 'LandContour',\n",
       "       'LotConfig', 'LotFrontage', 'MSSubClass', 'MSZoning', 'MasVnrArea',\n",
       "       'MasVnrType', 'MiscFeature', 'MoSold', 'Neighborhood', 'PavedDrive',\n",
       "       'PoolArea', 'PoolQC', 'RoofMatl', 'RoofStyle', 'SaleCondition',\n",
       "       'SalePrice', 'SaleType', 'Set', 'Street', 'TotRmsAbvGrd', 'Utilities',\n",
       "       'YrSold', 'index', 'lSalePrice'],\n",
       "      dtype='object')"
      ]
     },
     "execution_count": 74,
     "metadata": {},
     "output_type": "execute_result"
    }
   ],
   "source": [
    "full2.drop(fields, axis=1).columns"
   ]
  },
  {
   "cell_type": "code",
   "execution_count": 82,
   "metadata": {},
   "outputs": [
    {
     "data": {
      "text/plain": [
       "lSalePrice               1.000000\n",
       "SalePrice                0.950157\n",
       "GrLivArea                0.725025\n",
       "GarageYrBlt              0.553972\n",
       "Foundation_PConc         0.537565\n",
       "BsmtFinType1_GLQ         0.436466\n",
       "MasVnrArea               0.433632\n",
       "GarageType_Attchd        0.410289\n",
       "BsmtFinSF1               0.380959\n",
       "LotFrontage              0.377901\n",
       "CentralAir_Y             0.355478\n",
       "Exterior1st_VinylSd      0.349087\n",
       "SaleType_New             0.348409\n",
       "Exterior2nd_VinylSd      0.348080\n",
       "SaleCondition_Partial    0.342411\n",
       "HalfBath                 0.326509\n",
       "MasVnrType_Stone         0.326415\n",
       "Electrical_SBrkr         0.319746\n",
       "PavedDrive_Y             0.313089\n",
       "MSZoning_RL              0.306724\n",
       "HouseStyle_2Story        0.277771\n",
       "BsmtExposure_Gd          0.255236\n",
       "GarageType_BuiltIn       0.247959\n",
       "BsmtFullBath             0.232673\n",
       "MasVnrType_BrkFace       0.231069\n",
       "BsmtUnfSF                0.221787\n",
       "RoofStyle_Hip            0.194446\n",
       "Functional_Typ           0.141355\n",
       "RoofMatl_WdShngl         0.132735\n",
       "LotConfig_CulDSac        0.132538\n",
       "                           ...   \n",
       "BsmtFinType1_LwQ        -0.089986\n",
       "HouseStyle_SFoyer       -0.094058\n",
       "PavedDrive_P            -0.099425\n",
       "SaleCondition_Normal    -0.100948\n",
       "BsmtFinType1_Unf        -0.102301\n",
       "BldgType_Twnhs          -0.106283\n",
       "HouseStyle_1.5Unf       -0.115053\n",
       "Functional_Maj2         -0.115241\n",
       "BldgType_2fmCon         -0.115770\n",
       "BldgType_Duplex         -0.116395\n",
       "Condition1_Feedr        -0.117388\n",
       "Fence_GdWo              -0.125508\n",
       "BsmtFinType1_Rec        -0.126211\n",
       "BsmtFinType1_BLQ        -0.137672\n",
       "KitchenAbvGr            -0.144455\n",
       "Heating_Grav            -0.147712\n",
       "Foundation_Slab         -0.150532\n",
       "Electrical_FuseF        -0.165778\n",
       "Fence_MnPrv             -0.165909\n",
       "Exterior2nd_MetalSd     -0.171285\n",
       "Exterior1st_MetalSd     -0.176433\n",
       "RoofStyle_Gable         -0.179894\n",
       "Exterior2nd_Wd Sdng     -0.183925\n",
       "Exterior1st_Wd Sdng     -0.196604\n",
       "SaleType_WD             -0.221620\n",
       "BsmtExposure_No         -0.225778\n",
       "Foundation_CBlock       -0.347058\n",
       "MSZoning_RM             -0.360383\n",
       "MasVnrType_None         -0.393376\n",
       "GarageType_Detchd       -0.395079\n",
       "Length: 154, dtype: float64"
      ]
     },
     "execution_count": 82,
     "metadata": {},
     "output_type": "execute_result"
    }
   ],
   "source": [
    "pd.get_dummies(full2[full2.Set=='traintrain']\n",
    "               .drop(fields, axis=1)\n",
    "               .drop('Neighborhood', axis=1), drop_first=True).corrwith(full2[full2.Set=='traintrain'].lSalePrice).sort_values(ascending=False)"
   ]
  },
  {
   "cell_type": "code",
   "execution_count": 102,
   "metadata": {},
   "outputs": [],
   "source": [
    "dummies = pd.get_dummies(data=full2.loc[:, ['Foundation', 'MSZoning']],  drop_first=True)\n",
    "dummycolumns=dummies.columns\n"
   ]
  },
  {
   "cell_type": "code",
   "execution_count": 104,
   "metadata": {},
   "outputs": [],
   "source": [
    "## add dummies\n",
    "full2 = pd.concat([full2, dummies], axis=1)"
   ]
  },
  {
   "cell_type": "code",
   "execution_count": 110,
   "metadata": {},
   "outputs": [
    {
     "name": "stdout",
     "output_type": "stream",
     "text": [
      "score on training set 0.904870317128\n",
      "cross val score [ 0.1204839   0.1157719   0.13546941  0.13868961  0.17964843  0.15784667\n",
      "  0.132494    0.10275548  0.13360766  0.1111405 ]\n",
      "mean cross val score 0.132790756695\n"
     ]
    }
   ],
   "source": [
    "from sklearn.linear_model import LinearRegression\n",
    "from sklearn.model_selection import cross_val_score\n",
    "# linear regression playground\n",
    "fields = (['lGrLivArea','MeanlSalePrice', 'OverallQual', 'OverallCond', 'TotalBsmtSF', 'GarageArea', 'LotArea', \n",
    "          'YearBuilt', 'YearRemodAdd', 'MiscVal', 'LowQualFinSF', 'Fireplaces',\n",
    "         'WoodDeckSF', 'OpenPorchSF', 'EnclosedPorch', '3SsnPorch', 'ScreenPorch',\n",
    "         '1stFlrSF', '2ndFlrSF', 'BedroomAbvGr', 'GarageCars', 'FullBath', 'TotRmsAbvGrd'] \n",
    "          + list(cleanup_nums.keys())\n",
    "          + list(dummycolumns)\n",
    "         )\n",
    "#fields = ['lGrLivArea', 'OverallQual', 'OverallCond', 'TotalBsmtSF', 'GarageArea', 'LotArea', \n",
    "#          'YearBuilt', 'YearRemodAdd', 'MiscVal', '1stFlrSF', ]\n",
    "X = full2.loc[full2.Set=='traintrain', fields]\n",
    "y = full2.loc[full2.Set=='traintrain', 'lSalePrice']\n",
    "simple_lin_reg=LinearRegression()\n",
    "simple_lin_reg.fit(X, y)\n",
    "print(\"score on training set\", simple_lin_reg.score(X, y))\n",
    "a = np.sqrt(-cross_val_score(simple_lin_reg, X, y, cv=10, scoring=\"neg_mean_squared_error\"))\n",
    "print(\"cross val score\", a)\n",
    "print(\"mean cross val score\", a.mean())\n",
    "\n"
   ]
  },
  {
   "cell_type": "code",
   "execution_count": 12,
   "metadata": {},
   "outputs": [
    {
     "ename": "NameError",
     "evalue": "name 'fields' is not defined",
     "output_type": "error",
     "traceback": [
      "\u001b[1;31m---------------------------------------------------------------------------\u001b[0m",
      "\u001b[1;31mNameError\u001b[0m                                 Traceback (most recent call last)",
      "\u001b[1;32m<ipython-input-12-a7c498807695>\u001b[0m in \u001b[0;36m<module>\u001b[1;34m()\u001b[0m\n\u001b[1;32m----> 1\u001b[1;33m \u001b[0mfull2\u001b[0m\u001b[1;33m.\u001b[0m\u001b[0mloc\u001b[0m\u001b[1;33m[\u001b[0m\u001b[1;33m:\u001b[0m\u001b[1;33m,\u001b[0m \u001b[0mfields\u001b[0m \u001b[1;33m+\u001b[0m \u001b[0mlist\u001b[0m\u001b[1;33m(\u001b[0m\u001b[0mcleanup_nums\u001b[0m\u001b[1;33m.\u001b[0m\u001b[0mkeys\u001b[0m\u001b[1;33m(\u001b[0m\u001b[1;33m)\u001b[0m\u001b[1;33m)\u001b[0m\u001b[1;33m]\u001b[0m\u001b[1;33m.\u001b[0m\u001b[0minfo\u001b[0m\u001b[1;33m(\u001b[0m\u001b[1;33m)\u001b[0m\u001b[1;33m\u001b[0m\u001b[0m\n\u001b[0m",
      "\u001b[1;31mNameError\u001b[0m: name 'fields' is not defined"
     ]
    }
   ],
   "source": [
    "full2.loc[:, fields + list(cleanup_nums.keys())].info()"
   ]
  },
  {
   "cell_type": "code",
   "execution_count": 111,
   "metadata": {},
   "outputs": [
    {
     "name": "stdout",
     "output_type": "stream",
     "text": [
      "score on training set 0.981524223558\n",
      "[ 0.15344073  0.13086281  0.1293691   0.16381078  0.18008163  0.16903769\n",
      "  0.1349334   0.12029299  0.1397937   0.14318493]\n",
      "0.146480774482\n"
     ]
    }
   ],
   "source": [
    "from sklearn.ensemble import RandomForestRegressor\n",
    "RF_reg = RandomForestRegressor(n_estimators=200)\n",
    "RF_reg.fit(X, y)\n",
    "print(\"score on training set\", RF_reg.score(X, y))\n",
    "\n",
    "a = np.sqrt(-cross_val_score(RF_reg, X, y, cv=10, scoring=\"neg_mean_squared_error\"))\n",
    "print(a)\n",
    "print(a.mean())"
   ]
  },
  {
   "cell_type": "code",
   "execution_count": null,
   "metadata": {
    "collapsed": true
   },
   "outputs": [],
   "source": [
    "?lin_reg.score"
   ]
  },
  {
   "cell_type": "code",
   "execution_count": 349,
   "metadata": {},
   "outputs": [
    {
     "data": {
      "text/plain": [
       "array([ 0.14043358,  0.11788848,  0.12877539,  0.14998949,  0.20571224,\n",
       "        0.14983411,  0.13013122,  0.12444642,  0.13122425,  0.11989735])"
      ]
     },
     "execution_count": 349,
     "metadata": {},
     "output_type": "execute_result"
    }
   ],
   "source": [
    "np.sqrt(-cross_val_score(lin_reg, traintrain_transform_filter, np.log(traintrain.SalePrice), cv=10, scoring=\"neg_mean_squared_error\"))\n"
   ]
  },
  {
   "cell_type": "code",
   "execution_count": 17,
   "metadata": {},
   "outputs": [
    {
     "ename": "NameError",
     "evalue": "name 'traintrain_transform_filter' is not defined",
     "output_type": "error",
     "traceback": [
      "\u001b[1;31m---------------------------------------------------------------------------\u001b[0m",
      "\u001b[1;31mNameError\u001b[0m                                 Traceback (most recent call last)",
      "\u001b[1;32m<ipython-input-17-109a1c7fa5db>\u001b[0m in \u001b[0;36m<module>\u001b[1;34m()\u001b[0m\n\u001b[0;32m      2\u001b[0m \u001b[1;33m\u001b[0m\u001b[0m\n\u001b[0;32m      3\u001b[0m \u001b[0mRF_reg\u001b[0m \u001b[1;33m=\u001b[0m \u001b[0mRandomForestRegressor\u001b[0m\u001b[1;33m(\u001b[0m\u001b[0mn_estimators\u001b[0m\u001b[1;33m=\u001b[0m\u001b[1;36m100\u001b[0m\u001b[1;33m)\u001b[0m\u001b[1;33m\u001b[0m\u001b[0m\n\u001b[1;32m----> 4\u001b[1;33m \u001b[0mRF_reg\u001b[0m\u001b[1;33m.\u001b[0m\u001b[0mfit\u001b[0m\u001b[1;33m(\u001b[0m\u001b[0mtraintrain_transform_filter\u001b[0m\u001b[1;33m,\u001b[0m \u001b[0mnp\u001b[0m\u001b[1;33m.\u001b[0m\u001b[0mlog\u001b[0m\u001b[1;33m(\u001b[0m\u001b[0mtraintrain\u001b[0m\u001b[1;33m.\u001b[0m\u001b[0mSalePrice\u001b[0m\u001b[1;33m)\u001b[0m\u001b[1;33m)\u001b[0m\u001b[1;33m\u001b[0m\u001b[0m\n\u001b[0m\u001b[0;32m      5\u001b[0m \u001b[0mRF_reg\u001b[0m\u001b[1;33m.\u001b[0m\u001b[0mscore\u001b[0m\u001b[1;33m(\u001b[0m\u001b[0mtraintrain_transform_filter\u001b[0m\u001b[1;33m,\u001b[0m\u001b[0mnp\u001b[0m\u001b[1;33m.\u001b[0m\u001b[0mlog\u001b[0m\u001b[1;33m(\u001b[0m\u001b[0mtraintrain\u001b[0m\u001b[1;33m.\u001b[0m\u001b[0mSalePrice\u001b[0m\u001b[1;33m)\u001b[0m\u001b[1;33m)\u001b[0m\u001b[1;33m\u001b[0m\u001b[0m\n",
      "\u001b[1;31mNameError\u001b[0m: name 'traintrain_transform_filter' is not defined"
     ]
    }
   ],
   "source": [
    "from sklearn.ensemble import RandomForestRegressor\n",
    "\n",
    "RF_reg = RandomForestRegressor(n_estimators=100)\n",
    "RF_reg.fit(traintrain_transform_filter, np.log(traintrain.SalePrice))\n",
    "RF_reg.score(traintrain_transform_filter,np.log(traintrain.SalePrice))\n"
   ]
  },
  {
   "cell_type": "code",
   "execution_count": 213,
   "metadata": {},
   "outputs": [
    {
     "data": {
      "text/plain": [
       "array([ 0.15650366,  0.13661451,  0.13505355,  0.17325113,  0.1759403 ,\n",
       "        0.17156008,  0.12397048,  0.11709869,  0.13120117,  0.13065087])"
      ]
     },
     "execution_count": 213,
     "metadata": {},
     "output_type": "execute_result"
    }
   ],
   "source": [
    "def cross_val(model, data, price):\n",
    "    return np.sqrt(-cross_val_score(model, data, np.log(price), cv=10, scoring=\"neg_mean_squared_error\"))\n",
    "\n",
    "cross_val(RF_reg, traintrain_transform_filter, traintrain.SalePrice)"
   ]
  },
  {
   "cell_type": "markdown",
   "metadata": {},
   "source": [
    "## Test"
   ]
  },
  {
   "cell_type": "code",
   "execution_count": 113,
   "metadata": {},
   "outputs": [
    {
     "data": {
      "text/plain": [
       "0.17082827570942632"
      ]
     },
     "execution_count": 113,
     "metadata": {},
     "output_type": "execute_result"
    }
   ],
   "source": [
    "X = full2.loc[full2.Set=='traintest', fields]\n",
    "y = full2.loc[full2.Set=='traintest', 'lSalePrice']\n",
    "predicted = simple_lin_reg.predict(X)\n",
    "from sklearn.metrics import mean_squared_error\n",
    "np.sqrt(mean_squared_error(y, predicted))"
   ]
  },
  {
   "cell_type": "code",
   "execution_count": 203,
   "metadata": {},
   "outputs": [
    {
     "name": "stdout",
     "output_type": "stream",
     "text": [
      "<class 'pandas.core.frame.DataFrame'>\n",
      "Int64Index: 292 entries, 0 to 291\n",
      "Data columns (total 36 columns):\n",
      "OverallQual              292 non-null int64\n",
      "Neighborhoodmean         292 non-null float64\n",
      "GrLivArea                292 non-null int64\n",
      "GarageCars               292 non-null int64\n",
      "GarageArea               292 non-null int64\n",
      "TotalBsmtSF              292 non-null int64\n",
      "1stFlrSF                 292 non-null int64\n",
      "FullBath                 292 non-null int64\n",
      "TotRmsAbvGrd             292 non-null int64\n",
      "YearBuilt                292 non-null int64\n",
      "YearRemodAdd             292 non-null int64\n",
      "Foundation_PConc         292 non-null uint8\n",
      "Fireplaces               292 non-null int64\n",
      "ExterQual_Gd             292 non-null uint8\n",
      "BsmtFinSF1               292 non-null int64\n",
      "SaleType_New             292 non-null uint8\n",
      "SaleCondition_Partial    292 non-null uint8\n",
      "2ndFlrSF                 292 non-null int64\n",
      "OpenPorchSF              292 non-null int64\n",
      "KitchenQual_Gd           292 non-null uint8\n",
      "Exterior1st_VinylSd      292 non-null uint8\n",
      "Exterior2nd_VinylSd      292 non-null uint8\n",
      "WoodDeckSF               292 non-null int64\n",
      "HalfBath                 292 non-null int64\n",
      "LotArea                  292 non-null int64\n",
      "HouseStyle_2Story        292 non-null uint8\n",
      "CentralAir_Y             292 non-null uint8\n",
      "Electrical_SBrkr         292 non-null int64\n",
      "MSZoning_RL              292 non-null uint8\n",
      "LotShape_Reg             292 non-null uint8\n",
      "SaleType_WD              292 non-null uint8\n",
      "MSZoning_RM              292 non-null uint8\n",
      "HeatingQC_TA             292 non-null uint8\n",
      "Foundation_CBlock        292 non-null uint8\n",
      "KitchenQual_TA           292 non-null uint8\n",
      "ExterQual_TA             292 non-null uint8\n",
      "dtypes: float64(1), int64(18), uint8(17)\n",
      "memory usage: 50.5 KB\n"
     ]
    }
   ],
   "source": [
    "d = pd.DataFrame((traintrain.groupby('Neighborhood')\n",
    "                  .SalePrice.agg(np.mean))\n",
    "                 .reset_index()\n",
    "                 .rename(columns={'SalePrice': 'Neighborhoodmean'})\n",
    "                )\n",
    "traintest_transform = pd.merge(traintest, d, on='Neighborhood', how='left')\n",
    "traintest_transform = pd.concat([create_dummies(traintest_transform),select_nonobjects(traintest_transform)], axis=1)\n",
    "traintest_transform_filter = filter_data(traintest_transform, fields)\n",
    "traintest_transform_filter.Electrical_SBrkr = 0\n",
    "traintest_transform_filter.info()\n",
    "#traintest_transform_filter\n",
    "#traintrain.Neighborhood\n",
    "#print(traintest.loc[:, ['Id','Neighborhood']])\n",
    "#print(d)\n",
    "#print(traintest_transform.loc[0:10, ['Id','Neighborhood', 'Neighborhoodmean']])\n",
    "#pd.merge(traintest.loc[:, ['Id','Neighborhood']], d, on='Neighborhood', how='left')\n",
    "#traintest.loc[traintest.index[0:10], ['Id','Neighborhood']]"
   ]
  },
  {
   "cell_type": "code",
   "execution_count": 188,
   "metadata": {},
   "outputs": [
    {
     "data": {
      "text/plain": [
       "[('OverallQual', 'OverallQual'),\n",
       " ('Neighborhoodmean', 'Neighborhoodmean'),\n",
       " ('GrLivArea', 'GrLivArea'),\n",
       " ('GarageCars', 'GarageCars'),\n",
       " ('GarageArea', 'GarageArea'),\n",
       " ('TotalBsmtSF', 'TotalBsmtSF'),\n",
       " ('1stFlrSF', '1stFlrSF'),\n",
       " ('FullBath', 'FullBath'),\n",
       " ('TotRmsAbvGrd', 'TotRmsAbvGrd'),\n",
       " ('YearBuilt', 'YearBuilt'),\n",
       " ('YearRemodAdd', 'YearRemodAdd'),\n",
       " ('Foundation_PConc', 'Foundation_PConc'),\n",
       " ('Fireplaces', 'Fireplaces'),\n",
       " ('ExterQual_Gd', 'ExterQual_Gd'),\n",
       " ('BsmtFinSF1', 'BsmtFinSF1'),\n",
       " ('SaleType_New', 'SaleType_New'),\n",
       " ('SaleCondition_Partial', 'SaleCondition_Partial'),\n",
       " ('2ndFlrSF', '2ndFlrSF'),\n",
       " ('OpenPorchSF', 'OpenPorchSF'),\n",
       " ('KitchenQual_Gd', 'KitchenQual_Gd'),\n",
       " ('Exterior1st_VinylSd', 'Exterior1st_VinylSd'),\n",
       " ('Exterior2nd_VinylSd', 'Exterior2nd_VinylSd'),\n",
       " ('WoodDeckSF', 'WoodDeckSF'),\n",
       " ('HalfBath', 'HalfBath'),\n",
       " ('LotArea', 'LotArea'),\n",
       " ('HouseStyle_2Story', 'HouseStyle_2Story'),\n",
       " ('CentralAir_Y', 'CentralAir_Y'),\n",
       " ('Electrical_SBrkr', 'Electrical_SBrkr'),\n",
       " ('MSZoning_RL', 'MSZoning_RL'),\n",
       " ('LotShape_Reg', 'LotShape_Reg'),\n",
       " ('SaleType_WD', 'SaleType_WD'),\n",
       " ('MSZoning_RM', 'MSZoning_RM'),\n",
       " ('HeatingQC_TA', 'HeatingQC_TA'),\n",
       " ('Foundation_CBlock', 'Foundation_CBlock'),\n",
       " ('KitchenQual_TA', 'KitchenQual_TA'),\n",
       " ('ExterQual_TA', 'ExterQual_TA')]"
      ]
     },
     "execution_count": 188,
     "metadata": {},
     "output_type": "execute_result"
    }
   ],
   "source": [
    "list(zip(traintrain_transform_filter.columns, traintest_transform_filter.columns))"
   ]
  },
  {
   "cell_type": "code",
   "execution_count": 204,
   "metadata": {},
   "outputs": [
    {
     "data": {
      "text/plain": [
       "0.75309416143645114"
      ]
     },
     "execution_count": 204,
     "metadata": {},
     "output_type": "execute_result"
    }
   ],
   "source": [
    "lin_reg.score(traintest_transform_filter,np.log(traintest.SalePrice))"
   ]
  },
  {
   "cell_type": "code",
   "execution_count": 177,
   "metadata": {},
   "outputs": [
    {
     "data": {
      "text/plain": [
       "OverallQual        NaN\n",
       "Neighborhoodmean   NaN\n",
       "GrLivArea          NaN\n",
       "dtype: float64"
      ]
     },
     "execution_count": 177,
     "metadata": {},
     "output_type": "execute_result"
    }
   ],
   "source": [
    "traintest_transform_filter.corrwith(other=traintest.SalePrice)"
   ]
  },
  {
   "cell_type": "code",
   "execution_count": 205,
   "metadata": {
    "collapsed": true
   },
   "outputs": [],
   "source": [
    "predicted = lin_reg.predict(traintest_transform_filter)"
   ]
  },
  {
   "cell_type": "code",
   "execution_count": 206,
   "metadata": {},
   "outputs": [
    {
     "data": {
      "text/plain": [
       "0.19433769075736232"
      ]
     },
     "execution_count": 206,
     "metadata": {},
     "output_type": "execute_result"
    }
   ],
   "source": [
    "from sklearn.metrics import mean_squared_error\n",
    "np.sqrt(mean_squared_error(np.log(traintest.SalePrice), predicted))"
   ]
  },
  {
   "cell_type": "code",
   "execution_count": 214,
   "metadata": {},
   "outputs": [
    {
     "data": {
      "text/plain": [
       "0.15249549910457461"
      ]
     },
     "execution_count": 214,
     "metadata": {},
     "output_type": "execute_result"
    }
   ],
   "source": [
    "predicted_RF = RF_reg.predict(traintest_transform_filter)\n",
    "np.sqrt(mean_squared_error(np.log(traintest.SalePrice), predicted_RF))"
   ]
  },
  {
   "cell_type": "markdown",
   "metadata": {},
   "source": [
    "## Submission"
   ]
  },
  {
   "cell_type": "code",
   "execution_count": 83,
   "metadata": {},
   "outputs": [
    {
     "data": {
      "text/plain": [
       "count       292.000000\n",
       "mean     180046.040837\n",
       "std       55092.167599\n",
       "min       97120.000000\n",
       "25%      136448.312500\n",
       "50%      186082.196078\n",
       "75%      198519.662219\n",
       "max      318783.571429\n",
       "Name: Neighborhoodmean, dtype: float64"
      ]
     },
     "execution_count": 83,
     "metadata": {},
     "output_type": "execute_result"
    }
   ],
   "source": [
    "traintest2['Neighborhoodmean'].describe()"
   ]
  },
  {
   "cell_type": "code",
   "execution_count": 84,
   "metadata": {},
   "outputs": [
    {
     "data": {
      "text/plain": [
       "0.81129268196318038"
      ]
     },
     "execution_count": 84,
     "metadata": {},
     "output_type": "execute_result"
    }
   ],
   "source": [
    "# re-create full training set\n",
    "full = pd.concat([traintrain, traintest2])\n",
    "# re-fit on full set\n",
    "final_lin_reg = LinearRegression()\n",
    "final_lin_reg.fit(full[fields], np.log(full.SalePrice))\n",
    "final_lin_reg.score(full[fields],np.log(full.SalePrice))"
   ]
  },
  {
   "cell_type": "code",
   "execution_count": 85,
   "metadata": {
    "collapsed": true
   },
   "outputs": [],
   "source": [
    "# add neighborhood means\n",
    "test2 = pd.merge(test, d, on='Neighborhood')"
   ]
  },
  {
   "cell_type": "code",
   "execution_count": 68,
   "metadata": {},
   "outputs": [
    {
     "data": {
      "text/plain": [
       "Neighborhood\n",
       "Blmngtn    192688.466667\n",
       "Blueste    137500.000000\n",
       "BrDale     104408.333333\n",
       "BrkSide    124355.000000\n",
       "ClearCr    214159.666667\n",
       "CollgCr    197831.855932\n",
       "Crawfor    200583.081081\n",
       "Edwards    127176.923077\n",
       "Gilbert    191401.937500\n",
       "IDOTRR     100914.545455\n",
       "MeadowV     97120.000000\n",
       "Mitchel    160809.081081\n",
       "NAmes      145927.629213\n",
       "NPkVill    144714.285714\n",
       "NWAmes     190498.272727\n",
       "NoRidge    318783.571429\n",
       "NridgHt    318458.485294\n",
       "OldTown    128869.544444\n",
       "SWISU      142416.700000\n",
       "Sawyer     136448.312500\n",
       "SawyerW    186082.196078\n",
       "Somerst    227530.575758\n",
       "StoneBr    314107.608696\n",
       "Timber     243325.964286\n",
       "Veenker    233250.000000\n",
       "Name: Neighborhoodmean, dtype: float64"
      ]
     },
     "execution_count": 68,
     "metadata": {},
     "output_type": "execute_result"
    }
   ],
   "source": [
    "test2.groupby('Neighborhood').mean().loc[:, 'Neighborhoodmean']"
   ]
  },
  {
   "cell_type": "code",
   "execution_count": 86,
   "metadata": {},
   "outputs": [
    {
     "name": "stdout",
     "output_type": "stream",
     "text": [
      "<class 'pandas.core.frame.DataFrame'>\n",
      "Int64Index: 1459 entries, 0 to 1458\n",
      "Data columns (total 5 columns):\n",
      "Neighborhoodmean    1459 non-null float64\n",
      "GrLivArea           1459 non-null int64\n",
      "OverallQual         1459 non-null int64\n",
      "YearBuilt           1459 non-null int64\n",
      "YearRemodAdd        1459 non-null int64\n",
      "dtypes: float64(1), int64(4)\n",
      "memory usage: 68.4 KB\n"
     ]
    }
   ],
   "source": [
    "test2[fields].info()"
   ]
  },
  {
   "cell_type": "code",
   "execution_count": 87,
   "metadata": {
    "collapsed": true
   },
   "outputs": [],
   "source": [
    "test2predicted = np.exp(lin_reg.predict(test2[fields]))"
   ]
  },
  {
   "cell_type": "code",
   "execution_count": 88,
   "metadata": {
    "collapsed": true
   },
   "outputs": [],
   "source": [
    "df = pd.DataFrame(index=test2.Id, data=test2predicted, columns=['SalePrice'])"
   ]
  },
  {
   "cell_type": "code",
   "execution_count": 35,
   "metadata": {
    "collapsed": true
   },
   "outputs": [
    {
     "data": {
      "text/html": [
       "<div>\n",
       "<style>\n",
       "    .dataframe thead tr:only-child th {\n",
       "        text-align: right;\n",
       "    }\n",
       "\n",
       "    .dataframe thead th {\n",
       "        text-align: left;\n",
       "    }\n",
       "\n",
       "    .dataframe tbody tr th {\n",
       "        vertical-align: top;\n",
       "    }\n",
       "</style>\n",
       "<table border=\"1\" class=\"dataframe\">\n",
       "  <thead>\n",
       "    <tr style=\"text-align: right;\">\n",
       "      <th></th>\n",
       "      <th>SalePrice</th>\n",
       "    </tr>\n",
       "    <tr>\n",
       "      <th>Id</th>\n",
       "      <th></th>\n",
       "    </tr>\n",
       "  </thead>\n",
       "  <tbody>\n",
       "    <tr>\n",
       "      <th>1461</th>\n",
       "      <td>116467.605664</td>\n",
       "    </tr>\n",
       "    <tr>\n",
       "      <th>1462</th>\n",
       "      <td>137639.237889</td>\n",
       "    </tr>\n",
       "    <tr>\n",
       "      <th>1470</th>\n",
       "      <td>115840.343478</td>\n",
       "    </tr>\n",
       "    <tr>\n",
       "      <th>1471</th>\n",
       "      <td>138064.631105</td>\n",
       "    </tr>\n",
       "    <tr>\n",
       "      <th>1510</th>\n",
       "      <td>132584.454470</td>\n",
       "    </tr>\n",
       "    <tr>\n",
       "      <th>1511</th>\n",
       "      <td>131413.382966</td>\n",
       "    </tr>\n",
       "    <tr>\n",
       "      <th>1512</th>\n",
       "      <td>147592.326017</td>\n",
       "    </tr>\n",
       "    <tr>\n",
       "      <th>1513</th>\n",
       "      <td>163477.188381</td>\n",
       "    </tr>\n",
       "    <tr>\n",
       "      <th>1514</th>\n",
       "      <td>160540.132254</td>\n",
       "    </tr>\n",
       "    <tr>\n",
       "      <th>1515</th>\n",
       "      <td>212998.913359</td>\n",
       "    </tr>\n",
       "    <tr>\n",
       "      <th>1516</th>\n",
       "      <td>150234.542326</td>\n",
       "    </tr>\n",
       "    <tr>\n",
       "      <th>1517</th>\n",
       "      <td>127370.923418</td>\n",
       "    </tr>\n",
       "    <tr>\n",
       "      <th>1518</th>\n",
       "      <td>153042.081496</td>\n",
       "    </tr>\n",
       "    <tr>\n",
       "      <th>1519</th>\n",
       "      <td>145894.228314</td>\n",
       "    </tr>\n",
       "    <tr>\n",
       "      <th>1520</th>\n",
       "      <td>128110.029253</td>\n",
       "    </tr>\n",
       "    <tr>\n",
       "      <th>1521</th>\n",
       "      <td>131261.399045</td>\n",
       "    </tr>\n",
       "    <tr>\n",
       "      <th>1522</th>\n",
       "      <td>151631.814176</td>\n",
       "    </tr>\n",
       "    <tr>\n",
       "      <th>1523</th>\n",
       "      <td>138064.631105</td>\n",
       "    </tr>\n",
       "    <tr>\n",
       "      <th>1524</th>\n",
       "      <td>124265.015030</td>\n",
       "    </tr>\n",
       "    <tr>\n",
       "      <th>1525</th>\n",
       "      <td>119932.485575</td>\n",
       "    </tr>\n",
       "    <tr>\n",
       "      <th>1526</th>\n",
       "      <td>120674.967245</td>\n",
       "    </tr>\n",
       "    <tr>\n",
       "      <th>1527</th>\n",
       "      <td>120535.402657</td>\n",
       "    </tr>\n",
       "    <tr>\n",
       "      <th>1528</th>\n",
       "      <td>132175.946316</td>\n",
       "    </tr>\n",
       "    <tr>\n",
       "      <th>1529</th>\n",
       "      <td>129701.154157</td>\n",
       "    </tr>\n",
       "    <tr>\n",
       "      <th>1530</th>\n",
       "      <td>141188.304969</td>\n",
       "    </tr>\n",
       "    <tr>\n",
       "      <th>1625</th>\n",
       "      <td>115840.343478</td>\n",
       "    </tr>\n",
       "    <tr>\n",
       "      <th>1626</th>\n",
       "      <td>143328.346304</td>\n",
       "    </tr>\n",
       "    <tr>\n",
       "      <th>1648</th>\n",
       "      <td>129951.546342</td>\n",
       "    </tr>\n",
       "    <tr>\n",
       "      <th>1649</th>\n",
       "      <td>123595.758161</td>\n",
       "    </tr>\n",
       "    <tr>\n",
       "      <th>1650</th>\n",
       "      <td>115038.824949</td>\n",
       "    </tr>\n",
       "    <tr>\n",
       "      <th>...</th>\n",
       "      <td>...</td>\n",
       "    </tr>\n",
       "    <tr>\n",
       "      <th>1617</th>\n",
       "      <td>105677.605385</td>\n",
       "    </tr>\n",
       "    <tr>\n",
       "      <th>2242</th>\n",
       "      <td>103579.022808</td>\n",
       "    </tr>\n",
       "    <tr>\n",
       "      <th>2243</th>\n",
       "      <td>122502.221873</td>\n",
       "    </tr>\n",
       "    <tr>\n",
       "      <th>2244</th>\n",
       "      <td>101522.114612</td>\n",
       "    </tr>\n",
       "    <tr>\n",
       "      <th>2245</th>\n",
       "      <td>101522.114612</td>\n",
       "    </tr>\n",
       "    <tr>\n",
       "      <th>2247</th>\n",
       "      <td>105677.605385</td>\n",
       "    </tr>\n",
       "    <tr>\n",
       "      <th>2602</th>\n",
       "      <td>105677.605385</td>\n",
       "    </tr>\n",
       "    <tr>\n",
       "      <th>2603</th>\n",
       "      <td>101678.877691</td>\n",
       "    </tr>\n",
       "    <tr>\n",
       "      <th>2604</th>\n",
       "      <td>105677.605385</td>\n",
       "    </tr>\n",
       "    <tr>\n",
       "      <th>2605</th>\n",
       "      <td>105677.605385</td>\n",
       "    </tr>\n",
       "    <tr>\n",
       "      <th>2907</th>\n",
       "      <td>114682.636819</td>\n",
       "    </tr>\n",
       "    <tr>\n",
       "      <th>2910</th>\n",
       "      <td>88427.573542</td>\n",
       "    </tr>\n",
       "    <tr>\n",
       "      <th>2911</th>\n",
       "      <td>105677.605385</td>\n",
       "    </tr>\n",
       "    <tr>\n",
       "      <th>2913</th>\n",
       "      <td>105677.605385</td>\n",
       "    </tr>\n",
       "    <tr>\n",
       "      <th>2914</th>\n",
       "      <td>105677.605385</td>\n",
       "    </tr>\n",
       "    <tr>\n",
       "      <th>2915</th>\n",
       "      <td>105677.605385</td>\n",
       "    </tr>\n",
       "    <tr>\n",
       "      <th>2916</th>\n",
       "      <td>105677.605385</td>\n",
       "    </tr>\n",
       "    <tr>\n",
       "      <th>1737</th>\n",
       "      <td>244219.083598</td>\n",
       "    </tr>\n",
       "    <tr>\n",
       "      <th>1744</th>\n",
       "      <td>215860.159580</td>\n",
       "    </tr>\n",
       "    <tr>\n",
       "      <th>1745</th>\n",
       "      <td>219724.515198</td>\n",
       "    </tr>\n",
       "    <tr>\n",
       "      <th>1746</th>\n",
       "      <td>294461.054823</td>\n",
       "    </tr>\n",
       "    <tr>\n",
       "      <th>2022</th>\n",
       "      <td>194960.501541</td>\n",
       "    </tr>\n",
       "    <tr>\n",
       "      <th>2039</th>\n",
       "      <td>181113.112234</td>\n",
       "    </tr>\n",
       "    <tr>\n",
       "      <th>2040</th>\n",
       "      <td>349603.073289</td>\n",
       "    </tr>\n",
       "    <tr>\n",
       "      <th>2041</th>\n",
       "      <td>213953.543282</td>\n",
       "    </tr>\n",
       "    <tr>\n",
       "      <th>2362</th>\n",
       "      <td>294915.740208</td>\n",
       "    </tr>\n",
       "    <tr>\n",
       "      <th>2375</th>\n",
       "      <td>199833.389191</td>\n",
       "    </tr>\n",
       "    <tr>\n",
       "      <th>2376</th>\n",
       "      <td>279304.107336</td>\n",
       "    </tr>\n",
       "    <tr>\n",
       "      <th>2377</th>\n",
       "      <td>294233.975077</td>\n",
       "    </tr>\n",
       "    <tr>\n",
       "      <th>2711</th>\n",
       "      <td>311640.309259</td>\n",
       "    </tr>\n",
       "  </tbody>\n",
       "</table>\n",
       "<p>1459 rows × 1 columns</p>\n",
       "</div>"
      ],
      "text/plain": [
       "          SalePrice\n",
       "Id                 \n",
       "1461  116467.605664\n",
       "1462  137639.237889\n",
       "1470  115840.343478\n",
       "1471  138064.631105\n",
       "1510  132584.454470\n",
       "1511  131413.382966\n",
       "1512  147592.326017\n",
       "1513  163477.188381\n",
       "1514  160540.132254\n",
       "1515  212998.913359\n",
       "1516  150234.542326\n",
       "1517  127370.923418\n",
       "1518  153042.081496\n",
       "1519  145894.228314\n",
       "1520  128110.029253\n",
       "1521  131261.399045\n",
       "1522  151631.814176\n",
       "1523  138064.631105\n",
       "1524  124265.015030\n",
       "1525  119932.485575\n",
       "1526  120674.967245\n",
       "1527  120535.402657\n",
       "1528  132175.946316\n",
       "1529  129701.154157\n",
       "1530  141188.304969\n",
       "1625  115840.343478\n",
       "1626  143328.346304\n",
       "1648  129951.546342\n",
       "1649  123595.758161\n",
       "1650  115038.824949\n",
       "...             ...\n",
       "1617  105677.605385\n",
       "2242  103579.022808\n",
       "2243  122502.221873\n",
       "2244  101522.114612\n",
       "2245  101522.114612\n",
       "2247  105677.605385\n",
       "2602  105677.605385\n",
       "2603  101678.877691\n",
       "2604  105677.605385\n",
       "2605  105677.605385\n",
       "2907  114682.636819\n",
       "2910   88427.573542\n",
       "2911  105677.605385\n",
       "2913  105677.605385\n",
       "2914  105677.605385\n",
       "2915  105677.605385\n",
       "2916  105677.605385\n",
       "1737  244219.083598\n",
       "1744  215860.159580\n",
       "1745  219724.515198\n",
       "1746  294461.054823\n",
       "2022  194960.501541\n",
       "2039  181113.112234\n",
       "2040  349603.073289\n",
       "2041  213953.543282\n",
       "2362  294915.740208\n",
       "2375  199833.389191\n",
       "2376  279304.107336\n",
       "2377  294233.975077\n",
       "2711  311640.309259\n",
       "\n",
       "[1459 rows x 1 columns]"
      ]
     },
     "execution_count": 35,
     "metadata": {},
     "output_type": "execute_result"
    }
   ],
   "source": [
    "df"
   ]
  },
  {
   "cell_type": "markdown",
   "metadata": {},
   "source": [
    "## Simple submission"
   ]
  },
  {
   "cell_type": "code",
   "execution_count": 117,
   "metadata": {},
   "outputs": [],
   "source": [
    "# re-fit on full set\n",
    "X = full2.loc[(full2.Set=='traintrain') | (full2.Set=='traintest'), fields]\n",
    "y = full2.loc[(full2.Set=='traintrain') | (full2.Set=='traintest'),  'lSalePrice']\n",
    "simple_lin_reg=LinearRegression()\n",
    "simple_lin_reg.fit(X, y)\n",
    "?simple_lin_reg"
   ]
  },
  {
   "cell_type": "code",
   "execution_count": 122,
   "metadata": {},
   "outputs": [
    {
     "ename": "ValueError",
     "evalue": "Input contains NaN, infinity or a value too large for dtype('float64').",
     "output_type": "error",
     "traceback": [
      "\u001b[1;31m---------------------------------------------------------------------------\u001b[0m",
      "\u001b[1;31mValueError\u001b[0m                                Traceback (most recent call last)",
      "\u001b[1;32m<ipython-input-122-a25bd07307b3>\u001b[0m in \u001b[0;36m<module>\u001b[1;34m()\u001b[0m\n\u001b[0;32m      1\u001b[0m \u001b[0mX\u001b[0m \u001b[1;33m=\u001b[0m \u001b[0mfull2\u001b[0m\u001b[1;33m.\u001b[0m\u001b[0mloc\u001b[0m\u001b[1;33m[\u001b[0m\u001b[1;33m(\u001b[0m\u001b[0mfull2\u001b[0m\u001b[1;33m.\u001b[0m\u001b[0mSet\u001b[0m\u001b[1;33m==\u001b[0m\u001b[1;34m'test'\u001b[0m\u001b[1;33m)\u001b[0m \u001b[1;33m,\u001b[0m \u001b[0mfields\u001b[0m\u001b[1;33m]\u001b[0m\u001b[1;33m\u001b[0m\u001b[0m\n\u001b[1;32m----> 2\u001b[1;33m \u001b[0mpredicted\u001b[0m \u001b[1;33m=\u001b[0m \u001b[0mnp\u001b[0m\u001b[1;33m.\u001b[0m\u001b[0mexp\u001b[0m\u001b[1;33m(\u001b[0m\u001b[0msimple_lin_reg\u001b[0m\u001b[1;33m.\u001b[0m\u001b[0mpredict\u001b[0m\u001b[1;33m(\u001b[0m\u001b[0mX\u001b[0m\u001b[1;33m)\u001b[0m\u001b[1;33m)\u001b[0m\u001b[1;33m\u001b[0m\u001b[0m\n\u001b[0m\u001b[0;32m      3\u001b[0m \u001b[1;31m#predicted = simple_lin_reg.predict(X)\u001b[0m\u001b[1;33m\u001b[0m\u001b[1;33m\u001b[0m\u001b[0m\n\u001b[0;32m      4\u001b[0m \u001b[0mdf\u001b[0m \u001b[1;33m=\u001b[0m \u001b[0mpd\u001b[0m\u001b[1;33m.\u001b[0m\u001b[0mDataFrame\u001b[0m\u001b[1;33m(\u001b[0m\u001b[0mindex\u001b[0m\u001b[1;33m=\u001b[0m\u001b[0mfull2\u001b[0m\u001b[1;33m.\u001b[0m\u001b[0mloc\u001b[0m\u001b[1;33m[\u001b[0m\u001b[1;33m(\u001b[0m\u001b[0mfull2\u001b[0m\u001b[1;33m.\u001b[0m\u001b[0mSet\u001b[0m\u001b[1;33m==\u001b[0m\u001b[1;34m'test'\u001b[0m\u001b[1;33m)\u001b[0m \u001b[1;33m,\u001b[0m \u001b[0mfields\u001b[0m\u001b[1;33m]\u001b[0m\u001b[1;33m.\u001b[0m\u001b[0mindex\u001b[0m\u001b[1;33m,\u001b[0m \u001b[0mdata\u001b[0m\u001b[1;33m=\u001b[0m\u001b[0mpredicted\u001b[0m\u001b[1;33m,\u001b[0m \u001b[0mcolumns\u001b[0m\u001b[1;33m=\u001b[0m\u001b[1;33m[\u001b[0m\u001b[1;34m'SalePrice'\u001b[0m\u001b[1;33m]\u001b[0m\u001b[1;33m)\u001b[0m\u001b[1;33m\u001b[0m\u001b[0m\n\u001b[0;32m      5\u001b[0m \u001b[0mdf\u001b[0m\u001b[1;33m.\u001b[0m\u001b[0mhead\u001b[0m\u001b[1;33m(\u001b[0m\u001b[1;33m)\u001b[0m\u001b[1;33m\u001b[0m\u001b[0m\n",
      "\u001b[1;32mC:\\Users\\jsciamma\\AppData\\Local\\Continuum\\Anaconda3\\lib\\site-packages\\sklearn\\linear_model\\base.py\u001b[0m in \u001b[0;36mpredict\u001b[1;34m(self, X)\u001b[0m\n\u001b[0;32m    266\u001b[0m             \u001b[0mReturns\u001b[0m \u001b[0mpredicted\u001b[0m \u001b[0mvalues\u001b[0m\u001b[1;33m.\u001b[0m\u001b[1;33m\u001b[0m\u001b[0m\n\u001b[0;32m    267\u001b[0m         \"\"\"\n\u001b[1;32m--> 268\u001b[1;33m         \u001b[1;32mreturn\u001b[0m \u001b[0mself\u001b[0m\u001b[1;33m.\u001b[0m\u001b[0m_decision_function\u001b[0m\u001b[1;33m(\u001b[0m\u001b[0mX\u001b[0m\u001b[1;33m)\u001b[0m\u001b[1;33m\u001b[0m\u001b[0m\n\u001b[0m\u001b[0;32m    269\u001b[0m \u001b[1;33m\u001b[0m\u001b[0m\n\u001b[0;32m    270\u001b[0m     \u001b[0m_preprocess_data\u001b[0m \u001b[1;33m=\u001b[0m \u001b[0mstaticmethod\u001b[0m\u001b[1;33m(\u001b[0m\u001b[0m_preprocess_data\u001b[0m\u001b[1;33m)\u001b[0m\u001b[1;33m\u001b[0m\u001b[0m\n",
      "\u001b[1;32mC:\\Users\\jsciamma\\AppData\\Local\\Continuum\\Anaconda3\\lib\\site-packages\\sklearn\\linear_model\\base.py\u001b[0m in \u001b[0;36m_decision_function\u001b[1;34m(self, X)\u001b[0m\n\u001b[0;32m    249\u001b[0m         \u001b[0mcheck_is_fitted\u001b[0m\u001b[1;33m(\u001b[0m\u001b[0mself\u001b[0m\u001b[1;33m,\u001b[0m \u001b[1;34m\"coef_\"\u001b[0m\u001b[1;33m)\u001b[0m\u001b[1;33m\u001b[0m\u001b[0m\n\u001b[0;32m    250\u001b[0m \u001b[1;33m\u001b[0m\u001b[0m\n\u001b[1;32m--> 251\u001b[1;33m         \u001b[0mX\u001b[0m \u001b[1;33m=\u001b[0m \u001b[0mcheck_array\u001b[0m\u001b[1;33m(\u001b[0m\u001b[0mX\u001b[0m\u001b[1;33m,\u001b[0m \u001b[0maccept_sparse\u001b[0m\u001b[1;33m=\u001b[0m\u001b[1;33m[\u001b[0m\u001b[1;34m'csr'\u001b[0m\u001b[1;33m,\u001b[0m \u001b[1;34m'csc'\u001b[0m\u001b[1;33m,\u001b[0m \u001b[1;34m'coo'\u001b[0m\u001b[1;33m]\u001b[0m\u001b[1;33m)\u001b[0m\u001b[1;33m\u001b[0m\u001b[0m\n\u001b[0m\u001b[0;32m    252\u001b[0m         return safe_sparse_dot(X, self.coef_.T,\n\u001b[0;32m    253\u001b[0m                                dense_output=True) + self.intercept_\n",
      "\u001b[1;32mC:\\Users\\jsciamma\\AppData\\Local\\Continuum\\Anaconda3\\lib\\site-packages\\sklearn\\utils\\validation.py\u001b[0m in \u001b[0;36mcheck_array\u001b[1;34m(array, accept_sparse, dtype, order, copy, force_all_finite, ensure_2d, allow_nd, ensure_min_samples, ensure_min_features, warn_on_dtype, estimator)\u001b[0m\n\u001b[0;32m    405\u001b[0m                              % (array.ndim, estimator_name))\n\u001b[0;32m    406\u001b[0m         \u001b[1;32mif\u001b[0m \u001b[0mforce_all_finite\u001b[0m\u001b[1;33m:\u001b[0m\u001b[1;33m\u001b[0m\u001b[0m\n\u001b[1;32m--> 407\u001b[1;33m             \u001b[0m_assert_all_finite\u001b[0m\u001b[1;33m(\u001b[0m\u001b[0marray\u001b[0m\u001b[1;33m)\u001b[0m\u001b[1;33m\u001b[0m\u001b[0m\n\u001b[0m\u001b[0;32m    408\u001b[0m \u001b[1;33m\u001b[0m\u001b[0m\n\u001b[0;32m    409\u001b[0m     \u001b[0mshape_repr\u001b[0m \u001b[1;33m=\u001b[0m \u001b[0m_shape_repr\u001b[0m\u001b[1;33m(\u001b[0m\u001b[0marray\u001b[0m\u001b[1;33m.\u001b[0m\u001b[0mshape\u001b[0m\u001b[1;33m)\u001b[0m\u001b[1;33m\u001b[0m\u001b[0m\n",
      "\u001b[1;32mC:\\Users\\jsciamma\\AppData\\Local\\Continuum\\Anaconda3\\lib\\site-packages\\sklearn\\utils\\validation.py\u001b[0m in \u001b[0;36m_assert_all_finite\u001b[1;34m(X)\u001b[0m\n\u001b[0;32m     56\u001b[0m             and not np.isfinite(X).all()):\n\u001b[0;32m     57\u001b[0m         raise ValueError(\"Input contains NaN, infinity\"\n\u001b[1;32m---> 58\u001b[1;33m                          \" or a value too large for %r.\" % X.dtype)\n\u001b[0m\u001b[0;32m     59\u001b[0m \u001b[1;33m\u001b[0m\u001b[0m\n\u001b[0;32m     60\u001b[0m \u001b[1;33m\u001b[0m\u001b[0m\n",
      "\u001b[1;31mValueError\u001b[0m: Input contains NaN, infinity or a value too large for dtype('float64')."
     ]
    }
   ],
   "source": [
    "X = full2.loc[(full2.Set=='test') , fields]\n",
    "predicted = np.exp(simple_lin_reg.predict(X))\n",
    "#predicted = simple_lin_reg.predict(X)\n",
    "df = pd.DataFrame(index=full2.loc[(full2.Set=='test') , fields].index, data=predicted, columns=['SalePrice'])\n",
    "df.head()"
   ]
  },
  {
   "cell_type": "code",
   "execution_count": 162,
   "metadata": {},
   "outputs": [
    {
     "ename": "ValueError",
     "evalue": "Input contains NaN, infinity or a value too large for dtype('float64').",
     "output_type": "error",
     "traceback": [
      "\u001b[1;31m---------------------------------------------------------------------------\u001b[0m",
      "\u001b[1;31mValueError\u001b[0m                                Traceback (most recent call last)",
      "\u001b[1;32m<ipython-input-162-ddd069712364>\u001b[0m in \u001b[0;36m<module>\u001b[1;34m()\u001b[0m\n\u001b[0;32m      1\u001b[0m \u001b[0mnp\u001b[0m\u001b[1;33m.\u001b[0m\u001b[0mexp\u001b[0m\u001b[1;33m(\u001b[0m\u001b[0msimple_lin_reg\u001b[0m\u001b[1;33m.\u001b[0m\u001b[0mintercept_\u001b[0m\u001b[1;33m+\u001b[0m\u001b[0msimple_lin_reg\u001b[0m\u001b[1;33m.\u001b[0m\u001b[0mcoef_\u001b[0m\u001b[1;33m.\u001b[0m\u001b[0mreshape\u001b[0m\u001b[1;33m(\u001b[0m\u001b[1;36m1\u001b[0m\u001b[1;33m,\u001b[0m\u001b[1;36m44\u001b[0m\u001b[1;33m)\u001b[0m\u001b[1;33m.\u001b[0m\u001b[0mdot\u001b[0m\u001b[1;33m(\u001b[0m\u001b[0mX\u001b[0m\u001b[1;33m.\u001b[0m\u001b[0mT\u001b[0m\u001b[1;33m)\u001b[0m\u001b[1;33m)\u001b[0m\u001b[1;33m\u001b[0m\u001b[0m\n\u001b[1;32m----> 2\u001b[1;33m \u001b[0msimple_lin_reg\u001b[0m\u001b[1;33m.\u001b[0m\u001b[0mpredict\u001b[0m\u001b[1;33m(\u001b[0m\u001b[0mX\u001b[0m\u001b[1;33m)\u001b[0m\u001b[1;33m\u001b[0m\u001b[0m\n\u001b[0m",
      "\u001b[1;32mC:\\Users\\jsciamma\\AppData\\Local\\Continuum\\Anaconda3\\lib\\site-packages\\sklearn\\linear_model\\base.py\u001b[0m in \u001b[0;36mpredict\u001b[1;34m(self, X)\u001b[0m\n\u001b[0;32m    266\u001b[0m             \u001b[0mReturns\u001b[0m \u001b[0mpredicted\u001b[0m \u001b[0mvalues\u001b[0m\u001b[1;33m.\u001b[0m\u001b[1;33m\u001b[0m\u001b[0m\n\u001b[0;32m    267\u001b[0m         \"\"\"\n\u001b[1;32m--> 268\u001b[1;33m         \u001b[1;32mreturn\u001b[0m \u001b[0mself\u001b[0m\u001b[1;33m.\u001b[0m\u001b[0m_decision_function\u001b[0m\u001b[1;33m(\u001b[0m\u001b[0mX\u001b[0m\u001b[1;33m)\u001b[0m\u001b[1;33m\u001b[0m\u001b[0m\n\u001b[0m\u001b[0;32m    269\u001b[0m \u001b[1;33m\u001b[0m\u001b[0m\n\u001b[0;32m    270\u001b[0m     \u001b[0m_preprocess_data\u001b[0m \u001b[1;33m=\u001b[0m \u001b[0mstaticmethod\u001b[0m\u001b[1;33m(\u001b[0m\u001b[0m_preprocess_data\u001b[0m\u001b[1;33m)\u001b[0m\u001b[1;33m\u001b[0m\u001b[0m\n",
      "\u001b[1;32mC:\\Users\\jsciamma\\AppData\\Local\\Continuum\\Anaconda3\\lib\\site-packages\\sklearn\\linear_model\\base.py\u001b[0m in \u001b[0;36m_decision_function\u001b[1;34m(self, X)\u001b[0m\n\u001b[0;32m    249\u001b[0m         \u001b[0mcheck_is_fitted\u001b[0m\u001b[1;33m(\u001b[0m\u001b[0mself\u001b[0m\u001b[1;33m,\u001b[0m \u001b[1;34m\"coef_\"\u001b[0m\u001b[1;33m)\u001b[0m\u001b[1;33m\u001b[0m\u001b[0m\n\u001b[0;32m    250\u001b[0m \u001b[1;33m\u001b[0m\u001b[0m\n\u001b[1;32m--> 251\u001b[1;33m         \u001b[0mX\u001b[0m \u001b[1;33m=\u001b[0m \u001b[0mcheck_array\u001b[0m\u001b[1;33m(\u001b[0m\u001b[0mX\u001b[0m\u001b[1;33m,\u001b[0m \u001b[0maccept_sparse\u001b[0m\u001b[1;33m=\u001b[0m\u001b[1;33m[\u001b[0m\u001b[1;34m'csr'\u001b[0m\u001b[1;33m,\u001b[0m \u001b[1;34m'csc'\u001b[0m\u001b[1;33m,\u001b[0m \u001b[1;34m'coo'\u001b[0m\u001b[1;33m]\u001b[0m\u001b[1;33m)\u001b[0m\u001b[1;33m\u001b[0m\u001b[0m\n\u001b[0m\u001b[0;32m    252\u001b[0m         return safe_sparse_dot(X, self.coef_.T,\n\u001b[0;32m    253\u001b[0m                                dense_output=True) + self.intercept_\n",
      "\u001b[1;32mC:\\Users\\jsciamma\\AppData\\Local\\Continuum\\Anaconda3\\lib\\site-packages\\sklearn\\utils\\validation.py\u001b[0m in \u001b[0;36mcheck_array\u001b[1;34m(array, accept_sparse, dtype, order, copy, force_all_finite, ensure_2d, allow_nd, ensure_min_samples, ensure_min_features, warn_on_dtype, estimator)\u001b[0m\n\u001b[0;32m    405\u001b[0m                              % (array.ndim, estimator_name))\n\u001b[0;32m    406\u001b[0m         \u001b[1;32mif\u001b[0m \u001b[0mforce_all_finite\u001b[0m\u001b[1;33m:\u001b[0m\u001b[1;33m\u001b[0m\u001b[0m\n\u001b[1;32m--> 407\u001b[1;33m             \u001b[0m_assert_all_finite\u001b[0m\u001b[1;33m(\u001b[0m\u001b[0marray\u001b[0m\u001b[1;33m)\u001b[0m\u001b[1;33m\u001b[0m\u001b[0m\n\u001b[0m\u001b[0;32m    408\u001b[0m \u001b[1;33m\u001b[0m\u001b[0m\n\u001b[0;32m    409\u001b[0m     \u001b[0mshape_repr\u001b[0m \u001b[1;33m=\u001b[0m \u001b[0m_shape_repr\u001b[0m\u001b[1;33m(\u001b[0m\u001b[0marray\u001b[0m\u001b[1;33m.\u001b[0m\u001b[0mshape\u001b[0m\u001b[1;33m)\u001b[0m\u001b[1;33m\u001b[0m\u001b[0m\n",
      "\u001b[1;32mC:\\Users\\jsciamma\\AppData\\Local\\Continuum\\Anaconda3\\lib\\site-packages\\sklearn\\utils\\validation.py\u001b[0m in \u001b[0;36m_assert_all_finite\u001b[1;34m(X)\u001b[0m\n\u001b[0;32m     56\u001b[0m             and not np.isfinite(X).all()):\n\u001b[0;32m     57\u001b[0m         raise ValueError(\"Input contains NaN, infinity\"\n\u001b[1;32m---> 58\u001b[1;33m                          \" or a value too large for %r.\" % X.dtype)\n\u001b[0m\u001b[0;32m     59\u001b[0m \u001b[1;33m\u001b[0m\u001b[0m\n\u001b[0;32m     60\u001b[0m \u001b[1;33m\u001b[0m\u001b[0m\n",
      "\u001b[1;31mValueError\u001b[0m: Input contains NaN, infinity or a value too large for dtype('float64')."
     ]
    }
   ],
   "source": [
    "np.exp(simple_lin_reg.intercept_+simple_lin_reg.coef_.reshape(1,44).dot(X.T))\n",
    "simple_lin_reg.predict(X)"
   ]
  },
  {
   "cell_type": "code",
   "execution_count": 22,
   "metadata": {
    "collapsed": true
   },
   "outputs": [],
   "source": [
    "if True:\n",
    "    df.to_csv(\"output\\\\result_20171120_2327.csv\")"
   ]
  }
 ],
 "metadata": {
  "kernelspec": {
   "display_name": "Python 3",
   "language": "python",
   "name": "python3"
  },
  "language_info": {
   "codemirror_mode": {
    "name": "ipython",
    "version": 3
   },
   "file_extension": ".py",
   "mimetype": "text/x-python",
   "name": "python",
   "nbconvert_exporter": "python",
   "pygments_lexer": "ipython3",
   "version": "3.6.1"
  }
 },
 "nbformat": 4,
 "nbformat_minor": 2
}
